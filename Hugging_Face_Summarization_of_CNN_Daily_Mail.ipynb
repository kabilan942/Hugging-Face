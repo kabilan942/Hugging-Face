{
  "cells": [
    {
      "cell_type": "markdown",
      "metadata": {
        "id": "view-in-github",
        "colab_type": "text"
      },
      "source": [
        "<a href=\"https://colab.research.google.com/github/kabilan942/Hugging-Face/blob/main/Hugging_Face_Summarization_of_CNN_Daily_Mail.ipynb\" target=\"_parent\"><img src=\"https://colab.research.google.com/assets/colab-badge.svg\" alt=\"Open In Colab\"/></a>"
      ]
    },
    {
      "cell_type": "markdown",
      "metadata": {
        "id": "Z_SBSHIYTMhh"
      },
      "source": [
        "# **Hugging Face - Summarization of CNN Daily Mail Dataset**"
      ]
    },
    {
      "cell_type": "markdown",
      "metadata": {
        "id": "YFHhfmIrTrWP"
      },
      "source": [
        "## **Installing transformers and Exploring Dataset**"
      ]
    },
    {
      "cell_type": "code",
      "execution_count": null,
      "metadata": {
        "colab": {
          "base_uri": "https://localhost:8080/"
        },
        "id": "pCvyuZp7TsJS",
        "outputId": "0f86cc40-80ce-4f31-c044-5824d3ad98f7"
      },
      "outputs": [
        {
          "output_type": "stream",
          "name": "stdout",
          "text": [
            "Looking in indexes: https://pypi.org/simple, https://us-python.pkg.dev/colab-wheels/public/simple/\n",
            "Collecting transformers\n",
            "  Downloading transformers-4.23.1-py3-none-any.whl (5.3 MB)\n",
            "\u001b[K     |████████████████████████████████| 5.3 MB 15.3 MB/s \n",
            "\u001b[?25hCollecting huggingface-hub<1.0,>=0.10.0\n",
            "  Downloading huggingface_hub-0.10.1-py3-none-any.whl (163 kB)\n",
            "\u001b[K     |████████████████████████████████| 163 kB 62.3 MB/s \n",
            "\u001b[?25hRequirement already satisfied: importlib-metadata in /usr/local/lib/python3.7/dist-packages (from transformers) (4.13.0)\n",
            "Requirement already satisfied: pyyaml>=5.1 in /usr/local/lib/python3.7/dist-packages (from transformers) (6.0)\n",
            "Requirement already satisfied: requests in /usr/local/lib/python3.7/dist-packages (from transformers) (2.23.0)\n",
            "Requirement already satisfied: packaging>=20.0 in /usr/local/lib/python3.7/dist-packages (from transformers) (21.3)\n",
            "Collecting tokenizers!=0.11.3,<0.14,>=0.11.1\n",
            "  Downloading tokenizers-0.13.1-cp37-cp37m-manylinux_2_17_x86_64.manylinux2014_x86_64.whl (7.6 MB)\n",
            "\u001b[K     |████████████████████████████████| 7.6 MB 56.0 MB/s \n",
            "\u001b[?25hRequirement already satisfied: numpy>=1.17 in /usr/local/lib/python3.7/dist-packages (from transformers) (1.21.6)\n",
            "Requirement already satisfied: filelock in /usr/local/lib/python3.7/dist-packages (from transformers) (3.8.0)\n",
            "Requirement already satisfied: regex!=2019.12.17 in /usr/local/lib/python3.7/dist-packages (from transformers) (2022.6.2)\n",
            "Requirement already satisfied: tqdm>=4.27 in /usr/local/lib/python3.7/dist-packages (from transformers) (4.64.1)\n",
            "Requirement already satisfied: typing-extensions>=3.7.4.3 in /usr/local/lib/python3.7/dist-packages (from huggingface-hub<1.0,>=0.10.0->transformers) (4.1.1)\n",
            "Requirement already satisfied: pyparsing!=3.0.5,>=2.0.2 in /usr/local/lib/python3.7/dist-packages (from packaging>=20.0->transformers) (3.0.9)\n",
            "Requirement already satisfied: zipp>=0.5 in /usr/local/lib/python3.7/dist-packages (from importlib-metadata->transformers) (3.9.0)\n",
            "Requirement already satisfied: chardet<4,>=3.0.2 in /usr/local/lib/python3.7/dist-packages (from requests->transformers) (3.0.4)\n",
            "Requirement already satisfied: certifi>=2017.4.17 in /usr/local/lib/python3.7/dist-packages (from requests->transformers) (2022.9.24)\n",
            "Requirement already satisfied: idna<3,>=2.5 in /usr/local/lib/python3.7/dist-packages (from requests->transformers) (2.10)\n",
            "Requirement already satisfied: urllib3!=1.25.0,!=1.25.1,<1.26,>=1.21.1 in /usr/local/lib/python3.7/dist-packages (from requests->transformers) (1.24.3)\n",
            "Installing collected packages: tokenizers, huggingface-hub, transformers\n",
            "Successfully installed huggingface-hub-0.10.1 tokenizers-0.13.1 transformers-4.23.1\n"
          ]
        }
      ],
      "source": [
        "!pip install transformers"
      ]
    },
    {
      "cell_type": "code",
      "execution_count": null,
      "metadata": {
        "colab": {
          "base_uri": "https://localhost:8080/"
        },
        "id": "A9N979HoTuqQ",
        "outputId": "2f3dc5be-89d7-4246-b20e-ad29a746302b"
      },
      "outputs": [
        {
          "output_type": "stream",
          "name": "stdout",
          "text": [
            "Looking in indexes: https://pypi.org/simple, https://us-python.pkg.dev/colab-wheels/public/simple/\n",
            "Collecting datasets\n",
            "  Downloading datasets-2.6.1-py3-none-any.whl (441 kB)\n",
            "\u001b[K     |████████████████████████████████| 441 kB 15.5 MB/s \n",
            "\u001b[?25hRequirement already satisfied: fsspec[http]>=2021.11.1 in /usr/local/lib/python3.7/dist-packages (from datasets) (2022.8.2)\n",
            "Collecting xxhash\n",
            "  Downloading xxhash-3.1.0-cp37-cp37m-manylinux_2_17_x86_64.manylinux2014_x86_64.whl (212 kB)\n",
            "\u001b[K     |████████████████████████████████| 212 kB 71.5 MB/s \n",
            "\u001b[?25hRequirement already satisfied: pyarrow>=6.0.0 in /usr/local/lib/python3.7/dist-packages (from datasets) (6.0.1)\n",
            "Requirement already satisfied: huggingface-hub<1.0.0,>=0.2.0 in /usr/local/lib/python3.7/dist-packages (from datasets) (0.10.1)\n",
            "Requirement already satisfied: packaging in /usr/local/lib/python3.7/dist-packages (from datasets) (21.3)\n",
            "Collecting responses<0.19\n",
            "  Downloading responses-0.18.0-py3-none-any.whl (38 kB)\n",
            "Requirement already satisfied: dill<0.3.6 in /usr/local/lib/python3.7/dist-packages (from datasets) (0.3.5.1)\n",
            "Requirement already satisfied: requests>=2.19.0 in /usr/local/lib/python3.7/dist-packages (from datasets) (2.23.0)\n",
            "Requirement already satisfied: tqdm>=4.62.1 in /usr/local/lib/python3.7/dist-packages (from datasets) (4.64.1)\n",
            "Requirement already satisfied: pandas in /usr/local/lib/python3.7/dist-packages (from datasets) (1.3.5)\n",
            "Requirement already satisfied: pyyaml>=5.1 in /usr/local/lib/python3.7/dist-packages (from datasets) (6.0)\n",
            "Requirement already satisfied: importlib-metadata in /usr/local/lib/python3.7/dist-packages (from datasets) (4.13.0)\n",
            "Requirement already satisfied: aiohttp in /usr/local/lib/python3.7/dist-packages (from datasets) (3.8.3)\n",
            "Collecting multiprocess\n",
            "  Downloading multiprocess-0.70.14-py37-none-any.whl (115 kB)\n",
            "\u001b[K     |████████████████████████████████| 115 kB 67.5 MB/s \n",
            "\u001b[?25hRequirement already satisfied: numpy>=1.17 in /usr/local/lib/python3.7/dist-packages (from datasets) (1.21.6)\n",
            "Requirement already satisfied: typing-extensions>=3.7.4 in /usr/local/lib/python3.7/dist-packages (from aiohttp->datasets) (4.1.1)\n",
            "Requirement already satisfied: asynctest==0.13.0 in /usr/local/lib/python3.7/dist-packages (from aiohttp->datasets) (0.13.0)\n",
            "Requirement already satisfied: attrs>=17.3.0 in /usr/local/lib/python3.7/dist-packages (from aiohttp->datasets) (22.1.0)\n",
            "Requirement already satisfied: yarl<2.0,>=1.0 in /usr/local/lib/python3.7/dist-packages (from aiohttp->datasets) (1.8.1)\n",
            "Requirement already satisfied: aiosignal>=1.1.2 in /usr/local/lib/python3.7/dist-packages (from aiohttp->datasets) (1.2.0)\n",
            "Requirement already satisfied: charset-normalizer<3.0,>=2.0 in /usr/local/lib/python3.7/dist-packages (from aiohttp->datasets) (2.1.1)\n",
            "Requirement already satisfied: async-timeout<5.0,>=4.0.0a3 in /usr/local/lib/python3.7/dist-packages (from aiohttp->datasets) (4.0.2)\n",
            "Requirement already satisfied: multidict<7.0,>=4.5 in /usr/local/lib/python3.7/dist-packages (from aiohttp->datasets) (6.0.2)\n",
            "Requirement already satisfied: frozenlist>=1.1.1 in /usr/local/lib/python3.7/dist-packages (from aiohttp->datasets) (1.3.1)\n",
            "Requirement already satisfied: filelock in /usr/local/lib/python3.7/dist-packages (from huggingface-hub<1.0.0,>=0.2.0->datasets) (3.8.0)\n",
            "Requirement already satisfied: pyparsing!=3.0.5,>=2.0.2 in /usr/local/lib/python3.7/dist-packages (from packaging->datasets) (3.0.9)\n",
            "Requirement already satisfied: certifi>=2017.4.17 in /usr/local/lib/python3.7/dist-packages (from requests>=2.19.0->datasets) (2022.9.24)\n",
            "Requirement already satisfied: idna<3,>=2.5 in /usr/local/lib/python3.7/dist-packages (from requests>=2.19.0->datasets) (2.10)\n",
            "Requirement already satisfied: chardet<4,>=3.0.2 in /usr/local/lib/python3.7/dist-packages (from requests>=2.19.0->datasets) (3.0.4)\n",
            "Requirement already satisfied: urllib3!=1.25.0,!=1.25.1,<1.26,>=1.21.1 in /usr/local/lib/python3.7/dist-packages (from requests>=2.19.0->datasets) (1.24.3)\n",
            "Collecting urllib3!=1.25.0,!=1.25.1,<1.26,>=1.21.1\n",
            "  Downloading urllib3-1.25.11-py2.py3-none-any.whl (127 kB)\n",
            "\u001b[K     |████████████████████████████████| 127 kB 72.3 MB/s \n",
            "\u001b[?25hRequirement already satisfied: zipp>=0.5 in /usr/local/lib/python3.7/dist-packages (from importlib-metadata->datasets) (3.9.0)\n",
            "Collecting multiprocess\n",
            "  Downloading multiprocess-0.70.13-py37-none-any.whl (115 kB)\n",
            "\u001b[K     |████████████████████████████████| 115 kB 67.5 MB/s \n",
            "\u001b[?25hRequirement already satisfied: python-dateutil>=2.7.3 in /usr/local/lib/python3.7/dist-packages (from pandas->datasets) (2.8.2)\n",
            "Requirement already satisfied: pytz>=2017.3 in /usr/local/lib/python3.7/dist-packages (from pandas->datasets) (2022.4)\n",
            "Requirement already satisfied: six>=1.5 in /usr/local/lib/python3.7/dist-packages (from python-dateutil>=2.7.3->pandas->datasets) (1.15.0)\n",
            "Installing collected packages: urllib3, xxhash, responses, multiprocess, datasets\n",
            "  Attempting uninstall: urllib3\n",
            "    Found existing installation: urllib3 1.24.3\n",
            "    Uninstalling urllib3-1.24.3:\n",
            "      Successfully uninstalled urllib3-1.24.3\n",
            "Successfully installed datasets-2.6.1 multiprocess-0.70.13 responses-0.18.0 urllib3-1.25.11 xxhash-3.1.0\n"
          ]
        }
      ],
      "source": [
        "!pip install datasets"
      ]
    },
    {
      "cell_type": "code",
      "source": [
        "# !git config --global user.email \"kabilanp942@gmail.com\"\n",
        "# !git config --global user.name \"Kabilan.P\""
      ],
      "metadata": {
        "id": "5NN8XPVA0XTQ"
      },
      "execution_count": null,
      "outputs": []
    },
    {
      "cell_type": "code",
      "source": [
        "# from huggingface_hub import notebook_login\n",
        "\n",
        "# notebook_login()"
      ],
      "metadata": {
        "id": "62HSV_Zl0ZjQ"
      },
      "execution_count": null,
      "outputs": []
    },
    {
      "cell_type": "code",
      "execution_count": null,
      "metadata": {
        "colab": {
          "base_uri": "https://localhost:8080/",
          "height": 87,
          "referenced_widgets": [
            "cca736bf11704d35b534af5de2c1d851",
            "99dc07ca37f24ec193f1296e2a5c91d7",
            "4ee452762c7d47bda27c62f36cbe44b5",
            "56b00bdf0e384addbf5e9475a74fb44d",
            "75c137a004d2494a9fc88a467e27d976",
            "4cbfb8201e214d4ab8213fa134f0c523",
            "fe916f1375a243488e1d4494b44520a7",
            "7a71060b83584c159e60b88cb8aa428f",
            "de464f9d939245be80e6b7e00dcc49ed",
            "0fba505ac18c4b81acdb7050c0adcd4f",
            "14804d285eba48bdb14c3b0c199d3abc"
          ]
        },
        "id": "DVEr-DOwTz_2",
        "outputId": "03d9b362-b2f2-4ca3-c57f-4ac927144693"
      },
      "outputs": [
        {
          "output_type": "stream",
          "name": "stderr",
          "text": [
            "WARNING:datasets.builder:Found cached dataset cnn_dailymail (/root/.cache/huggingface/datasets/cnn_dailymail/3.0.0/3.0.0/1b3c71476f6d152c31c1730e83ccb08bcf23e348233f4fcc11e182248e6bf7de)\n"
          ]
        },
        {
          "output_type": "display_data",
          "data": {
            "text/plain": [
              "  0%|          | 0/3 [00:00<?, ?it/s]"
            ],
            "application/vnd.jupyter.widget-view+json": {
              "version_major": 2,
              "version_minor": 0,
              "model_id": "cca736bf11704d35b534af5de2c1d851"
            }
          },
          "metadata": {}
        }
      ],
      "source": [
        "from datasets import load_dataset\n",
        "\n",
        "datasets = load_dataset('cnn_dailymail','3.0.0')"
      ]
    },
    {
      "cell_type": "code",
      "execution_count": null,
      "metadata": {
        "id": "iJZCYD4pT0DQ",
        "colab": {
          "base_uri": "https://localhost:8080/"
        },
        "outputId": "a9d898f5-545c-408c-d63c-bc801865b268"
      },
      "outputs": [
        {
          "output_type": "execute_result",
          "data": {
            "text/plain": [
              "DatasetDict({\n",
              "    train: Dataset({\n",
              "        features: ['article', 'highlights', 'id'],\n",
              "        num_rows: 287113\n",
              "    })\n",
              "    validation: Dataset({\n",
              "        features: ['article', 'highlights', 'id'],\n",
              "        num_rows: 13368\n",
              "    })\n",
              "    test: Dataset({\n",
              "        features: ['article', 'highlights', 'id'],\n",
              "        num_rows: 11490\n",
              "    })\n",
              "})"
            ]
          },
          "metadata": {},
          "execution_count": 29
        }
      ],
      "source": [
        "datasets"
      ]
    },
    {
      "cell_type": "code",
      "source": [
        "datasets['train'][3]"
      ],
      "metadata": {
        "colab": {
          "base_uri": "https://localhost:8080/"
        },
        "id": "9D6E49chlv3p",
        "outputId": "ff0d8d59-39b5-422b-81cc-63799fba6ecb"
      },
      "execution_count": null,
      "outputs": [
        {
          "output_type": "execute_result",
          "data": {
            "text/plain": [
              "{'article': 'WASHINGTON (CNN) -- Doctors removed five small polyps from President Bush\\'s colon on Saturday, and \"none appeared worrisome,\" a White House spokesman said. The polyps were removed and sent to the National Naval Medical Center in Bethesda, Maryland, for routine microscopic examination, spokesman Scott Stanzel said. Results are expected in two to three days. All were small, less than a centimeter [half an inch] in diameter, he said. Bush is in good humor, Stanzel said, and will resume his activities at Camp David. During the procedure Vice President Dick Cheney assumed presidential power. Bush reclaimed presidential power at 9:21 a.m. after about two hours. Doctors used \"monitored anesthesia care,\" Stanzel said, so the president was asleep, but not as deeply unconscious as with a true general anesthetic. He spoke to first lady Laura Bush -- who is in Midland, Texas, celebrating her mother\\'s birthday -- before and after the procedure, Stanzel said. Afterward, the president played with his Scottish terriers, Barney and Miss Beazley, Stanzel said. He planned to have lunch at Camp David and have briefings with National Security Adviser Stephen Hadley and White House Chief of Staff Josh Bolten, and planned to take a bicycle ride Saturday afternoon. Cheney, meanwhile, spent the morning at his home on Maryland\\'s eastern shore, reading and playing with his dogs, Stanzel said. Nothing occurred that required him to take official action as president before Bush reclaimed presidential power. The procedure was supervised by Dr. Richard Tubb, Bush\\'s physician, and conducted by a multidisciplinary team from the National Naval Medical Center in Bethesda, Maryland, the White House said. Bush\\'s last colonoscopy was in June 2002, and no abnormalities were found, White House spokesman Tony Snow said. The president\\'s doctor had recommended a repeat procedure in about five years. A colonoscopy is the most sensitive test for colon cancer, rectal cancer and polyps, small clumps of cells that can become cancerous, according to the Mayo Clinic. Small polyps may be removed during the procedure. Snow said on Friday that Bush had polyps removed during colonoscopies before becoming president. Snow himself is undergoing chemotherapy for cancer that began in his colon and spread to his liver.  Watch Snow talk about Bush\\'s procedure and his own colon cancer » . \"The president wants to encourage everybody to use surveillance,\" Snow said. The American Cancer Society recommends that people without high risk factors or symptoms begin getting screened for signs of colorectal cancer at age 50. E-mail to a friend .',\n",
              " 'highlights': 'Five small polyps found during procedure; \"none worrisome,\" spokesman says .\\nPresident reclaims powers transferred to vice president .\\nBush undergoes routine colonoscopy at Camp David .',\n",
              " 'id': '24521a2abb2e1f5e34e6824e0f9e56904a2b0e88'}"
            ]
          },
          "metadata": {},
          "execution_count": 30
        }
      ]
    },
    {
      "cell_type": "markdown",
      "source": [
        "Since each article is accompanied by a short highlight, we can use the highlights as the target summaries for our model to learn from.\n",
        "\n",
        "Therefore, the review information we are interested in is contained in the **'articles'** and 'highlights' columns."
      ],
      "metadata": {
        "id": "GYCuJGRU0iHI"
      }
    },
    {
      "cell_type": "code",
      "source": [
        "def show_samples(dataset, num_samples=3, seed=42):\n",
        "  sample = dataset[\"train\"].shuffle(seed=seed).select(range(num_samples))   \n",
        "  # dataset['train'] used as Dataset for shuffle() and dataset[\"train\"].shuffle(seed=seed) is used as Dataset for select()\n",
        "  for example in sample:\n",
        "    print()\n",
        "    print(\">> Article: {}\".format(example['article']))\n",
        "    print(\">> Highlights: {}\".format(example['highlights']))\n",
        "\n",
        "show_samples(datasets)   # num_samples = 3 and seed = 42"
      ],
      "metadata": {
        "colab": {
          "base_uri": "https://localhost:8080/"
        },
        "id": "4r1am3Ran52T",
        "outputId": "928d9d69-7c23-4ec1-c572-9b732c64525a"
      },
      "execution_count": null,
      "outputs": [
        {
          "output_type": "stream",
          "name": "stderr",
          "text": [
            "WARNING:datasets.arrow_dataset:Loading cached shuffled indices for dataset at /root/.cache/huggingface/datasets/cnn_dailymail/3.0.0/3.0.0/1b3c71476f6d152c31c1730e83ccb08bcf23e348233f4fcc11e182248e6bf7de/cache-7d0683495a29c6ed.arrow\n"
          ]
        },
        {
          "output_type": "stream",
          "name": "stdout",
          "text": [
            "\n",
            ">> Article: By . Anthony Bond . PUBLISHED: . 07:03 EST, 2 March 2013 . | . UPDATED: . 08:07 EST, 2 March 2013 . Three members of the same family who died in a static caravan from carbon monoxide poisoning would have been unconscious 'within minutes', investigators said today. The bodies of married couple John and Audrey Cook were discovered alongside their daughter, Maureen, at the mobile home they shared on Tremarle Home Park in Camborne, west Cornwall. The inquests have now opened into the deaths last Saturday, with investigators saying the three died along with the family's pet dog, of carbon monoxide poisoning from a cooker. Tragic: The inquests have opened into the deaths of three members of the same family who were found in their static caravan last weekend. John and Audrey Cook are pictured . Awful: The family died following carbon monoxide poisoning at this caravan at the Tremarle Home Park in Camborne, Cornwall . It is also believed there was no working carbon monoxide detector in the static caravan. Cornwall Fire and Rescue Service said this would have resulted in the three being unconscious 'within minutes', . A spokesman for Cornwall coroner Dr Emma Carlyon confirmed the inquests were opened and adjourned yesterday afternoon. They will resume at a later date. Devon and Cornwall Police confirmed on Monday that carbon monoxide poisoning had been established as the cause of death. A police spokesman said the source of the poisoning was 'believed to be from incorrect operation of the gas cooker'. Poisoning: This woman left flowers outside the caravan following the deaths. It has emerged that the trio would have been unconscious 'within minutes' Touching: This tribute was left outside the caravan following news of the deaths . Early readings from experts at the site revealed a potentially lethal level of carbon monoxide present within the caravan at the time it was taken, shortly after the discovery of the bodies. Friends and neighbours have paid tribute to the trio. One . neighbour, Sonya Owen, 53, said: 'It's very distressing. I knew the . daughter, she was living her with her mum and dad. Everybody is really . upset.' Margaret Holmes, 65, who lived near the couple and their . daughter, said: 'They had lived here for around 40 years and they kept . themselves to themselves. 'I just can’t believe this has . happened, it is so sad and I am so shocked, I think we all are, you just . don’t expect this sort of thing to happen on your doorstep. 'Everyone will miss them, we used to chat a lot when we were both in the garden. 'I would just like to send my condolences to their family, I can’t imagine what they’re going through.' Nic Clark, 52, who was good friends with daughter Maureen, added: 'They were a lovely kind family, a great trio. 'Maureen . used to go out and walk her dog, a little Jack Russell, it is so sad . what has happened, I understand the dog went with them. 'They . will be sorely missed and I think everyone is just in shock at the . moment, I would like to send my condolences to the Cook family.'\n",
            ">> Highlights: John and .\n",
            "Audrey Cook were discovered alongside their daughter, Maureen .\n",
            "They were found at Tremarle Home Park in Cornwall .\n",
            "Investigators say the three died of carbon monoxide .\n",
            "poisoning .\n",
            "\n",
            ">> Article: UNITED NATIONS (CNN) -- A rare meeting of U.N. Security Council heads of state, led for the first time by a U.S. president, adopted a resolution focused on stopping the spread of nuclear weapons Thursday. President Obama is the first U.S. leader to head a United Nations Security Council meeting. President Obama challenged the gathering -- which included leaders of nuclear powers including Russia, China, Great Britain and France -- to overcome cynicism against the goal of ridding the planet of nuclear arms. \"We harbor no illusions about the difficulty of bringing about a world without nuclear weapons,\" Obama said, adding that Thursday's meeting signaled a significant step forward in cooperative global action. The resolution, which was adopted unanimously, calls for tighter controls on nuclear materials to prevent them from being used for military purposes or stolen. It also encourages enforcement of international treaties and U.N. resolutions regarding nuclear non-proliferation, particularly when nations such as Iran and North Korea are in violation. \"The world must stand together,\" Obama said. \"We must demonstrate that international law is not an empty promise.\" It was the first Security Council summit chaired by a U.S. president, and only the fifth time that Security Council heads of state have met. Obama led the meeting because the United States holds the revolving presidency of the Security Council in September. Both Obama and Russian President Dimitry Medvedev, who spoke later, said the world's two nuclear superpowers were working on reducing their stockpiles in advance of a global nuclear summit scheduled for next year. \"It's obvious that an effective solution ... depends on the constructive engagement of all parties,\" Medvedev said, adding that he expected the Russia-U.S. leadership on the issue to be backed by \"all nuclear powers.\" The measure passed Thursday -- Security Council resolution 1887 -- calls for \"locking down vulnerable nuclear weapons materials in four years\" while minimizing civilian use of weapons-grade uranium. It encourages full compliance with all international treaties and resolutions on nuclear non-proliferation and disarmament, including Security Council resolutions that cite North Korea and Iran for failing to adhere to international commitments. In addition, the resolution supports the peaceful use of nuclear energy, a theme backed by Chinese President Hu Jintao. China seeks to expand its nuclear energy capacity as part of an economic development plan that holds down greenhouse gas emissions that cause climate change. British Prime Minister Gordon Brown also cited the role of nuclear power as a clean energy source that should be part of the solution to global warming affecting every nation. Brown and other leaders spoke of the need to prevent nuclear weapons or the materials to make them from ending up in the hands of terrorist groups. \"The biggest risk the world faces today is of extremists getting hold of nuclear materials,\" said Mohammad ElBaradei, director general of the International Atomic Energy Agency. Libyan leader Moammar Gadhafi, who criticized the Security Council on Wednesday in a rambling speech to the U.N. General Assembly, was absent for the meeting. In Libya's turn to speak at the summit, its special representative to the United Nations called for the IAEA to inspect all nuclear programs, including Israel's, instead of focusing on non-nuclear states. Asked later about Gadhafi's absence, White House spokesman Robert Gibbs said Libya could serve as an example to Iran and North Korea as a nation that gave up its nuclear weapons program and now had rejoined the full international community. \"I think the message that the Libyans had at the Security Council is a message that we hope that the Iranians and the North Koreans will take to heart, and that is giving up a nuclear weapons program and the benefits that it can have for international cooperation and for their reintegration into an international community,\" Gibbs said. Brown earlier called for sanctions against Iran for its efforts to develop a nuclear weapon. On Wednesday, Medvedev signaled that Russia -- which previously has opposed such move -- also could support sanctions against Iran. \"Russia's position is clear: sanctions rarely lead to productive results, but in some cases sanctions are inevitable,\" Medvedev said in a joint appearance with Obama after they met in New York. The statement bolsters U.S.-led efforts for increased international pressure on Iran to adhere to nonproliferation agreements in pursuing the development of nuclear energy. Iran claims its nuclear program is intended for peaceful purposes, but the international community accuses it of continuing to try to develop nuclear weapons capability. The Iranian mission to the United Nations released a statement after the Security Council meeting, saying the country's nuclear activities \"are and always have been, for peaceful purposes, and, therefore, pose no threat whatsoever.\" \"In practicing its legitimate right to develop nuclear energy technology, Iran has always maintained its need for nuclear power as an alternative source of energy to supply its booming population and rapid development. ... Our commitment to nonproliferation remains intact,\" the statement added. The United States and Russia previously have disagreed over Iran, and over possible steps the Security Council may take -- including imposing sanctions -- to push Tehran to comply with U.N. demands concerning its nuclear program. Last week, Obama announced that the United States was dropping plans to base a missile defense shield system in Poland and the Czech Republic, a proposal that had rankled Moscow. He has denied the change was directly linked to Russia's position regarding sanctions on Iran, but said any Russian shift in that direction would be a bonus.\n",
            ">> Highlights: NEW: Libya can serve as example of cooperation, White House spokesman says .\n",
            "Resolution calls for preventing nuclear weapons from being stolen, used by military .\n",
            "Obama, Russian President Dimitry Medvedev working to reduce stockpiles .\n",
            "Venezuelan president Hugo Chavez on \"Larry King Live\" tonight, 9 ET .\n",
            "\n",
            ">> Article: Cover-up: Former Archbishop Lord Hope allowed a paedophile priest to escape punishment for sex crimes, a judge's report claims . A former archbishop who failed to act on alleged crimes of a paedophile priest should be jailed, the abuser’s victims have said. Lord Hope, the former Archbishop of York, did not act on 19 occasions when allegations of abuse or inappropriate conduct by the priest were raised with him, a scathing report revealed yesterday. But despite that, Lord Hope remains as an honorary assistant bishop in the Diocese of Bradford. Eli Ward and Bim Atkinson, who were among seven victims of the Very Reverend Robert Waddington, former Dean of Manchester, said it is ‘incredible’ that the man who did nothing to stop the priest has been allowed to keep his post. The report by Judge Sally Cahill QC said Lord Hope failed to act because his ‘concern for the welfare of Robert Waddington seems to have been paramount’. Waddington, who kept an official position in the church until 2005 and died in 2007, targeted young choirboys over several decades. One of the seven victims committed suicide in 1989. Mr Atkinson, 59, who was abused when Waddington was a priest in Australia in the 1960s, sent a picture of disgraced Tory peer Lord Archer, who was jailed for perjury, to the Bishop of North Queensland Bill Ray, adding: ‘I would be pushing for Lord Hope to be treated in the same way as this fellow.’ Mr Ward, now 41, was abused by Waddington between the ages of 11 and 15 as a chorister at Manchester Cathedral. He said: ‘It’s just incredible Lord Hope still has a position. Here is a guy who shoved it all under the carpet. 'He failed and failed to do anything and yet nothing has happened to him. He is still allowed to sit in the House of Lords.’ He added: ‘I’d like to see him punished. My opinion is that he’s committed a crime, perverting the course of justice, and should face the consequences.’ Robert Waddington died in 2007 - he had been accused of abusing seven different victims between 1955 and 1996 . Mr Ward said he left the choir when he was 15 after church officials became concerned – but the priest was allowed to remain as the dean in charge of the cathedral until 1993. Waddington then moved to York Minster, where more children were abused. He stayed in a lesser post there until 2005, despite the allegations made to Lord Hope, according to the report, which was commissioned by current Archbishop of York, the Most Reverend John Sentamu. Mr Ward said: ‘Here we had a church body which had been preaching at us to be morally correct yet, when it came to doing the same thing themselves, they were incapable.’ Mr Ward, now living in the Home Counties with a long-term girlfriend, added that he has put the abuse behind him. But he believes Waddington’s abuse was responsible for the death of another victim, a former chorister from Carlisle named in the report only as Peter, who was abused in the 1970s, developed depression and schizophrenia, and committed suicide in 1989. Lord Hope, 76, has described Judge Cahill’s report as ‘flawed’ but offered a ‘personal and profound apology’. He said: ‘This report makes it clear that not applying the policy is not the same as a cover-up. Hindsight is a wonderful thing.’\n",
            ">> Highlights: Very Reverend Robert Waddington sexually abused choirboys for decades .\n",
            "Inquiry into the abuse has slammed Lord Hope, former Archbishop of York .\n",
            "Report claims he was made aware of misconduct 19 times but did not act .\n",
            "Despite this - he still holds influential post and sits in the House of Lords .\n"
          ]
        }
      ]
    },
    {
      "cell_type": "markdown",
      "source": [
        "We’ll **filter out the examples with very short highlights** so that our model can produce more interesting summaries. Since we’re dealing with English texts, we can use a rough heuristic to split the titles on whitespace and then use Dataset.filter() method"
      ],
      "metadata": {
        "id": "Q_PviXki1Wbi"
      }
    },
    {
      "cell_type": "code",
      "source": [
        "datasets = datasets.filter(lambda x: (len(x['highlights'].split())>2))\n",
        "\n",
        "# the above filter filters out the samples from the dataset which has less than 2 words in its title (words seperated by a white space)"
      ],
      "metadata": {
        "id": "Rjg4bynm1Tl6"
      },
      "execution_count": null,
      "outputs": []
    },
    {
      "cell_type": "markdown",
      "source": [
        "## **Preprocessing the data**"
      ],
      "metadata": {
        "id": "bn9L1CUGn54o"
      }
    },
    {
      "cell_type": "code",
      "source": [
        "from transformers import AutoTokenizer\n",
        "\n",
        "model_checkpoint = \"t5-small\"\n",
        "tokenizer = AutoTokenizer.from_pretrained(model_checkpoint)"
      ],
      "metadata": {
        "colab": {
          "base_uri": "https://localhost:8080/",
          "height": 242,
          "referenced_widgets": [
            "dbd965406cd04beda69655863216635e",
            "f2fe55ec61ce4271ba2722a01eb32000",
            "8fe8b73c21824d3d8165d3b53e5adc70",
            "e2cf9f1cb95f44048667ecb7e56828b1",
            "e676b50f5a0c4c5b87b0aa0e7eb27472",
            "4884eeeb23f4409ca4ed17bb787cfdd1",
            "97436d4c3a3e465e9019de39e8906db9",
            "41e8cc6c66964692a48ecb99aa65eb87",
            "23b94899172a4932bc6e6c5ac172dce2",
            "9a2226a7d1744c94ae3c73317e43d979",
            "77eb154d13614f6fb97987255ef077bb",
            "a64b9146381d4c888b93119191ef7961",
            "9d5149917b47438ea508f47a1e525062",
            "3d66713e883247d6a2785848d2142e08",
            "dcb16307bb7b49f0ad1db0625b0307f3",
            "886acea31bfa46dcb76b2e95c2e21c12",
            "16695672a9b947a6b4c3e95386f09c52",
            "5bb3f42bd4b8484bb02cbc660aadb603",
            "bbac7d98c0c0491b9b06cf57e8eeebb3",
            "e82a550f217d49e782863f209aa9f470",
            "f8ff6ac7b01048ef8d34167574798ea5",
            "400061625034433db4215bf08c8e6cbe",
            "ba6cd6d438c34539a5e56d9b1c28e56f",
            "ff94b9b318964c11a328317ca6fc4411",
            "d9f20fd622974dac9d36c2c39f798748",
            "21dc85424692401db74ae809ee1f925b",
            "2a90657df58449b9889c9e73eb7f31b2",
            "0edf168f15054104a58d9d78c6bdc184",
            "4391d449023548d4be711cc6e3b9a922",
            "5c098e6c5184480c8d78332910ee38d9",
            "fd199486348d4bd987384e8fcb7763cc",
            "1475d3ff5f4a48078855095140724fbe",
            "39c6c62d7f2b4d0497cb13ab789da63b"
          ]
        },
        "id": "HOphLLVsn57L",
        "outputId": "a3dd6bfe-881c-4bf3-f6bd-bf015f87ac4a"
      },
      "execution_count": null,
      "outputs": [
        {
          "output_type": "display_data",
          "data": {
            "text/plain": [
              "Downloading:   0%|          | 0.00/1.20k [00:00<?, ?B/s]"
            ],
            "application/vnd.jupyter.widget-view+json": {
              "version_major": 2,
              "version_minor": 0,
              "model_id": "dbd965406cd04beda69655863216635e"
            }
          },
          "metadata": {}
        },
        {
          "output_type": "display_data",
          "data": {
            "text/plain": [
              "Downloading:   0%|          | 0.00/792k [00:00<?, ?B/s]"
            ],
            "application/vnd.jupyter.widget-view+json": {
              "version_major": 2,
              "version_minor": 0,
              "model_id": "a64b9146381d4c888b93119191ef7961"
            }
          },
          "metadata": {}
        },
        {
          "output_type": "display_data",
          "data": {
            "text/plain": [
              "Downloading:   0%|          | 0.00/1.39M [00:00<?, ?B/s]"
            ],
            "application/vnd.jupyter.widget-view+json": {
              "version_major": 2,
              "version_minor": 0,
              "model_id": "ba6cd6d438c34539a5e56d9b1c28e56f"
            }
          },
          "metadata": {}
        },
        {
          "output_type": "stream",
          "name": "stderr",
          "text": [
            "/usr/local/lib/python3.7/dist-packages/transformers/models/t5/tokenization_t5_fast.py:166: FutureWarning: This tokenizer was incorrectly instantiated with a model max length of 512 which will be corrected in Transformers v5.\n",
            "For now, this behavior is kept to avoid breaking backwards compatibility when padding/encoding with `truncation is True`.\n",
            "- Be aware that you SHOULD NOT rely on t5-small automatically truncating your input to 512 when padding/encoding.\n",
            "- If you want to encode/pad to sequences longer than 512 you can either instantiate this tokenizer with `model_max_length` or pass `max_length` when encoding/padding.\n",
            "- To avoid this warning, please instantiate this tokenizer with `model_max_length` set to your preferred value.\n",
            "  FutureWarning,\n"
          ]
        }
      ]
    },
    {
      "cell_type": "markdown",
      "source": [
        "Example of tokenization using 't5-small'"
      ],
      "metadata": {
        "id": "n5Mo7dyi1p-r"
      }
    },
    {
      "cell_type": "code",
      "source": [
        "inputs = tokenizer(\"I loved reading the Hunger Games!\")\n",
        "inputs"
      ],
      "metadata": {
        "colab": {
          "base_uri": "https://localhost:8080/"
        },
        "id": "okLBigQroPJZ",
        "outputId": "c342bb77-60b0-40cb-8b49-435a56a7dafd"
      },
      "execution_count": null,
      "outputs": [
        {
          "output_type": "execute_result",
          "data": {
            "text/plain": [
              "{'input_ids': [27, 1858, 1183, 8, 26049, 5880, 55, 1], 'attention_mask': [1, 1, 1, 1, 1, 1, 1, 1]}"
            ]
          },
          "metadata": {},
          "execution_count": 36
        }
      ]
    },
    {
      "cell_type": "code",
      "source": [
        "tokenizer.convert_ids_to_tokens(inputs['input_ids'])"
      ],
      "metadata": {
        "colab": {
          "base_uri": "https://localhost:8080/"
        },
        "id": "NeHc04l9oPMB",
        "outputId": "2cd062be-f1dc-417c-94d6-b90c32b2dcce"
      },
      "execution_count": null,
      "outputs": [
        {
          "output_type": "execute_result",
          "data": {
            "text/plain": [
              "['▁I', '▁loved', '▁reading', '▁the', '▁Hunger', '▁Games', '!', '</s>']"
            ]
          },
          "metadata": {},
          "execution_count": 37
        }
      ]
    },
    {
      "cell_type": "markdown",
      "source": [
        "We apply truncation to both the article and their highlights to ensure we don’t pass excessively long inputs to our model.\n",
        "\n",
        "The tokenizer has a **as_target_tokenizer()** function that allows you to tokenize the labels in parallel to the inputs.\n",
        "\n",
        "This is typically done using a context manager inside a preprocessing function that first encodes the inputs, and then encodes the labels as a separate column."
      ],
      "metadata": {
        "id": "J84eQcNo1wwC"
      }
    },
    {
      "cell_type": "code",
      "source": [
        "# Values for max_input_length and max_target_length, which set the upper limits for how long our article and their highlights can be\n",
        "# Since the article is typically much larger than the highlights, the values are scaled accordingly\n",
        "\n",
        "max_input_length = 400\n",
        "max_target_length = 100\n",
        "\n",
        "def preprocess_function(examples):\n",
        "  # Reviews are first tokenized\n",
        "  model_inputs = tokenizer(examples['article'], truncation=True, max_length=max_input_length)\n",
        "  # tokenizer for the target (highlights)\n",
        "  with tokenizer.as_target_tokenizer():\n",
        "    labels = tokenizer(examples['highlights'], truncation=True, max_length=max_target_length)\n",
        "  # The inputs are first encoded, and then the labels ('highlights') are encoded as a separate column\n",
        "  model_inputs['labels'] = labels['input_ids']\n",
        "  return model_inputs\n",
        "\n"
      ],
      "metadata": {
        "id": "PmL3ehJKoPOT"
      },
      "execution_count": null,
      "outputs": []
    },
    {
      "cell_type": "code",
      "source": [
        "tokenized_dataset = datasets.map(preprocess_function, batched=True)"
      ],
      "metadata": {
        "colab": {
          "base_uri": "https://localhost:8080/",
          "height": 169,
          "referenced_widgets": [
            "4f476e6425bd41049367215dfc1c1662",
            "7c89414e7ccc49fa89e8b8e7df999028",
            "bf5d6b264ece4c1fa3ed3a058613db25",
            "bb7da55d06484b73967b6f51035b447b",
            "626eb74e5d824f6dbfcdb7779b8d8bcb",
            "5d48bd4f6dff463aa7456c5b923292a3",
            "199786de8b1e44a7991ad14536e0e22b",
            "1b68d8f2837b4543b01aa1c3a5cf6729",
            "66fbeaa56bac473599aa7010baabe4fe",
            "5cd194ce6e6141749d65de5473e92bcf",
            "651091b02b4145b0a9e306e53a14c263",
            "3084b83d637d4e619fa5551228258a70",
            "e479157ffc7c42149af4eda59ba8fdb0",
            "570fc4a66ac34d0aad54b120219b1d3f",
            "347423ff054543a5a12c4277f2325091",
            "6bc9728093504bda8b8dbe901da654d2",
            "ed33d02c7cdb4a978016c07c01406cf0",
            "91907a32356847f0b7630cd956a36672",
            "03ebc46d1b5f4b4088326e5fc9a37f9a",
            "c42e97c81a404ed08ea03197c3b4eefb",
            "bc4a5b1d380e472db92c5db9a5be8838",
            "35ac158ac3b64aecb7e48ca8849bed8b",
            "4993012adcc04b44a49bcedbd922ba92",
            "76385f206ed14a91a6f2543487fafdcf",
            "0b2c493fcb6442f8b1f624217ece14cb",
            "e91878911e90433d8424a504cfe5ece8",
            "4b8760a2d47f4403877bafc05a0b0226",
            "3a4a8a4127d8431d80eb2032d7c1d29e",
            "441da4f021274a3191188f3a3e08156c",
            "a97f52aa6e1d443f81868a03c4d567ca",
            "d841ba161c2d492ba56573ce427d6fdc",
            "fadd6086a09e4b918902b1015ed2105b",
            "57767fd464cf43318cd4d72aa4deacce"
          ]
        },
        "id": "9xyjj_2woPQj",
        "outputId": "a0c606f2-0f55-43f9-e780-98dea5bac8da"
      },
      "execution_count": null,
      "outputs": [
        {
          "output_type": "display_data",
          "data": {
            "text/plain": [
              "  0%|          | 0/288 [00:00<?, ?ba/s]"
            ],
            "application/vnd.jupyter.widget-view+json": {
              "version_major": 2,
              "version_minor": 0,
              "model_id": "4f476e6425bd41049367215dfc1c1662"
            }
          },
          "metadata": {}
        },
        {
          "output_type": "stream",
          "name": "stderr",
          "text": [
            "/usr/local/lib/python3.7/dist-packages/transformers/tokenization_utils_base.py:3543: UserWarning: `as_target_tokenizer` is deprecated and will be removed in v5 of Transformers. You can tokenize your labels by using the argument `text_target` of the regular `__call__` method (either in the same call as your input texts if you use the same keyword arguments, or in a separate call.\n",
            "  \"`as_target_tokenizer` is deprecated and will be removed in v5 of Transformers. You can tokenize your \"\n"
          ]
        },
        {
          "output_type": "display_data",
          "data": {
            "text/plain": [
              "  0%|          | 0/14 [00:00<?, ?ba/s]"
            ],
            "application/vnd.jupyter.widget-view+json": {
              "version_major": 2,
              "version_minor": 0,
              "model_id": "3084b83d637d4e619fa5551228258a70"
            }
          },
          "metadata": {}
        },
        {
          "output_type": "display_data",
          "data": {
            "text/plain": [
              "  0%|          | 0/12 [00:00<?, ?ba/s]"
            ],
            "application/vnd.jupyter.widget-view+json": {
              "version_major": 2,
              "version_minor": 0,
              "model_id": "4993012adcc04b44a49bcedbd922ba92"
            }
          },
          "metadata": {}
        }
      ]
    },
    {
      "cell_type": "markdown",
      "source": [
        "We use batched=True in our Dataset.map() function above. This encodes the examples in batches of 1,000 (the default) and allows to make use of the multithreading capabilities of the fast tokenizers in Transformers."
      ],
      "metadata": {
        "id": "0DEH_bZa2JQ4"
      }
    },
    {
      "cell_type": "markdown",
      "source": [
        "## **Creating a Baseline**"
      ],
      "metadata": {
        "id": "Z3Bm_Fs3oZik"
      }
    },
    {
      "cell_type": "markdown",
      "source": [
        "A common baseline for text summarization is to simply take the first three sentences of an article, often called the lead-3 baseline. We could use full stops to track the sentence boundaries, but this will fail on acronyms like “U.S.”\n",
        "\n",
        "Se we'll use the nltk library"
      ],
      "metadata": {
        "id": "-rDc61_W2PFN"
      }
    },
    {
      "cell_type": "code",
      "source": [
        "! pip install nltk"
      ],
      "metadata": {
        "colab": {
          "base_uri": "https://localhost:8080/"
        },
        "id": "Bdj6KABYn59O",
        "outputId": "49d7636b-d5c4-4741-a3a8-e6bb788d2761"
      },
      "execution_count": null,
      "outputs": [
        {
          "output_type": "stream",
          "name": "stdout",
          "text": [
            "Looking in indexes: https://pypi.org/simple, https://us-python.pkg.dev/colab-wheels/public/simple/\n",
            "Requirement already satisfied: nltk in /usr/local/lib/python3.7/dist-packages (3.7)\n",
            "Requirement already satisfied: regex>=2021.8.3 in /usr/local/lib/python3.7/dist-packages (from nltk) (2022.6.2)\n",
            "Requirement already satisfied: click in /usr/local/lib/python3.7/dist-packages (from nltk) (7.1.2)\n",
            "Requirement already satisfied: joblib in /usr/local/lib/python3.7/dist-packages (from nltk) (1.2.0)\n",
            "Requirement already satisfied: tqdm in /usr/local/lib/python3.7/dist-packages (from nltk) (4.64.1)\n"
          ]
        }
      ]
    },
    {
      "cell_type": "markdown",
      "source": [
        "Download the Punctuation rules:"
      ],
      "metadata": {
        "id": "WPIbiaEU2RQQ"
      }
    },
    {
      "cell_type": "code",
      "source": [
        "import nltk \n",
        "\n",
        "nltk.download('punkt')"
      ],
      "metadata": {
        "colab": {
          "base_uri": "https://localhost:8080/"
        },
        "id": "dKCpFCZAoboy",
        "outputId": "808c7887-7526-421f-a2af-12721f046c39"
      },
      "execution_count": null,
      "outputs": [
        {
          "output_type": "stream",
          "name": "stderr",
          "text": [
            "[nltk_data] Downloading package punkt to /root/nltk_data...\n",
            "[nltk_data]   Unzipping tokenizers/punkt.zip.\n"
          ]
        },
        {
          "output_type": "execute_result",
          "data": {
            "text/plain": [
              "True"
            ]
          },
          "metadata": {},
          "execution_count": 41
        }
      ]
    },
    {
      "cell_type": "code",
      "source": [
        "from nltk.tokenize import sent_tokenize\n",
        "\n",
        "# s = '''Good muffins cost $3.88\\nin New York.  Please buy me two of them.\\n\\nThanks.'''\n",
        "# sent_tokenize(s)\n",
        "# ['Good muffins cost $3.88\\nin New York.', 'Please buy me\\ntwo of them.', 'Thanks.']\n",
        "\n",
        "# join method\n",
        "# myTuple = (\"John\", \"Peter\", \"Vicky\")\n",
        "# x = \"#\".join(myTuple); print(x)\n",
        "# OP: John#Peter#Vicky\n",
        "\n",
        "def three_sentence_summary(text):   # function to extract 1st 3 sentences in the text\n",
        "  return '\\n'.join(sent_tokenize(text)[:3])   # first 3 sentence only\n",
        "\n",
        "print(three_sentence_summary(datasets['train'][3]['article']))\n"
      ],
      "metadata": {
        "colab": {
          "base_uri": "https://localhost:8080/"
        },
        "id": "mWIMj4ghobrU",
        "outputId": "8be63a65-3bef-446b-f26f-01fc66b89c08"
      },
      "execution_count": null,
      "outputs": [
        {
          "output_type": "stream",
          "name": "stdout",
          "text": [
            "Five small polyps found during procedure; \"none worrisome,\" spokesman says .\n",
            "President reclaims powers transferred to vice president .\n",
            "Bush undergoes routine colonoscopy at Camp David .\n"
          ]
        }
      ]
    },
    {
      "cell_type": "markdown",
      "source": [
        "Let's define a function which extracts these 'summaries' (1st 3 sentences) and compute rouge scores for them with 'summaries' as predictions and the 'highlights' as references in .compute() method"
      ],
      "metadata": {
        "id": "noEnfIL42a6C"
      }
    },
    {
      "cell_type": "code",
      "source": [
        "def evaluate_baseline(dataset, metric):\n",
        "  summaries = [three_sentence_summary(text) for text in dataset['article']]\n",
        "  return metric.compute(predictions=summaries, references=dataset['highlights'])"
      ],
      "metadata": {
        "id": "eBo7zHj2obtu"
      },
      "execution_count": null,
      "outputs": []
    },
    {
      "cell_type": "markdown",
      "source": [
        "We can use this function to compute rouge scores over the validation set."
      ],
      "metadata": {
        "id": "FCL7XsbC2j0I"
      }
    },
    {
      "cell_type": "code",
      "source": [
        "!pip install rouge_score"
      ],
      "metadata": {
        "colab": {
          "base_uri": "https://localhost:8080/"
        },
        "id": "Wm4vCPHnobv_",
        "outputId": "fa0aea7e-5691-4151-83f5-05f17939aeea"
      },
      "execution_count": null,
      "outputs": [
        {
          "output_type": "stream",
          "name": "stdout",
          "text": [
            "Looking in indexes: https://pypi.org/simple, https://us-python.pkg.dev/colab-wheels/public/simple/\n",
            "Collecting rouge_score\n",
            "  Downloading rouge_score-0.1.2.tar.gz (17 kB)\n",
            "Requirement already satisfied: absl-py in /usr/local/lib/python3.7/dist-packages (from rouge_score) (1.3.0)\n",
            "Requirement already satisfied: nltk in /usr/local/lib/python3.7/dist-packages (from rouge_score) (3.7)\n",
            "Requirement already satisfied: numpy in /usr/local/lib/python3.7/dist-packages (from rouge_score) (1.21.6)\n",
            "Requirement already satisfied: six>=1.14.0 in /usr/local/lib/python3.7/dist-packages (from rouge_score) (1.15.0)\n",
            "Requirement already satisfied: tqdm in /usr/local/lib/python3.7/dist-packages (from nltk->rouge_score) (4.64.1)\n",
            "Requirement already satisfied: joblib in /usr/local/lib/python3.7/dist-packages (from nltk->rouge_score) (1.2.0)\n",
            "Requirement already satisfied: click in /usr/local/lib/python3.7/dist-packages (from nltk->rouge_score) (7.1.2)\n",
            "Requirement already satisfied: regex>=2021.8.3 in /usr/local/lib/python3.7/dist-packages (from nltk->rouge_score) (2022.6.2)\n",
            "Building wheels for collected packages: rouge-score\n",
            "  Building wheel for rouge-score (setup.py) ... \u001b[?25l\u001b[?25hdone\n",
            "  Created wheel for rouge-score: filename=rouge_score-0.1.2-py3-none-any.whl size=24955 sha256=9a08c98ec9d2a52d709bcb50eb3cc45e86351bf46f6af7b508b70fdaeec0df32\n",
            "  Stored in directory: /root/.cache/pip/wheels/84/ac/6b/38096e3c5bf1dc87911e3585875e21a3ac610348e740409c76\n",
            "Successfully built rouge-score\n",
            "Installing collected packages: rouge-score\n",
            "Successfully installed rouge-score-0.1.2\n"
          ]
        }
      ]
    },
    {
      "cell_type": "code",
      "source": [
        "!pip install datasets evaluate transformers[sentencepiece]"
      ],
      "metadata": {
        "colab": {
          "base_uri": "https://localhost:8080/"
        },
        "id": "ZTVc84UYobx6",
        "outputId": "84769230-7cd2-404c-83c8-e1500a035c1c"
      },
      "execution_count": null,
      "outputs": [
        {
          "output_type": "stream",
          "name": "stdout",
          "text": [
            "Looking in indexes: https://pypi.org/simple, https://us-python.pkg.dev/colab-wheels/public/simple/\n",
            "Requirement already satisfied: datasets in /usr/local/lib/python3.7/dist-packages (2.6.1)\n",
            "Collecting evaluate\n",
            "  Downloading evaluate-0.3.0-py3-none-any.whl (72 kB)\n",
            "\u001b[K     |████████████████████████████████| 72 kB 1.7 MB/s \n",
            "\u001b[?25hRequirement already satisfied: transformers[sentencepiece] in /usr/local/lib/python3.7/dist-packages (4.23.1)\n",
            "Requirement already satisfied: tqdm>=4.62.1 in /usr/local/lib/python3.7/dist-packages (from datasets) (4.64.1)\n",
            "Requirement already satisfied: packaging in /usr/local/lib/python3.7/dist-packages (from datasets) (21.3)\n",
            "Requirement already satisfied: pyarrow>=6.0.0 in /usr/local/lib/python3.7/dist-packages (from datasets) (6.0.1)\n",
            "Requirement already satisfied: numpy>=1.17 in /usr/local/lib/python3.7/dist-packages (from datasets) (1.21.6)\n",
            "Requirement already satisfied: xxhash in /usr/local/lib/python3.7/dist-packages (from datasets) (3.1.0)\n",
            "Requirement already satisfied: multiprocess in /usr/local/lib/python3.7/dist-packages (from datasets) (0.70.13)\n",
            "Requirement already satisfied: importlib-metadata in /usr/local/lib/python3.7/dist-packages (from datasets) (4.13.0)\n",
            "Requirement already satisfied: aiohttp in /usr/local/lib/python3.7/dist-packages (from datasets) (3.8.3)\n",
            "Requirement already satisfied: fsspec[http]>=2021.11.1 in /usr/local/lib/python3.7/dist-packages (from datasets) (2022.8.2)\n",
            "Requirement already satisfied: responses<0.19 in /usr/local/lib/python3.7/dist-packages (from datasets) (0.18.0)\n",
            "Requirement already satisfied: requests>=2.19.0 in /usr/local/lib/python3.7/dist-packages (from datasets) (2.23.0)\n",
            "Requirement already satisfied: pyyaml>=5.1 in /usr/local/lib/python3.7/dist-packages (from datasets) (6.0)\n",
            "Requirement already satisfied: huggingface-hub<1.0.0,>=0.2.0 in /usr/local/lib/python3.7/dist-packages (from datasets) (0.10.1)\n",
            "Requirement already satisfied: pandas in /usr/local/lib/python3.7/dist-packages (from datasets) (1.3.5)\n",
            "Requirement already satisfied: dill<0.3.6 in /usr/local/lib/python3.7/dist-packages (from datasets) (0.3.5.1)\n",
            "Requirement already satisfied: attrs>=17.3.0 in /usr/local/lib/python3.7/dist-packages (from aiohttp->datasets) (22.1.0)\n",
            "Requirement already satisfied: yarl<2.0,>=1.0 in /usr/local/lib/python3.7/dist-packages (from aiohttp->datasets) (1.8.1)\n",
            "Requirement already satisfied: typing-extensions>=3.7.4 in /usr/local/lib/python3.7/dist-packages (from aiohttp->datasets) (4.1.1)\n",
            "Requirement already satisfied: frozenlist>=1.1.1 in /usr/local/lib/python3.7/dist-packages (from aiohttp->datasets) (1.3.1)\n",
            "Requirement already satisfied: charset-normalizer<3.0,>=2.0 in /usr/local/lib/python3.7/dist-packages (from aiohttp->datasets) (2.1.1)\n",
            "Requirement already satisfied: async-timeout<5.0,>=4.0.0a3 in /usr/local/lib/python3.7/dist-packages (from aiohttp->datasets) (4.0.2)\n",
            "Requirement already satisfied: asynctest==0.13.0 in /usr/local/lib/python3.7/dist-packages (from aiohttp->datasets) (0.13.0)\n",
            "Requirement already satisfied: multidict<7.0,>=4.5 in /usr/local/lib/python3.7/dist-packages (from aiohttp->datasets) (6.0.2)\n",
            "Requirement already satisfied: aiosignal>=1.1.2 in /usr/local/lib/python3.7/dist-packages (from aiohttp->datasets) (1.2.0)\n",
            "Requirement already satisfied: filelock in /usr/local/lib/python3.7/dist-packages (from huggingface-hub<1.0.0,>=0.2.0->datasets) (3.8.0)\n",
            "Requirement already satisfied: pyparsing!=3.0.5,>=2.0.2 in /usr/local/lib/python3.7/dist-packages (from packaging->datasets) (3.0.9)\n",
            "Requirement already satisfied: certifi>=2017.4.17 in /usr/local/lib/python3.7/dist-packages (from requests>=2.19.0->datasets) (2022.9.24)\n",
            "Requirement already satisfied: idna<3,>=2.5 in /usr/local/lib/python3.7/dist-packages (from requests>=2.19.0->datasets) (2.10)\n",
            "Requirement already satisfied: urllib3!=1.25.0,!=1.25.1,<1.26,>=1.21.1 in /usr/local/lib/python3.7/dist-packages (from requests>=2.19.0->datasets) (1.25.11)\n",
            "Requirement already satisfied: chardet<4,>=3.0.2 in /usr/local/lib/python3.7/dist-packages (from requests>=2.19.0->datasets) (3.0.4)\n",
            "Requirement already satisfied: zipp>=0.5 in /usr/local/lib/python3.7/dist-packages (from importlib-metadata->datasets) (3.9.0)\n",
            "Requirement already satisfied: python-dateutil>=2.7.3 in /usr/local/lib/python3.7/dist-packages (from pandas->datasets) (2.8.2)\n",
            "Requirement already satisfied: pytz>=2017.3 in /usr/local/lib/python3.7/dist-packages (from pandas->datasets) (2022.4)\n",
            "Requirement already satisfied: six>=1.5 in /usr/local/lib/python3.7/dist-packages (from python-dateutil>=2.7.3->pandas->datasets) (1.15.0)\n",
            "Requirement already satisfied: tokenizers!=0.11.3,<0.14,>=0.11.1 in /usr/local/lib/python3.7/dist-packages (from transformers[sentencepiece]) (0.13.1)\n",
            "Requirement already satisfied: regex!=2019.12.17 in /usr/local/lib/python3.7/dist-packages (from transformers[sentencepiece]) (2022.6.2)\n",
            "Requirement already satisfied: protobuf<=3.20.2 in /usr/local/lib/python3.7/dist-packages (from transformers[sentencepiece]) (3.17.3)\n",
            "Collecting sentencepiece!=0.1.92,>=0.1.91\n",
            "  Downloading sentencepiece-0.1.97-cp37-cp37m-manylinux_2_17_x86_64.manylinux2014_x86_64.whl (1.3 MB)\n",
            "\u001b[K     |████████████████████████████████| 1.3 MB 31.8 MB/s \n",
            "\u001b[?25hInstalling collected packages: sentencepiece, evaluate\n",
            "Successfully installed evaluate-0.3.0 sentencepiece-0.1.97\n"
          ]
        }
      ]
    },
    {
      "cell_type": "code",
      "source": [
        "import evaluate\n",
        "\n",
        "rouge_score = evaluate.load('rouge')"
      ],
      "metadata": {
        "colab": {
          "base_uri": "https://localhost:8080/",
          "height": 49,
          "referenced_widgets": [
            "76d7049acefd4ce6a133bd44ff2a4ce7",
            "df9c121866144e11aa9225a4cc5f002d",
            "4442df9594f543eea99df97e46767d71",
            "7a64b65524d343e9b88e199ef9ced559",
            "a23ab9a59a7d44aaad797609bd61e874",
            "c26ec3759d014e8082fd3096fa8ccea9",
            "8bd1b19517964c889b552b0dbb41fd9e",
            "e0a1fb6555ff4c309b4099dd29a6f433",
            "e6d84dd117e94456b324fdac19ba56cb",
            "ba9daf738b684f0f936ee370f5088bc5",
            "54b3549c4be64325b10bd8b602dca6eb"
          ]
        },
        "id": "HU6IB5Zlolj7",
        "outputId": "baf53308-5fa3-4f8c-94a9-f4fd3a046619"
      },
      "execution_count": null,
      "outputs": [
        {
          "output_type": "display_data",
          "data": {
            "text/plain": [
              "Downloading builder script:   0%|          | 0.00/6.27k [00:00<?, ?B/s]"
            ],
            "application/vnd.jupyter.widget-view+json": {
              "version_major": 2,
              "version_minor": 0,
              "model_id": "76d7049acefd4ce6a133bd44ff2a4ce7"
            }
          },
          "metadata": {}
        }
      ]
    },
    {
      "cell_type": "code",
      "source": [
        "import pandas as pd\n",
        "\n",
        "# x = dict(name = \"John\", age = 36, country = \"Norway\")\n",
        "# OP: {'name': 'John', 'age': 36, 'country': 'Norway'}\n",
        "\n",
        "# round() -> returns a floating point number that is a rounded version of the specified number, with the specified number of decimals.\n",
        "# round(5.76543, 2) -> 5.77\n",
        "\n",
        "score = evaluate_baseline(datasets['validation'], rouge_score)\n",
        "rouge_names = [\"rouge1\", \"rouge2\", \"rougeL\", \"rougeLsum\"]\n",
        "rouge_dict = dict((rn, round(score[rn]*100, 2)) for rn in rouge_names)\n",
        "\n",
        "rouge_dict"
      ],
      "metadata": {
        "colab": {
          "base_uri": "https://localhost:8080/"
        },
        "id": "1nLyPshHolmR",
        "outputId": "de1f8724-45a9-44ff-e8d8-fe8a8ba21581"
      },
      "execution_count": null,
      "outputs": [
        {
          "output_type": "execute_result",
          "data": {
            "text/plain": [
              "{'rouge1': 39.5, 'rouge2': 17.56, 'rougeL': 24.96, 'rougeLsum': 36.12}"
            ]
          },
          "metadata": {},
          "execution_count": 47
        }
      ]
    },
    {
      "cell_type": "markdown",
      "source": [
        "We can see that the rouge2 score is significantly lower than the rest; this likely reflects the fact that highlights are typically concise and so the lead-3 baseline is too verbose (using or expressed in more words than are needed)."
      ],
      "metadata": {
        "id": "GaQkhz9B2nsx"
      }
    },
    {
      "cell_type": "markdown",
      "source": [
        "## **Fine-tuning T5 with the Trainer API**"
      ],
      "metadata": {
        "id": "UeKWo5q6olor"
      }
    },
    {
      "cell_type": "code",
      "source": [
        "from transformers import AutoModelForSeq2SeqLM\n",
        "\n",
        "# Seq2SeqLM: sequence-to-sequence language modeling head\n",
        "\n",
        "model = AutoModelForSeq2SeqLM.from_pretrained(model_checkpoint)  # model_checkpoint = \"t5-small\""
      ],
      "metadata": {
        "colab": {
          "base_uri": "https://localhost:8080/",
          "height": 49,
          "referenced_widgets": [
            "37979f2a67974fc4be970bd49d16d0b9",
            "66c86c9241354ead9b162eece444ef1a",
            "f2584235cf0d4866b05520f9557d2f48",
            "ac69f6b5393a4356864382128d09a935",
            "a8e3a49deb64420eb181304647f40df7",
            "b31c5dd49dda475286c542a4d70c34f7",
            "b4103bbb59ef46b0a2f99bf5ce9c33a1",
            "d1b1280048e04dc69a5312c4f7690c7b",
            "c2286b962eae49a28c985942ccb12e0b",
            "38f1818d63294ac1a6c5170ec2e22f87",
            "10c3745f60e141afb03a5bfecbabd5c9"
          ]
        },
        "id": "G9mPZFnYolq2",
        "outputId": "fd176565-1035-4810-c399-5f52f53f57cb"
      },
      "execution_count": null,
      "outputs": [
        {
          "output_type": "display_data",
          "data": {
            "text/plain": [
              "Downloading:   0%|          | 0.00/242M [00:00<?, ?B/s]"
            ],
            "application/vnd.jupyter.widget-view+json": {
              "version_major": 2,
              "version_minor": 0,
              "model_id": "37979f2a67974fc4be970bd49d16d0b9"
            }
          },
          "metadata": {}
        }
      ]
    },
    {
      "cell_type": "markdown",
      "source": [
        "We’ll need to generate summaries in order to compute ROUGE scores during training.\n",
        "\n",
        "Hugging Face transformers provides Seq2SeqTrainingArguments and Seq2SeqTrainer classes that can do this automatically."
      ],
      "metadata": {
        "id": "MViAH9Qp2vDY"
      }
    },
    {
      "cell_type": "code",
      "source": [
        "from transformers import Seq2SeqTrainingArguments\n",
        "\n",
        "# parameters of Seq2SeqTrainingArguments\n",
        "batch_size = 8\n",
        "num_training_epochs = 8\n",
        "logging_steps = len(tokenized_dataset[\"train\"])//8\n",
        "\n",
        "args = Seq2SeqTrainingArguments(evaluation_strategy='epoch',\n",
        "                                learning_rate=5.6e-5,\n",
        "                                per_device_train_batch_size=batch_size,\n",
        "                                per_device_eval_batch_size=batch_size,\n",
        "                                weight_decay=0.01,\n",
        "                                save_total_limit=3,\n",
        "                                num_train_epochs=num_training_epochs,\n",
        "                                predict_with_generate=True,\n",
        "                                logging_steps=logging_steps,\n",
        "                                output_dir=\"t5-finetuned-cnn-dailymail-english\")\n",
        "                               # push_to_hub=True\n",
        "\n",
        "# predict_with_generate argument has been set to True to indicate that we should generate summaries\n",
        "# during evaluation so that we can compute ROUGE scores for each epoch\n",
        "# The decoder performs inference by predicting tokens one by one, and this is implemented by the model’s \n",
        "# generate() method. Setting predict_with_generate=True tells the Seq2SeqTrainer to use that method for evaluation.\n",
        "# save_total_limit = 3 -> because even the “small” version of T5 uses around a GB of hard drive space"
      ],
      "metadata": {
        "id": "_ptiF8l8ob0A"
      },
      "execution_count": null,
      "outputs": []
    },
    {
      "cell_type": "markdown",
      "source": [
        "For summarization evaluation is a bit more involved than simply calling rouge_score.compute() on the model’s predictions, since we need to decode the outputs and labels into text before we can compute the ROUGE scores."
      ],
      "metadata": {
        "id": "tOf6B9tx217i"
      }
    },
    {
      "cell_type": "code",
      "source": [
        "import numpy as np\n",
        "\n",
        "def compute_metric(eval_pred):\n",
        "  predictions, labels = eval_pred\n",
        "  # Decode generated summaries into text (summaries generated from the review_body)\n",
        "  # batch_decode -> Returns List[str]; The list of decoded sentences; Convert a list of lists of token ids into a list of strings by calling decode.\n",
        "  decoded_preds = tokenizer.batch_decode(predictions, skip_special_tokens=True) # skip_special_tokens - Whether or not to remove special tokens in the decoding.\n",
        "  # Replace -100 in the labels as we can't decode them\n",
        "  labels = np.where(labels!=-100, labels, tokenizer.pad_token_id)\n",
        "  # Decode reference summaries into text ('review_title')\n",
        "  decoded_labels = tokenizer.batch_decode(labels, skip_special_tokens=True)\n",
        "  # ROUGE expects a newline after each sentence\n",
        "  # strip() method removes characters from both left and right based on the argument\n",
        "  decoded_preds = ['\\n'.join(sent_tokenize(pred.strip())) for pred in decoded_preds]\n",
        "  decoded_labels = ['\\n'.join(sent_tokenize(pred.strip())) for pred in decoded_labels]\n",
        "  # Computing ROUGE score\n",
        "  # Stemming is used to remove plurals and word suffixes such as (ing, ion, ment)\n",
        "  result = rouge_score.compute(predictions=decoded_preds, references=decoded_labels, use_stemmer=True)\n",
        "  result = {key: value*100 for key, value in result.items()}\n",
        "  return {k: round(v,4) for k, v in result.items()}"
      ],
      "metadata": {
        "id": "nrch6fdaoucT"
      },
      "execution_count": null,
      "outputs": []
    },
    {
      "cell_type": "markdown",
      "source": [
        "Next, we need to define a data collator for our sequence-to-sequence task. Since T5 is an encoder-decoder Transformer model, one subtlety with preparing our batches is that during decoding we need to shift the labels to the right by one. This is required to ensure that the decoder only sees the previous ground truth labels and not the current or future ones, which would be easy for the model to memorize.\n",
        "\n",
        "Hugging Face Transformers provides a **DataCollatorForSeq2Seq collator** that will dynamically pad the inputs and the labels for us. "
      ],
      "metadata": {
        "id": "my2hRWxr27JD"
      }
    },
    {
      "cell_type": "code",
      "source": [
        "from transformers import DataCollatorForSeq2Seq\n",
        "\n",
        "data_collator = DataCollatorForSeq2Seq(tokenizer, model=model)"
      ],
      "metadata": {
        "id": "uj_zoW3doufm"
      },
      "execution_count": null,
      "outputs": []
    },
    {
      "cell_type": "markdown",
      "source": [
        "First, we need to remove the columns with strings because the collator won’t know how to pad these elements"
      ],
      "metadata": {
        "id": "ijbQF_tD3EQy"
      }
    },
    {
      "cell_type": "code",
      "source": [
        "datasets['train'].column_names, len(datasets['train'].column_names)"
      ],
      "metadata": {
        "colab": {
          "base_uri": "https://localhost:8080/"
        },
        "id": "RlZqeJ6woujR",
        "outputId": "92389cd9-ce08-40ae-84b0-4d350b3a40d2"
      },
      "execution_count": null,
      "outputs": [
        {
          "output_type": "execute_result",
          "data": {
            "text/plain": [
              "(['article', 'highlights', 'id'], 3)"
            ]
          },
          "metadata": {},
          "execution_count": 91
        }
      ]
    },
    {
      "cell_type": "code",
      "source": [
        "tokenized_dataset['train'].column_names, len(tokenized_dataset['train'].column_names)"
      ],
      "metadata": {
        "colab": {
          "base_uri": "https://localhost:8080/"
        },
        "id": "hKU0XEvKpL2h",
        "outputId": "92db02c8-d7c2-4616-8f73-d87f051bac78"
      },
      "execution_count": null,
      "outputs": [
        {
          "output_type": "execute_result",
          "data": {
            "text/plain": [
              "(['input_ids', 'attention_mask', 'labels'], 3)"
            ]
          },
          "metadata": {},
          "execution_count": 86
        }
      ]
    },
    {
      "cell_type": "code",
      "source": [
        "tokenized_dataset = tokenized_dataset.remove_columns(datasets['train'].column_names)"
      ],
      "metadata": {
        "id": "RQhNhjsnpL5S"
      },
      "execution_count": null,
      "outputs": []
    },
    {
      "cell_type": "code",
      "source": [
        "tokenized_dataset['train'].column_names"
      ],
      "metadata": {
        "colab": {
          "base_uri": "https://localhost:8080/"
        },
        "id": "RmdkzC3ipL8L",
        "outputId": "2cb54884-b559-4d6f-8e6f-3caa25bb7a2d"
      },
      "execution_count": null,
      "outputs": [
        {
          "output_type": "execute_result",
          "data": {
            "text/plain": [
              "['input_ids', 'attention_mask', 'labels']"
            ]
          },
          "metadata": {},
          "execution_count": 58
        }
      ]
    },
    {
      "cell_type": "code",
      "source": [
        "features = [tokenized_dataset['train'][i] for i in range(2)]\n",
        "data_collator(features)\n",
        "\n",
        "# Notice we have info ['input_ids', 'attention_mask', 'labels'] for 2 examples"
      ],
      "metadata": {
        "id": "SVzUl2CEpL_C"
      },
      "execution_count": null,
      "outputs": []
    },
    {
      "cell_type": "markdown",
      "source": [
        "The first example is longer than the second one, so the input_ids and attention_mask of the second example have been padded on the right with a [PAD] token (whose ID is 0). Similarly, we can see that the labels have been padded with -100s, to make sure the padding tokens are ignored by the loss function. And finally, we can see a new decoder_input_ids which has shifted the labels to the right by inserting a [PAD] token in the first entry."
      ],
      "metadata": {
        "id": "IqoHIPaG3gEz"
      }
    },
    {
      "cell_type": "code",
      "source": [
        "tokenized_dataset['train']"
      ],
      "metadata": {
        "colab": {
          "base_uri": "https://localhost:8080/"
        },
        "id": "gu8zZqggxlc8",
        "outputId": "ee8ef6d5-5d35-4d53-cad8-14df0c24c7bb"
      },
      "execution_count": null,
      "outputs": [
        {
          "output_type": "execute_result",
          "data": {
            "text/plain": [
              "Dataset({\n",
              "    features: ['input_ids', 'attention_mask', 'labels'],\n",
              "    num_rows: 287113\n",
              "})"
            ]
          },
          "metadata": {},
          "execution_count": 64
        }
      ]
    },
    {
      "cell_type": "code",
      "source": [
        "from transformers import Seq2SeqTrainer\n",
        "\n",
        "# args = Seq2SeqTrainingArguments()\n",
        "# model = AutoModelForSeq2SeqLM.from_pretrained('t5-small')\n",
        "# tokenizer = AutoTokenizer.from_pretrained('t5-small')\n",
        "trainer = Seq2SeqTrainer(model, args, train_dataset=tokenized_dataset[\"train\"], eval_dataset=tokenized_dataset[\"validation\"], \n",
        "                         data_collator=data_collator, tokenizer=tokenizer, compute_metrics=compute_metric)"
      ],
      "metadata": {
        "id": "AnuI6XuvpRU6"
      },
      "execution_count": null,
      "outputs": []
    },
    {
      "cell_type": "code",
      "source": [
        "trainer.train()\n",
        "\n",
        "# notice with increasing epochs, the score becomes better (Try increasing no of epochs?)"
      ],
      "metadata": {
        "colab": {
          "base_uri": "https://localhost:8080/",
          "height": 1000
        },
        "id": "cenRpG8PpRXl",
        "outputId": "b775b06c-4069-4e46-aa6f-5f2a0f76f84d"
      },
      "execution_count": null,
      "outputs": [
        {
          "output_type": "stream",
          "name": "stderr",
          "text": [
            "/usr/local/lib/python3.7/dist-packages/transformers/optimization.py:310: FutureWarning: This implementation of AdamW is deprecated and will be removed in a future version. Use the PyTorch implementation torch.optim.AdamW instead, or set `no_deprecation_warning=True` to disable this warning\n",
            "  FutureWarning,\n",
            "***** Running training *****\n",
            "  Num examples = 287113\n",
            "  Num Epochs = 8\n",
            "  Instantaneous batch size per device = 8\n",
            "  Total train batch size (w. parallel, distributed & accumulation) = 8\n",
            "  Gradient Accumulation steps = 1\n",
            "  Total optimization steps = 287120\n"
          ]
        },
        {
          "output_type": "display_data",
          "data": {
            "text/plain": [
              "<IPython.core.display.HTML object>"
            ],
            "text/html": [
              "\n",
              "    <div>\n",
              "      \n",
              "      <progress value='32321' max='287120' style='width:300px; height:20px; vertical-align: middle;'></progress>\n",
              "      [ 32321/287120 2:25:09 < 19:04:27, 3.71 it/s, Epoch 0.90/8]\n",
              "    </div>\n",
              "    <table border=\"1\" class=\"dataframe\">\n",
              "  <thead>\n",
              " <tr style=\"text-align: left;\">\n",
              "      <th>Epoch</th>\n",
              "      <th>Training Loss</th>\n",
              "      <th>Validation Loss</th>\n",
              "    </tr>\n",
              "  </thead>\n",
              "  <tbody>\n",
              "  </tbody>\n",
              "</table><p>"
            ]
          },
          "metadata": {}
        },
        {
          "output_type": "stream",
          "name": "stderr",
          "text": [
            "Saving model checkpoint to t5-finetuned-cnn-dailymail-english/checkpoint-500\n",
            "Configuration saved in t5-finetuned-cnn-dailymail-english/checkpoint-500/config.json\n",
            "Model weights saved in t5-finetuned-cnn-dailymail-english/checkpoint-500/pytorch_model.bin\n",
            "tokenizer config file saved in t5-finetuned-cnn-dailymail-english/checkpoint-500/tokenizer_config.json\n",
            "Special tokens file saved in t5-finetuned-cnn-dailymail-english/checkpoint-500/special_tokens_map.json\n",
            "Saving model checkpoint to t5-finetuned-cnn-dailymail-english/checkpoint-1000\n",
            "Configuration saved in t5-finetuned-cnn-dailymail-english/checkpoint-1000/config.json\n",
            "Model weights saved in t5-finetuned-cnn-dailymail-english/checkpoint-1000/pytorch_model.bin\n",
            "tokenizer config file saved in t5-finetuned-cnn-dailymail-english/checkpoint-1000/tokenizer_config.json\n",
            "Special tokens file saved in t5-finetuned-cnn-dailymail-english/checkpoint-1000/special_tokens_map.json\n",
            "Saving model checkpoint to t5-finetuned-cnn-dailymail-english/checkpoint-1500\n",
            "Configuration saved in t5-finetuned-cnn-dailymail-english/checkpoint-1500/config.json\n",
            "Model weights saved in t5-finetuned-cnn-dailymail-english/checkpoint-1500/pytorch_model.bin\n",
            "tokenizer config file saved in t5-finetuned-cnn-dailymail-english/checkpoint-1500/tokenizer_config.json\n",
            "Special tokens file saved in t5-finetuned-cnn-dailymail-english/checkpoint-1500/special_tokens_map.json\n",
            "Saving model checkpoint to t5-finetuned-cnn-dailymail-english/checkpoint-2000\n",
            "Configuration saved in t5-finetuned-cnn-dailymail-english/checkpoint-2000/config.json\n",
            "Model weights saved in t5-finetuned-cnn-dailymail-english/checkpoint-2000/pytorch_model.bin\n",
            "tokenizer config file saved in t5-finetuned-cnn-dailymail-english/checkpoint-2000/tokenizer_config.json\n",
            "Special tokens file saved in t5-finetuned-cnn-dailymail-english/checkpoint-2000/special_tokens_map.json\n",
            "Deleting older checkpoint [t5-finetuned-cnn-dailymail-english/checkpoint-500] due to args.save_total_limit\n",
            "Saving model checkpoint to t5-finetuned-cnn-dailymail-english/checkpoint-2500\n",
            "Configuration saved in t5-finetuned-cnn-dailymail-english/checkpoint-2500/config.json\n",
            "Model weights saved in t5-finetuned-cnn-dailymail-english/checkpoint-2500/pytorch_model.bin\n",
            "tokenizer config file saved in t5-finetuned-cnn-dailymail-english/checkpoint-2500/tokenizer_config.json\n",
            "Special tokens file saved in t5-finetuned-cnn-dailymail-english/checkpoint-2500/special_tokens_map.json\n",
            "Deleting older checkpoint [t5-finetuned-cnn-dailymail-english/checkpoint-1000] due to args.save_total_limit\n",
            "Saving model checkpoint to t5-finetuned-cnn-dailymail-english/checkpoint-3000\n",
            "Configuration saved in t5-finetuned-cnn-dailymail-english/checkpoint-3000/config.json\n",
            "Model weights saved in t5-finetuned-cnn-dailymail-english/checkpoint-3000/pytorch_model.bin\n",
            "tokenizer config file saved in t5-finetuned-cnn-dailymail-english/checkpoint-3000/tokenizer_config.json\n",
            "Special tokens file saved in t5-finetuned-cnn-dailymail-english/checkpoint-3000/special_tokens_map.json\n",
            "Deleting older checkpoint [t5-finetuned-cnn-dailymail-english/checkpoint-1500] due to args.save_total_limit\n",
            "Saving model checkpoint to t5-finetuned-cnn-dailymail-english/checkpoint-3500\n",
            "Configuration saved in t5-finetuned-cnn-dailymail-english/checkpoint-3500/config.json\n",
            "Model weights saved in t5-finetuned-cnn-dailymail-english/checkpoint-3500/pytorch_model.bin\n",
            "tokenizer config file saved in t5-finetuned-cnn-dailymail-english/checkpoint-3500/tokenizer_config.json\n",
            "Special tokens file saved in t5-finetuned-cnn-dailymail-english/checkpoint-3500/special_tokens_map.json\n",
            "Deleting older checkpoint [t5-finetuned-cnn-dailymail-english/checkpoint-2000] due to args.save_total_limit\n",
            "Saving model checkpoint to t5-finetuned-cnn-dailymail-english/checkpoint-4000\n",
            "Configuration saved in t5-finetuned-cnn-dailymail-english/checkpoint-4000/config.json\n",
            "Model weights saved in t5-finetuned-cnn-dailymail-english/checkpoint-4000/pytorch_model.bin\n",
            "tokenizer config file saved in t5-finetuned-cnn-dailymail-english/checkpoint-4000/tokenizer_config.json\n",
            "Special tokens file saved in t5-finetuned-cnn-dailymail-english/checkpoint-4000/special_tokens_map.json\n",
            "Deleting older checkpoint [t5-finetuned-cnn-dailymail-english/checkpoint-2500] due to args.save_total_limit\n",
            "Saving model checkpoint to t5-finetuned-cnn-dailymail-english/checkpoint-4500\n",
            "Configuration saved in t5-finetuned-cnn-dailymail-english/checkpoint-4500/config.json\n",
            "Model weights saved in t5-finetuned-cnn-dailymail-english/checkpoint-4500/pytorch_model.bin\n",
            "tokenizer config file saved in t5-finetuned-cnn-dailymail-english/checkpoint-4500/tokenizer_config.json\n",
            "Special tokens file saved in t5-finetuned-cnn-dailymail-english/checkpoint-4500/special_tokens_map.json\n",
            "Deleting older checkpoint [t5-finetuned-cnn-dailymail-english/checkpoint-3000] due to args.save_total_limit\n",
            "Saving model checkpoint to t5-finetuned-cnn-dailymail-english/checkpoint-5000\n",
            "Configuration saved in t5-finetuned-cnn-dailymail-english/checkpoint-5000/config.json\n",
            "Model weights saved in t5-finetuned-cnn-dailymail-english/checkpoint-5000/pytorch_model.bin\n",
            "tokenizer config file saved in t5-finetuned-cnn-dailymail-english/checkpoint-5000/tokenizer_config.json\n",
            "Special tokens file saved in t5-finetuned-cnn-dailymail-english/checkpoint-5000/special_tokens_map.json\n",
            "Deleting older checkpoint [t5-finetuned-cnn-dailymail-english/checkpoint-3500] due to args.save_total_limit\n",
            "Saving model checkpoint to t5-finetuned-cnn-dailymail-english/checkpoint-5500\n",
            "Configuration saved in t5-finetuned-cnn-dailymail-english/checkpoint-5500/config.json\n",
            "Model weights saved in t5-finetuned-cnn-dailymail-english/checkpoint-5500/pytorch_model.bin\n",
            "tokenizer config file saved in t5-finetuned-cnn-dailymail-english/checkpoint-5500/tokenizer_config.json\n",
            "Special tokens file saved in t5-finetuned-cnn-dailymail-english/checkpoint-5500/special_tokens_map.json\n",
            "Deleting older checkpoint [t5-finetuned-cnn-dailymail-english/checkpoint-4000] due to args.save_total_limit\n",
            "Saving model checkpoint to t5-finetuned-cnn-dailymail-english/checkpoint-6000\n",
            "Configuration saved in t5-finetuned-cnn-dailymail-english/checkpoint-6000/config.json\n",
            "Model weights saved in t5-finetuned-cnn-dailymail-english/checkpoint-6000/pytorch_model.bin\n",
            "tokenizer config file saved in t5-finetuned-cnn-dailymail-english/checkpoint-6000/tokenizer_config.json\n",
            "Special tokens file saved in t5-finetuned-cnn-dailymail-english/checkpoint-6000/special_tokens_map.json\n",
            "Deleting older checkpoint [t5-finetuned-cnn-dailymail-english/checkpoint-4500] due to args.save_total_limit\n",
            "Saving model checkpoint to t5-finetuned-cnn-dailymail-english/checkpoint-6500\n",
            "Configuration saved in t5-finetuned-cnn-dailymail-english/checkpoint-6500/config.json\n",
            "Model weights saved in t5-finetuned-cnn-dailymail-english/checkpoint-6500/pytorch_model.bin\n",
            "tokenizer config file saved in t5-finetuned-cnn-dailymail-english/checkpoint-6500/tokenizer_config.json\n",
            "Special tokens file saved in t5-finetuned-cnn-dailymail-english/checkpoint-6500/special_tokens_map.json\n",
            "Deleting older checkpoint [t5-finetuned-cnn-dailymail-english/checkpoint-5000] due to args.save_total_limit\n",
            "Saving model checkpoint to t5-finetuned-cnn-dailymail-english/checkpoint-7000\n",
            "Configuration saved in t5-finetuned-cnn-dailymail-english/checkpoint-7000/config.json\n",
            "Model weights saved in t5-finetuned-cnn-dailymail-english/checkpoint-7000/pytorch_model.bin\n",
            "tokenizer config file saved in t5-finetuned-cnn-dailymail-english/checkpoint-7000/tokenizer_config.json\n",
            "Special tokens file saved in t5-finetuned-cnn-dailymail-english/checkpoint-7000/special_tokens_map.json\n",
            "Deleting older checkpoint [t5-finetuned-cnn-dailymail-english/checkpoint-5500] due to args.save_total_limit\n",
            "Saving model checkpoint to t5-finetuned-cnn-dailymail-english/checkpoint-7500\n",
            "Configuration saved in t5-finetuned-cnn-dailymail-english/checkpoint-7500/config.json\n",
            "Model weights saved in t5-finetuned-cnn-dailymail-english/checkpoint-7500/pytorch_model.bin\n",
            "tokenizer config file saved in t5-finetuned-cnn-dailymail-english/checkpoint-7500/tokenizer_config.json\n",
            "Special tokens file saved in t5-finetuned-cnn-dailymail-english/checkpoint-7500/special_tokens_map.json\n",
            "Deleting older checkpoint [t5-finetuned-cnn-dailymail-english/checkpoint-6000] due to args.save_total_limit\n",
            "Saving model checkpoint to t5-finetuned-cnn-dailymail-english/checkpoint-8000\n",
            "Configuration saved in t5-finetuned-cnn-dailymail-english/checkpoint-8000/config.json\n",
            "Model weights saved in t5-finetuned-cnn-dailymail-english/checkpoint-8000/pytorch_model.bin\n",
            "tokenizer config file saved in t5-finetuned-cnn-dailymail-english/checkpoint-8000/tokenizer_config.json\n",
            "Special tokens file saved in t5-finetuned-cnn-dailymail-english/checkpoint-8000/special_tokens_map.json\n",
            "Deleting older checkpoint [t5-finetuned-cnn-dailymail-english/checkpoint-6500] due to args.save_total_limit\n",
            "Saving model checkpoint to t5-finetuned-cnn-dailymail-english/checkpoint-8500\n",
            "Configuration saved in t5-finetuned-cnn-dailymail-english/checkpoint-8500/config.json\n",
            "Model weights saved in t5-finetuned-cnn-dailymail-english/checkpoint-8500/pytorch_model.bin\n",
            "tokenizer config file saved in t5-finetuned-cnn-dailymail-english/checkpoint-8500/tokenizer_config.json\n",
            "Special tokens file saved in t5-finetuned-cnn-dailymail-english/checkpoint-8500/special_tokens_map.json\n",
            "Deleting older checkpoint [t5-finetuned-cnn-dailymail-english/checkpoint-7000] due to args.save_total_limit\n",
            "Saving model checkpoint to t5-finetuned-cnn-dailymail-english/checkpoint-9000\n",
            "Configuration saved in t5-finetuned-cnn-dailymail-english/checkpoint-9000/config.json\n",
            "Model weights saved in t5-finetuned-cnn-dailymail-english/checkpoint-9000/pytorch_model.bin\n",
            "tokenizer config file saved in t5-finetuned-cnn-dailymail-english/checkpoint-9000/tokenizer_config.json\n",
            "Special tokens file saved in t5-finetuned-cnn-dailymail-english/checkpoint-9000/special_tokens_map.json\n",
            "Deleting older checkpoint [t5-finetuned-cnn-dailymail-english/checkpoint-7500] due to args.save_total_limit\n",
            "Saving model checkpoint to t5-finetuned-cnn-dailymail-english/checkpoint-9500\n",
            "Configuration saved in t5-finetuned-cnn-dailymail-english/checkpoint-9500/config.json\n",
            "Model weights saved in t5-finetuned-cnn-dailymail-english/checkpoint-9500/pytorch_model.bin\n",
            "tokenizer config file saved in t5-finetuned-cnn-dailymail-english/checkpoint-9500/tokenizer_config.json\n",
            "Special tokens file saved in t5-finetuned-cnn-dailymail-english/checkpoint-9500/special_tokens_map.json\n",
            "Deleting older checkpoint [t5-finetuned-cnn-dailymail-english/checkpoint-8000] due to args.save_total_limit\n",
            "Saving model checkpoint to t5-finetuned-cnn-dailymail-english/checkpoint-10000\n",
            "Configuration saved in t5-finetuned-cnn-dailymail-english/checkpoint-10000/config.json\n",
            "Model weights saved in t5-finetuned-cnn-dailymail-english/checkpoint-10000/pytorch_model.bin\n",
            "tokenizer config file saved in t5-finetuned-cnn-dailymail-english/checkpoint-10000/tokenizer_config.json\n",
            "Special tokens file saved in t5-finetuned-cnn-dailymail-english/checkpoint-10000/special_tokens_map.json\n",
            "Deleting older checkpoint [t5-finetuned-cnn-dailymail-english/checkpoint-8500] due to args.save_total_limit\n",
            "Saving model checkpoint to t5-finetuned-cnn-dailymail-english/checkpoint-10500\n",
            "Configuration saved in t5-finetuned-cnn-dailymail-english/checkpoint-10500/config.json\n",
            "Model weights saved in t5-finetuned-cnn-dailymail-english/checkpoint-10500/pytorch_model.bin\n",
            "tokenizer config file saved in t5-finetuned-cnn-dailymail-english/checkpoint-10500/tokenizer_config.json\n",
            "Special tokens file saved in t5-finetuned-cnn-dailymail-english/checkpoint-10500/special_tokens_map.json\n",
            "Deleting older checkpoint [t5-finetuned-cnn-dailymail-english/checkpoint-9000] due to args.save_total_limit\n",
            "Saving model checkpoint to t5-finetuned-cnn-dailymail-english/checkpoint-11000\n",
            "Configuration saved in t5-finetuned-cnn-dailymail-english/checkpoint-11000/config.json\n",
            "Model weights saved in t5-finetuned-cnn-dailymail-english/checkpoint-11000/pytorch_model.bin\n",
            "tokenizer config file saved in t5-finetuned-cnn-dailymail-english/checkpoint-11000/tokenizer_config.json\n",
            "Special tokens file saved in t5-finetuned-cnn-dailymail-english/checkpoint-11000/special_tokens_map.json\n",
            "Deleting older checkpoint [t5-finetuned-cnn-dailymail-english/checkpoint-9500] due to args.save_total_limit\n",
            "Saving model checkpoint to t5-finetuned-cnn-dailymail-english/checkpoint-11500\n",
            "Configuration saved in t5-finetuned-cnn-dailymail-english/checkpoint-11500/config.json\n",
            "Model weights saved in t5-finetuned-cnn-dailymail-english/checkpoint-11500/pytorch_model.bin\n",
            "tokenizer config file saved in t5-finetuned-cnn-dailymail-english/checkpoint-11500/tokenizer_config.json\n",
            "Special tokens file saved in t5-finetuned-cnn-dailymail-english/checkpoint-11500/special_tokens_map.json\n",
            "Deleting older checkpoint [t5-finetuned-cnn-dailymail-english/checkpoint-10000] due to args.save_total_limit\n",
            "Saving model checkpoint to t5-finetuned-cnn-dailymail-english/checkpoint-12000\n",
            "Configuration saved in t5-finetuned-cnn-dailymail-english/checkpoint-12000/config.json\n",
            "Model weights saved in t5-finetuned-cnn-dailymail-english/checkpoint-12000/pytorch_model.bin\n",
            "tokenizer config file saved in t5-finetuned-cnn-dailymail-english/checkpoint-12000/tokenizer_config.json\n",
            "Special tokens file saved in t5-finetuned-cnn-dailymail-english/checkpoint-12000/special_tokens_map.json\n",
            "Deleting older checkpoint [t5-finetuned-cnn-dailymail-english/checkpoint-10500] due to args.save_total_limit\n",
            "Saving model checkpoint to t5-finetuned-cnn-dailymail-english/checkpoint-12500\n",
            "Configuration saved in t5-finetuned-cnn-dailymail-english/checkpoint-12500/config.json\n",
            "Model weights saved in t5-finetuned-cnn-dailymail-english/checkpoint-12500/pytorch_model.bin\n",
            "tokenizer config file saved in t5-finetuned-cnn-dailymail-english/checkpoint-12500/tokenizer_config.json\n",
            "Special tokens file saved in t5-finetuned-cnn-dailymail-english/checkpoint-12500/special_tokens_map.json\n",
            "Deleting older checkpoint [t5-finetuned-cnn-dailymail-english/checkpoint-11000] due to args.save_total_limit\n",
            "Saving model checkpoint to t5-finetuned-cnn-dailymail-english/checkpoint-13000\n",
            "Configuration saved in t5-finetuned-cnn-dailymail-english/checkpoint-13000/config.json\n",
            "Model weights saved in t5-finetuned-cnn-dailymail-english/checkpoint-13000/pytorch_model.bin\n",
            "tokenizer config file saved in t5-finetuned-cnn-dailymail-english/checkpoint-13000/tokenizer_config.json\n",
            "Special tokens file saved in t5-finetuned-cnn-dailymail-english/checkpoint-13000/special_tokens_map.json\n",
            "Deleting older checkpoint [t5-finetuned-cnn-dailymail-english/checkpoint-11500] due to args.save_total_limit\n",
            "Saving model checkpoint to t5-finetuned-cnn-dailymail-english/checkpoint-13500\n",
            "Configuration saved in t5-finetuned-cnn-dailymail-english/checkpoint-13500/config.json\n",
            "Model weights saved in t5-finetuned-cnn-dailymail-english/checkpoint-13500/pytorch_model.bin\n",
            "tokenizer config file saved in t5-finetuned-cnn-dailymail-english/checkpoint-13500/tokenizer_config.json\n",
            "Special tokens file saved in t5-finetuned-cnn-dailymail-english/checkpoint-13500/special_tokens_map.json\n",
            "Deleting older checkpoint [t5-finetuned-cnn-dailymail-english/checkpoint-12000] due to args.save_total_limit\n",
            "Saving model checkpoint to t5-finetuned-cnn-dailymail-english/checkpoint-14000\n",
            "Configuration saved in t5-finetuned-cnn-dailymail-english/checkpoint-14000/config.json\n",
            "Model weights saved in t5-finetuned-cnn-dailymail-english/checkpoint-14000/pytorch_model.bin\n",
            "tokenizer config file saved in t5-finetuned-cnn-dailymail-english/checkpoint-14000/tokenizer_config.json\n",
            "Special tokens file saved in t5-finetuned-cnn-dailymail-english/checkpoint-14000/special_tokens_map.json\n",
            "Deleting older checkpoint [t5-finetuned-cnn-dailymail-english/checkpoint-12500] due to args.save_total_limit\n",
            "Saving model checkpoint to t5-finetuned-cnn-dailymail-english/checkpoint-14500\n",
            "Configuration saved in t5-finetuned-cnn-dailymail-english/checkpoint-14500/config.json\n",
            "Model weights saved in t5-finetuned-cnn-dailymail-english/checkpoint-14500/pytorch_model.bin\n",
            "tokenizer config file saved in t5-finetuned-cnn-dailymail-english/checkpoint-14500/tokenizer_config.json\n",
            "Special tokens file saved in t5-finetuned-cnn-dailymail-english/checkpoint-14500/special_tokens_map.json\n",
            "Deleting older checkpoint [t5-finetuned-cnn-dailymail-english/checkpoint-13000] due to args.save_total_limit\n",
            "Saving model checkpoint to t5-finetuned-cnn-dailymail-english/checkpoint-15000\n",
            "Configuration saved in t5-finetuned-cnn-dailymail-english/checkpoint-15000/config.json\n",
            "Model weights saved in t5-finetuned-cnn-dailymail-english/checkpoint-15000/pytorch_model.bin\n",
            "tokenizer config file saved in t5-finetuned-cnn-dailymail-english/checkpoint-15000/tokenizer_config.json\n",
            "Special tokens file saved in t5-finetuned-cnn-dailymail-english/checkpoint-15000/special_tokens_map.json\n",
            "Deleting older checkpoint [t5-finetuned-cnn-dailymail-english/checkpoint-13500] due to args.save_total_limit\n",
            "Saving model checkpoint to t5-finetuned-cnn-dailymail-english/checkpoint-15500\n",
            "Configuration saved in t5-finetuned-cnn-dailymail-english/checkpoint-15500/config.json\n",
            "Model weights saved in t5-finetuned-cnn-dailymail-english/checkpoint-15500/pytorch_model.bin\n",
            "tokenizer config file saved in t5-finetuned-cnn-dailymail-english/checkpoint-15500/tokenizer_config.json\n",
            "Special tokens file saved in t5-finetuned-cnn-dailymail-english/checkpoint-15500/special_tokens_map.json\n",
            "Deleting older checkpoint [t5-finetuned-cnn-dailymail-english/checkpoint-14000] due to args.save_total_limit\n",
            "Saving model checkpoint to t5-finetuned-cnn-dailymail-english/checkpoint-16000\n",
            "Configuration saved in t5-finetuned-cnn-dailymail-english/checkpoint-16000/config.json\n",
            "Model weights saved in t5-finetuned-cnn-dailymail-english/checkpoint-16000/pytorch_model.bin\n",
            "tokenizer config file saved in t5-finetuned-cnn-dailymail-english/checkpoint-16000/tokenizer_config.json\n",
            "Special tokens file saved in t5-finetuned-cnn-dailymail-english/checkpoint-16000/special_tokens_map.json\n",
            "Deleting older checkpoint [t5-finetuned-cnn-dailymail-english/checkpoint-14500] due to args.save_total_limit\n",
            "Saving model checkpoint to t5-finetuned-cnn-dailymail-english/checkpoint-16500\n",
            "Configuration saved in t5-finetuned-cnn-dailymail-english/checkpoint-16500/config.json\n",
            "Model weights saved in t5-finetuned-cnn-dailymail-english/checkpoint-16500/pytorch_model.bin\n",
            "tokenizer config file saved in t5-finetuned-cnn-dailymail-english/checkpoint-16500/tokenizer_config.json\n",
            "Special tokens file saved in t5-finetuned-cnn-dailymail-english/checkpoint-16500/special_tokens_map.json\n",
            "Deleting older checkpoint [t5-finetuned-cnn-dailymail-english/checkpoint-15000] due to args.save_total_limit\n",
            "Saving model checkpoint to t5-finetuned-cnn-dailymail-english/checkpoint-17000\n",
            "Configuration saved in t5-finetuned-cnn-dailymail-english/checkpoint-17000/config.json\n",
            "Model weights saved in t5-finetuned-cnn-dailymail-english/checkpoint-17000/pytorch_model.bin\n",
            "tokenizer config file saved in t5-finetuned-cnn-dailymail-english/checkpoint-17000/tokenizer_config.json\n",
            "Special tokens file saved in t5-finetuned-cnn-dailymail-english/checkpoint-17000/special_tokens_map.json\n",
            "Deleting older checkpoint [t5-finetuned-cnn-dailymail-english/checkpoint-15500] due to args.save_total_limit\n",
            "Saving model checkpoint to t5-finetuned-cnn-dailymail-english/checkpoint-17500\n",
            "Configuration saved in t5-finetuned-cnn-dailymail-english/checkpoint-17500/config.json\n",
            "Model weights saved in t5-finetuned-cnn-dailymail-english/checkpoint-17500/pytorch_model.bin\n",
            "tokenizer config file saved in t5-finetuned-cnn-dailymail-english/checkpoint-17500/tokenizer_config.json\n",
            "Special tokens file saved in t5-finetuned-cnn-dailymail-english/checkpoint-17500/special_tokens_map.json\n",
            "Deleting older checkpoint [t5-finetuned-cnn-dailymail-english/checkpoint-16000] due to args.save_total_limit\n",
            "Saving model checkpoint to t5-finetuned-cnn-dailymail-english/checkpoint-18000\n",
            "Configuration saved in t5-finetuned-cnn-dailymail-english/checkpoint-18000/config.json\n",
            "Model weights saved in t5-finetuned-cnn-dailymail-english/checkpoint-18000/pytorch_model.bin\n",
            "tokenizer config file saved in t5-finetuned-cnn-dailymail-english/checkpoint-18000/tokenizer_config.json\n",
            "Special tokens file saved in t5-finetuned-cnn-dailymail-english/checkpoint-18000/special_tokens_map.json\n",
            "Deleting older checkpoint [t5-finetuned-cnn-dailymail-english/checkpoint-16500] due to args.save_total_limit\n",
            "Saving model checkpoint to t5-finetuned-cnn-dailymail-english/checkpoint-18500\n",
            "Configuration saved in t5-finetuned-cnn-dailymail-english/checkpoint-18500/config.json\n",
            "Model weights saved in t5-finetuned-cnn-dailymail-english/checkpoint-18500/pytorch_model.bin\n",
            "tokenizer config file saved in t5-finetuned-cnn-dailymail-english/checkpoint-18500/tokenizer_config.json\n",
            "Special tokens file saved in t5-finetuned-cnn-dailymail-english/checkpoint-18500/special_tokens_map.json\n",
            "Deleting older checkpoint [t5-finetuned-cnn-dailymail-english/checkpoint-17000] due to args.save_total_limit\n",
            "Saving model checkpoint to t5-finetuned-cnn-dailymail-english/checkpoint-19000\n",
            "Configuration saved in t5-finetuned-cnn-dailymail-english/checkpoint-19000/config.json\n",
            "Model weights saved in t5-finetuned-cnn-dailymail-english/checkpoint-19000/pytorch_model.bin\n",
            "tokenizer config file saved in t5-finetuned-cnn-dailymail-english/checkpoint-19000/tokenizer_config.json\n",
            "Special tokens file saved in t5-finetuned-cnn-dailymail-english/checkpoint-19000/special_tokens_map.json\n",
            "Deleting older checkpoint [t5-finetuned-cnn-dailymail-english/checkpoint-17500] due to args.save_total_limit\n",
            "Saving model checkpoint to t5-finetuned-cnn-dailymail-english/checkpoint-19500\n",
            "Configuration saved in t5-finetuned-cnn-dailymail-english/checkpoint-19500/config.json\n",
            "Model weights saved in t5-finetuned-cnn-dailymail-english/checkpoint-19500/pytorch_model.bin\n",
            "tokenizer config file saved in t5-finetuned-cnn-dailymail-english/checkpoint-19500/tokenizer_config.json\n",
            "Special tokens file saved in t5-finetuned-cnn-dailymail-english/checkpoint-19500/special_tokens_map.json\n",
            "Deleting older checkpoint [t5-finetuned-cnn-dailymail-english/checkpoint-18000] due to args.save_total_limit\n",
            "Saving model checkpoint to t5-finetuned-cnn-dailymail-english/checkpoint-20000\n",
            "Configuration saved in t5-finetuned-cnn-dailymail-english/checkpoint-20000/config.json\n",
            "Model weights saved in t5-finetuned-cnn-dailymail-english/checkpoint-20000/pytorch_model.bin\n",
            "tokenizer config file saved in t5-finetuned-cnn-dailymail-english/checkpoint-20000/tokenizer_config.json\n",
            "Special tokens file saved in t5-finetuned-cnn-dailymail-english/checkpoint-20000/special_tokens_map.json\n",
            "Deleting older checkpoint [t5-finetuned-cnn-dailymail-english/checkpoint-18500] due to args.save_total_limit\n",
            "Saving model checkpoint to t5-finetuned-cnn-dailymail-english/checkpoint-20500\n",
            "Configuration saved in t5-finetuned-cnn-dailymail-english/checkpoint-20500/config.json\n",
            "Model weights saved in t5-finetuned-cnn-dailymail-english/checkpoint-20500/pytorch_model.bin\n",
            "tokenizer config file saved in t5-finetuned-cnn-dailymail-english/checkpoint-20500/tokenizer_config.json\n",
            "Special tokens file saved in t5-finetuned-cnn-dailymail-english/checkpoint-20500/special_tokens_map.json\n",
            "Deleting older checkpoint [t5-finetuned-cnn-dailymail-english/checkpoint-19000] due to args.save_total_limit\n",
            "Saving model checkpoint to t5-finetuned-cnn-dailymail-english/checkpoint-21000\n",
            "Configuration saved in t5-finetuned-cnn-dailymail-english/checkpoint-21000/config.json\n",
            "Model weights saved in t5-finetuned-cnn-dailymail-english/checkpoint-21000/pytorch_model.bin\n",
            "tokenizer config file saved in t5-finetuned-cnn-dailymail-english/checkpoint-21000/tokenizer_config.json\n",
            "Special tokens file saved in t5-finetuned-cnn-dailymail-english/checkpoint-21000/special_tokens_map.json\n",
            "Deleting older checkpoint [t5-finetuned-cnn-dailymail-english/checkpoint-19500] due to args.save_total_limit\n",
            "Saving model checkpoint to t5-finetuned-cnn-dailymail-english/checkpoint-21500\n",
            "Configuration saved in t5-finetuned-cnn-dailymail-english/checkpoint-21500/config.json\n",
            "Model weights saved in t5-finetuned-cnn-dailymail-english/checkpoint-21500/pytorch_model.bin\n",
            "tokenizer config file saved in t5-finetuned-cnn-dailymail-english/checkpoint-21500/tokenizer_config.json\n",
            "Special tokens file saved in t5-finetuned-cnn-dailymail-english/checkpoint-21500/special_tokens_map.json\n",
            "Deleting older checkpoint [t5-finetuned-cnn-dailymail-english/checkpoint-20000] due to args.save_total_limit\n",
            "Saving model checkpoint to t5-finetuned-cnn-dailymail-english/checkpoint-22000\n",
            "Configuration saved in t5-finetuned-cnn-dailymail-english/checkpoint-22000/config.json\n",
            "Model weights saved in t5-finetuned-cnn-dailymail-english/checkpoint-22000/pytorch_model.bin\n",
            "tokenizer config file saved in t5-finetuned-cnn-dailymail-english/checkpoint-22000/tokenizer_config.json\n",
            "Special tokens file saved in t5-finetuned-cnn-dailymail-english/checkpoint-22000/special_tokens_map.json\n",
            "Deleting older checkpoint [t5-finetuned-cnn-dailymail-english/checkpoint-20500] due to args.save_total_limit\n",
            "Saving model checkpoint to t5-finetuned-cnn-dailymail-english/checkpoint-22500\n",
            "Configuration saved in t5-finetuned-cnn-dailymail-english/checkpoint-22500/config.json\n",
            "Model weights saved in t5-finetuned-cnn-dailymail-english/checkpoint-22500/pytorch_model.bin\n",
            "tokenizer config file saved in t5-finetuned-cnn-dailymail-english/checkpoint-22500/tokenizer_config.json\n",
            "Special tokens file saved in t5-finetuned-cnn-dailymail-english/checkpoint-22500/special_tokens_map.json\n",
            "Deleting older checkpoint [t5-finetuned-cnn-dailymail-english/checkpoint-21000] due to args.save_total_limit\n",
            "Saving model checkpoint to t5-finetuned-cnn-dailymail-english/checkpoint-23000\n",
            "Configuration saved in t5-finetuned-cnn-dailymail-english/checkpoint-23000/config.json\n",
            "Model weights saved in t5-finetuned-cnn-dailymail-english/checkpoint-23000/pytorch_model.bin\n",
            "tokenizer config file saved in t5-finetuned-cnn-dailymail-english/checkpoint-23000/tokenizer_config.json\n",
            "Special tokens file saved in t5-finetuned-cnn-dailymail-english/checkpoint-23000/special_tokens_map.json\n",
            "Deleting older checkpoint [t5-finetuned-cnn-dailymail-english/checkpoint-21500] due to args.save_total_limit\n",
            "Saving model checkpoint to t5-finetuned-cnn-dailymail-english/checkpoint-23500\n",
            "Configuration saved in t5-finetuned-cnn-dailymail-english/checkpoint-23500/config.json\n",
            "Model weights saved in t5-finetuned-cnn-dailymail-english/checkpoint-23500/pytorch_model.bin\n",
            "tokenizer config file saved in t5-finetuned-cnn-dailymail-english/checkpoint-23500/tokenizer_config.json\n",
            "Special tokens file saved in t5-finetuned-cnn-dailymail-english/checkpoint-23500/special_tokens_map.json\n",
            "Deleting older checkpoint [t5-finetuned-cnn-dailymail-english/checkpoint-22000] due to args.save_total_limit\n",
            "Saving model checkpoint to t5-finetuned-cnn-dailymail-english/checkpoint-24000\n",
            "Configuration saved in t5-finetuned-cnn-dailymail-english/checkpoint-24000/config.json\n",
            "Model weights saved in t5-finetuned-cnn-dailymail-english/checkpoint-24000/pytorch_model.bin\n",
            "tokenizer config file saved in t5-finetuned-cnn-dailymail-english/checkpoint-24000/tokenizer_config.json\n",
            "Special tokens file saved in t5-finetuned-cnn-dailymail-english/checkpoint-24000/special_tokens_map.json\n",
            "Deleting older checkpoint [t5-finetuned-cnn-dailymail-english/checkpoint-22500] due to args.save_total_limit\n",
            "Saving model checkpoint to t5-finetuned-cnn-dailymail-english/checkpoint-24500\n",
            "Configuration saved in t5-finetuned-cnn-dailymail-english/checkpoint-24500/config.json\n",
            "Model weights saved in t5-finetuned-cnn-dailymail-english/checkpoint-24500/pytorch_model.bin\n",
            "tokenizer config file saved in t5-finetuned-cnn-dailymail-english/checkpoint-24500/tokenizer_config.json\n",
            "Special tokens file saved in t5-finetuned-cnn-dailymail-english/checkpoint-24500/special_tokens_map.json\n",
            "Deleting older checkpoint [t5-finetuned-cnn-dailymail-english/checkpoint-23000] due to args.save_total_limit\n",
            "Saving model checkpoint to t5-finetuned-cnn-dailymail-english/checkpoint-25000\n",
            "Configuration saved in t5-finetuned-cnn-dailymail-english/checkpoint-25000/config.json\n",
            "Model weights saved in t5-finetuned-cnn-dailymail-english/checkpoint-25000/pytorch_model.bin\n",
            "tokenizer config file saved in t5-finetuned-cnn-dailymail-english/checkpoint-25000/tokenizer_config.json\n",
            "Special tokens file saved in t5-finetuned-cnn-dailymail-english/checkpoint-25000/special_tokens_map.json\n",
            "Deleting older checkpoint [t5-finetuned-cnn-dailymail-english/checkpoint-23500] due to args.save_total_limit\n",
            "Saving model checkpoint to t5-finetuned-cnn-dailymail-english/checkpoint-25500\n",
            "Configuration saved in t5-finetuned-cnn-dailymail-english/checkpoint-25500/config.json\n",
            "Model weights saved in t5-finetuned-cnn-dailymail-english/checkpoint-25500/pytorch_model.bin\n",
            "tokenizer config file saved in t5-finetuned-cnn-dailymail-english/checkpoint-25500/tokenizer_config.json\n",
            "Special tokens file saved in t5-finetuned-cnn-dailymail-english/checkpoint-25500/special_tokens_map.json\n",
            "Deleting older checkpoint [t5-finetuned-cnn-dailymail-english/checkpoint-24000] due to args.save_total_limit\n",
            "Saving model checkpoint to t5-finetuned-cnn-dailymail-english/checkpoint-26000\n",
            "Configuration saved in t5-finetuned-cnn-dailymail-english/checkpoint-26000/config.json\n",
            "Model weights saved in t5-finetuned-cnn-dailymail-english/checkpoint-26000/pytorch_model.bin\n",
            "tokenizer config file saved in t5-finetuned-cnn-dailymail-english/checkpoint-26000/tokenizer_config.json\n",
            "Special tokens file saved in t5-finetuned-cnn-dailymail-english/checkpoint-26000/special_tokens_map.json\n",
            "Deleting older checkpoint [t5-finetuned-cnn-dailymail-english/checkpoint-24500] due to args.save_total_limit\n",
            "Saving model checkpoint to t5-finetuned-cnn-dailymail-english/checkpoint-26500\n",
            "Configuration saved in t5-finetuned-cnn-dailymail-english/checkpoint-26500/config.json\n",
            "Model weights saved in t5-finetuned-cnn-dailymail-english/checkpoint-26500/pytorch_model.bin\n",
            "tokenizer config file saved in t5-finetuned-cnn-dailymail-english/checkpoint-26500/tokenizer_config.json\n",
            "Special tokens file saved in t5-finetuned-cnn-dailymail-english/checkpoint-26500/special_tokens_map.json\n",
            "Deleting older checkpoint [t5-finetuned-cnn-dailymail-english/checkpoint-25000] due to args.save_total_limit\n",
            "Saving model checkpoint to t5-finetuned-cnn-dailymail-english/checkpoint-27000\n",
            "Configuration saved in t5-finetuned-cnn-dailymail-english/checkpoint-27000/config.json\n",
            "Model weights saved in t5-finetuned-cnn-dailymail-english/checkpoint-27000/pytorch_model.bin\n",
            "tokenizer config file saved in t5-finetuned-cnn-dailymail-english/checkpoint-27000/tokenizer_config.json\n",
            "Special tokens file saved in t5-finetuned-cnn-dailymail-english/checkpoint-27000/special_tokens_map.json\n",
            "Deleting older checkpoint [t5-finetuned-cnn-dailymail-english/checkpoint-25500] due to args.save_total_limit\n",
            "Saving model checkpoint to t5-finetuned-cnn-dailymail-english/checkpoint-27500\n",
            "Configuration saved in t5-finetuned-cnn-dailymail-english/checkpoint-27500/config.json\n",
            "Model weights saved in t5-finetuned-cnn-dailymail-english/checkpoint-27500/pytorch_model.bin\n",
            "tokenizer config file saved in t5-finetuned-cnn-dailymail-english/checkpoint-27500/tokenizer_config.json\n",
            "Special tokens file saved in t5-finetuned-cnn-dailymail-english/checkpoint-27500/special_tokens_map.json\n",
            "Deleting older checkpoint [t5-finetuned-cnn-dailymail-english/checkpoint-26000] due to args.save_total_limit\n",
            "Saving model checkpoint to t5-finetuned-cnn-dailymail-english/checkpoint-28000\n",
            "Configuration saved in t5-finetuned-cnn-dailymail-english/checkpoint-28000/config.json\n",
            "Model weights saved in t5-finetuned-cnn-dailymail-english/checkpoint-28000/pytorch_model.bin\n",
            "tokenizer config file saved in t5-finetuned-cnn-dailymail-english/checkpoint-28000/tokenizer_config.json\n",
            "Special tokens file saved in t5-finetuned-cnn-dailymail-english/checkpoint-28000/special_tokens_map.json\n",
            "Deleting older checkpoint [t5-finetuned-cnn-dailymail-english/checkpoint-26500] due to args.save_total_limit\n",
            "Saving model checkpoint to t5-finetuned-cnn-dailymail-english/checkpoint-28500\n",
            "Configuration saved in t5-finetuned-cnn-dailymail-english/checkpoint-28500/config.json\n",
            "Model weights saved in t5-finetuned-cnn-dailymail-english/checkpoint-28500/pytorch_model.bin\n",
            "tokenizer config file saved in t5-finetuned-cnn-dailymail-english/checkpoint-28500/tokenizer_config.json\n",
            "Special tokens file saved in t5-finetuned-cnn-dailymail-english/checkpoint-28500/special_tokens_map.json\n",
            "Deleting older checkpoint [t5-finetuned-cnn-dailymail-english/checkpoint-27000] due to args.save_total_limit\n",
            "Saving model checkpoint to t5-finetuned-cnn-dailymail-english/checkpoint-29000\n",
            "Configuration saved in t5-finetuned-cnn-dailymail-english/checkpoint-29000/config.json\n",
            "Model weights saved in t5-finetuned-cnn-dailymail-english/checkpoint-29000/pytorch_model.bin\n",
            "tokenizer config file saved in t5-finetuned-cnn-dailymail-english/checkpoint-29000/tokenizer_config.json\n",
            "Special tokens file saved in t5-finetuned-cnn-dailymail-english/checkpoint-29000/special_tokens_map.json\n",
            "Deleting older checkpoint [t5-finetuned-cnn-dailymail-english/checkpoint-27500] due to args.save_total_limit\n",
            "Saving model checkpoint to t5-finetuned-cnn-dailymail-english/checkpoint-29500\n",
            "Configuration saved in t5-finetuned-cnn-dailymail-english/checkpoint-29500/config.json\n",
            "Model weights saved in t5-finetuned-cnn-dailymail-english/checkpoint-29500/pytorch_model.bin\n",
            "tokenizer config file saved in t5-finetuned-cnn-dailymail-english/checkpoint-29500/tokenizer_config.json\n",
            "Special tokens file saved in t5-finetuned-cnn-dailymail-english/checkpoint-29500/special_tokens_map.json\n",
            "Deleting older checkpoint [t5-finetuned-cnn-dailymail-english/checkpoint-28000] due to args.save_total_limit\n",
            "Saving model checkpoint to t5-finetuned-cnn-dailymail-english/checkpoint-30000\n",
            "Configuration saved in t5-finetuned-cnn-dailymail-english/checkpoint-30000/config.json\n",
            "Model weights saved in t5-finetuned-cnn-dailymail-english/checkpoint-30000/pytorch_model.bin\n",
            "tokenizer config file saved in t5-finetuned-cnn-dailymail-english/checkpoint-30000/tokenizer_config.json\n",
            "Special tokens file saved in t5-finetuned-cnn-dailymail-english/checkpoint-30000/special_tokens_map.json\n",
            "Deleting older checkpoint [t5-finetuned-cnn-dailymail-english/checkpoint-28500] due to args.save_total_limit\n",
            "Saving model checkpoint to t5-finetuned-cnn-dailymail-english/checkpoint-30500\n",
            "Configuration saved in t5-finetuned-cnn-dailymail-english/checkpoint-30500/config.json\n",
            "Model weights saved in t5-finetuned-cnn-dailymail-english/checkpoint-30500/pytorch_model.bin\n",
            "tokenizer config file saved in t5-finetuned-cnn-dailymail-english/checkpoint-30500/tokenizer_config.json\n",
            "Special tokens file saved in t5-finetuned-cnn-dailymail-english/checkpoint-30500/special_tokens_map.json\n",
            "Deleting older checkpoint [t5-finetuned-cnn-dailymail-english/checkpoint-29000] due to args.save_total_limit\n",
            "Saving model checkpoint to t5-finetuned-cnn-dailymail-english/checkpoint-31000\n",
            "Configuration saved in t5-finetuned-cnn-dailymail-english/checkpoint-31000/config.json\n",
            "Model weights saved in t5-finetuned-cnn-dailymail-english/checkpoint-31000/pytorch_model.bin\n",
            "tokenizer config file saved in t5-finetuned-cnn-dailymail-english/checkpoint-31000/tokenizer_config.json\n",
            "Special tokens file saved in t5-finetuned-cnn-dailymail-english/checkpoint-31000/special_tokens_map.json\n",
            "Deleting older checkpoint [t5-finetuned-cnn-dailymail-english/checkpoint-29500] due to args.save_total_limit\n",
            "Saving model checkpoint to t5-finetuned-cnn-dailymail-english/checkpoint-31500\n",
            "Configuration saved in t5-finetuned-cnn-dailymail-english/checkpoint-31500/config.json\n",
            "Model weights saved in t5-finetuned-cnn-dailymail-english/checkpoint-31500/pytorch_model.bin\n",
            "tokenizer config file saved in t5-finetuned-cnn-dailymail-english/checkpoint-31500/tokenizer_config.json\n",
            "Special tokens file saved in t5-finetuned-cnn-dailymail-english/checkpoint-31500/special_tokens_map.json\n",
            "Deleting older checkpoint [t5-finetuned-cnn-dailymail-english/checkpoint-30000] due to args.save_total_limit\n",
            "Saving model checkpoint to t5-finetuned-cnn-dailymail-english/checkpoint-32000\n",
            "Configuration saved in t5-finetuned-cnn-dailymail-english/checkpoint-32000/config.json\n",
            "Model weights saved in t5-finetuned-cnn-dailymail-english/checkpoint-32000/pytorch_model.bin\n",
            "tokenizer config file saved in t5-finetuned-cnn-dailymail-english/checkpoint-32000/tokenizer_config.json\n",
            "Special tokens file saved in t5-finetuned-cnn-dailymail-english/checkpoint-32000/special_tokens_map.json\n",
            "Deleting older checkpoint [t5-finetuned-cnn-dailymail-english/checkpoint-30500] due to args.save_total_limit\n"
          ]
        }
      ]
    },
    {
      "cell_type": "markdown",
      "source": [
        "Once the training is complete, we can see the final ROUGE scores by running trainer.evaluate(): "
      ],
      "metadata": {
        "id": "J5o0_F5g3wXh"
      }
    },
    {
      "cell_type": "code",
      "source": [
        "trainer.evaluate()"
      ],
      "metadata": {
        "id": "fLBhG1qBpRaE"
      },
      "execution_count": null,
      "outputs": []
    },
    {
      "cell_type": "markdown",
      "source": [
        "## **Using the Fine-Tuned Model**"
      ],
      "metadata": {
        "id": "yIzmPMW332Us"
      }
    },
    {
      "cell_type": "markdown",
      "source": [
        "Pre-Trained model -> \"t5-small\"\n",
        "\n",
        "Pushing the model weights (after fine-tuning) to the hub"
      ],
      "metadata": {
        "id": "qJ66IMfa38TB"
      }
    },
    {
      "cell_type": "code",
      "source": [
        "trainer.push_to_hub(commit_message='Training_complete', tags='Summarization')"
      ],
      "metadata": {
        "id": "0UO5Mdu239fw"
      },
      "execution_count": null,
      "outputs": []
    },
    {
      "cell_type": "markdown",
      "source": [
        "This will save the checkpoint and configuration files to output_dir, before uploading all the files to the Hub. By specifying the tags argument, we also ensure that the widget on the Hub will be one for a summarization pipeline instead of the default text generation one associated with the T5 architecture\n",
        "\n",
        "The output from trainer.push_to_hub() is a URL to the Git commit hash"
      ],
      "metadata": {
        "id": "8piEsenf3_4E"
      }
    },
    {
      "cell_type": "code",
      "source": [
        "from transformers import pipeline\n",
        "\n",
        "hub_model = \"t5-finetuned-cnn-dailymail-english\"\n",
        "summarizer = pipeline('summarization', model=hub_model)"
      ],
      "metadata": {
        "id": "I-jTvF7g4CBQ"
      },
      "execution_count": null,
      "outputs": []
    },
    {
      "cell_type": "markdown",
      "source": [
        "print_summary() function to show the review, title, and generated summary together"
      ],
      "metadata": {
        "id": "EQ_aT9BF4sqy"
      }
    },
    {
      "cell_type": "code",
      "source": [
        "def print_summary(idx):\n",
        "  review = datasets['test'][idx]['article']\n",
        "  title = datasets['test'][idx]['highlights']\n",
        "  summary = summarizer(datasets['test'][idx]['article'])[0]['summary_text']\n",
        "  print(\">>> Article: {}\".format(review))\n",
        "  print(\">>> Highlights: {}\".format(title))\n",
        "  print(\">>> Summary: {}\".format(summary))"
      ],
      "metadata": {
        "id": "XJ-SFQsv3_6Z"
      },
      "execution_count": null,
      "outputs": []
    },
    {
      "cell_type": "code",
      "source": [
        "print_summary(50)"
      ],
      "metadata": {
        "id": "8BTEgd7y4uBl"
      },
      "execution_count": null,
      "outputs": []
    }
  ],
  "metadata": {
    "accelerator": "GPU",
    "colab": {
      "provenance": [],
      "collapsed_sections": [],
      "authorship_tag": "ABX9TyN/H4ugFy3T4/l+W80/5B05",
      "include_colab_link": true
    },
    "kernelspec": {
      "display_name": "Python 3",
      "name": "python3"
    },
    "language_info": {
      "name": "python"
    },
    "widgets": {
      "application/vnd.jupyter.widget-state+json": {
        "cca736bf11704d35b534af5de2c1d851": {
          "model_module": "@jupyter-widgets/controls",
          "model_name": "HBoxModel",
          "model_module_version": "1.5.0",
          "state": {
            "_dom_classes": [],
            "_model_module": "@jupyter-widgets/controls",
            "_model_module_version": "1.5.0",
            "_model_name": "HBoxModel",
            "_view_count": null,
            "_view_module": "@jupyter-widgets/controls",
            "_view_module_version": "1.5.0",
            "_view_name": "HBoxView",
            "box_style": "",
            "children": [
              "IPY_MODEL_99dc07ca37f24ec193f1296e2a5c91d7",
              "IPY_MODEL_4ee452762c7d47bda27c62f36cbe44b5",
              "IPY_MODEL_56b00bdf0e384addbf5e9475a74fb44d"
            ],
            "layout": "IPY_MODEL_75c137a004d2494a9fc88a467e27d976"
          }
        },
        "99dc07ca37f24ec193f1296e2a5c91d7": {
          "model_module": "@jupyter-widgets/controls",
          "model_name": "HTMLModel",
          "model_module_version": "1.5.0",
          "state": {
            "_dom_classes": [],
            "_model_module": "@jupyter-widgets/controls",
            "_model_module_version": "1.5.0",
            "_model_name": "HTMLModel",
            "_view_count": null,
            "_view_module": "@jupyter-widgets/controls",
            "_view_module_version": "1.5.0",
            "_view_name": "HTMLView",
            "description": "",
            "description_tooltip": null,
            "layout": "IPY_MODEL_4cbfb8201e214d4ab8213fa134f0c523",
            "placeholder": "​",
            "style": "IPY_MODEL_fe916f1375a243488e1d4494b44520a7",
            "value": "100%"
          }
        },
        "4ee452762c7d47bda27c62f36cbe44b5": {
          "model_module": "@jupyter-widgets/controls",
          "model_name": "FloatProgressModel",
          "model_module_version": "1.5.0",
          "state": {
            "_dom_classes": [],
            "_model_module": "@jupyter-widgets/controls",
            "_model_module_version": "1.5.0",
            "_model_name": "FloatProgressModel",
            "_view_count": null,
            "_view_module": "@jupyter-widgets/controls",
            "_view_module_version": "1.5.0",
            "_view_name": "ProgressView",
            "bar_style": "success",
            "description": "",
            "description_tooltip": null,
            "layout": "IPY_MODEL_7a71060b83584c159e60b88cb8aa428f",
            "max": 3,
            "min": 0,
            "orientation": "horizontal",
            "style": "IPY_MODEL_de464f9d939245be80e6b7e00dcc49ed",
            "value": 3
          }
        },
        "56b00bdf0e384addbf5e9475a74fb44d": {
          "model_module": "@jupyter-widgets/controls",
          "model_name": "HTMLModel",
          "model_module_version": "1.5.0",
          "state": {
            "_dom_classes": [],
            "_model_module": "@jupyter-widgets/controls",
            "_model_module_version": "1.5.0",
            "_model_name": "HTMLModel",
            "_view_count": null,
            "_view_module": "@jupyter-widgets/controls",
            "_view_module_version": "1.5.0",
            "_view_name": "HTMLView",
            "description": "",
            "description_tooltip": null,
            "layout": "IPY_MODEL_0fba505ac18c4b81acdb7050c0adcd4f",
            "placeholder": "​",
            "style": "IPY_MODEL_14804d285eba48bdb14c3b0c199d3abc",
            "value": " 3/3 [00:00&lt;00:00, 68.84it/s]"
          }
        },
        "75c137a004d2494a9fc88a467e27d976": {
          "model_module": "@jupyter-widgets/base",
          "model_name": "LayoutModel",
          "model_module_version": "1.2.0",
          "state": {
            "_model_module": "@jupyter-widgets/base",
            "_model_module_version": "1.2.0",
            "_model_name": "LayoutModel",
            "_view_count": null,
            "_view_module": "@jupyter-widgets/base",
            "_view_module_version": "1.2.0",
            "_view_name": "LayoutView",
            "align_content": null,
            "align_items": null,
            "align_self": null,
            "border": null,
            "bottom": null,
            "display": null,
            "flex": null,
            "flex_flow": null,
            "grid_area": null,
            "grid_auto_columns": null,
            "grid_auto_flow": null,
            "grid_auto_rows": null,
            "grid_column": null,
            "grid_gap": null,
            "grid_row": null,
            "grid_template_areas": null,
            "grid_template_columns": null,
            "grid_template_rows": null,
            "height": null,
            "justify_content": null,
            "justify_items": null,
            "left": null,
            "margin": null,
            "max_height": null,
            "max_width": null,
            "min_height": null,
            "min_width": null,
            "object_fit": null,
            "object_position": null,
            "order": null,
            "overflow": null,
            "overflow_x": null,
            "overflow_y": null,
            "padding": null,
            "right": null,
            "top": null,
            "visibility": null,
            "width": null
          }
        },
        "4cbfb8201e214d4ab8213fa134f0c523": {
          "model_module": "@jupyter-widgets/base",
          "model_name": "LayoutModel",
          "model_module_version": "1.2.0",
          "state": {
            "_model_module": "@jupyter-widgets/base",
            "_model_module_version": "1.2.0",
            "_model_name": "LayoutModel",
            "_view_count": null,
            "_view_module": "@jupyter-widgets/base",
            "_view_module_version": "1.2.0",
            "_view_name": "LayoutView",
            "align_content": null,
            "align_items": null,
            "align_self": null,
            "border": null,
            "bottom": null,
            "display": null,
            "flex": null,
            "flex_flow": null,
            "grid_area": null,
            "grid_auto_columns": null,
            "grid_auto_flow": null,
            "grid_auto_rows": null,
            "grid_column": null,
            "grid_gap": null,
            "grid_row": null,
            "grid_template_areas": null,
            "grid_template_columns": null,
            "grid_template_rows": null,
            "height": null,
            "justify_content": null,
            "justify_items": null,
            "left": null,
            "margin": null,
            "max_height": null,
            "max_width": null,
            "min_height": null,
            "min_width": null,
            "object_fit": null,
            "object_position": null,
            "order": null,
            "overflow": null,
            "overflow_x": null,
            "overflow_y": null,
            "padding": null,
            "right": null,
            "top": null,
            "visibility": null,
            "width": null
          }
        },
        "fe916f1375a243488e1d4494b44520a7": {
          "model_module": "@jupyter-widgets/controls",
          "model_name": "DescriptionStyleModel",
          "model_module_version": "1.5.0",
          "state": {
            "_model_module": "@jupyter-widgets/controls",
            "_model_module_version": "1.5.0",
            "_model_name": "DescriptionStyleModel",
            "_view_count": null,
            "_view_module": "@jupyter-widgets/base",
            "_view_module_version": "1.2.0",
            "_view_name": "StyleView",
            "description_width": ""
          }
        },
        "7a71060b83584c159e60b88cb8aa428f": {
          "model_module": "@jupyter-widgets/base",
          "model_name": "LayoutModel",
          "model_module_version": "1.2.0",
          "state": {
            "_model_module": "@jupyter-widgets/base",
            "_model_module_version": "1.2.0",
            "_model_name": "LayoutModel",
            "_view_count": null,
            "_view_module": "@jupyter-widgets/base",
            "_view_module_version": "1.2.0",
            "_view_name": "LayoutView",
            "align_content": null,
            "align_items": null,
            "align_self": null,
            "border": null,
            "bottom": null,
            "display": null,
            "flex": null,
            "flex_flow": null,
            "grid_area": null,
            "grid_auto_columns": null,
            "grid_auto_flow": null,
            "grid_auto_rows": null,
            "grid_column": null,
            "grid_gap": null,
            "grid_row": null,
            "grid_template_areas": null,
            "grid_template_columns": null,
            "grid_template_rows": null,
            "height": null,
            "justify_content": null,
            "justify_items": null,
            "left": null,
            "margin": null,
            "max_height": null,
            "max_width": null,
            "min_height": null,
            "min_width": null,
            "object_fit": null,
            "object_position": null,
            "order": null,
            "overflow": null,
            "overflow_x": null,
            "overflow_y": null,
            "padding": null,
            "right": null,
            "top": null,
            "visibility": null,
            "width": null
          }
        },
        "de464f9d939245be80e6b7e00dcc49ed": {
          "model_module": "@jupyter-widgets/controls",
          "model_name": "ProgressStyleModel",
          "model_module_version": "1.5.0",
          "state": {
            "_model_module": "@jupyter-widgets/controls",
            "_model_module_version": "1.5.0",
            "_model_name": "ProgressStyleModel",
            "_view_count": null,
            "_view_module": "@jupyter-widgets/base",
            "_view_module_version": "1.2.0",
            "_view_name": "StyleView",
            "bar_color": null,
            "description_width": ""
          }
        },
        "0fba505ac18c4b81acdb7050c0adcd4f": {
          "model_module": "@jupyter-widgets/base",
          "model_name": "LayoutModel",
          "model_module_version": "1.2.0",
          "state": {
            "_model_module": "@jupyter-widgets/base",
            "_model_module_version": "1.2.0",
            "_model_name": "LayoutModel",
            "_view_count": null,
            "_view_module": "@jupyter-widgets/base",
            "_view_module_version": "1.2.0",
            "_view_name": "LayoutView",
            "align_content": null,
            "align_items": null,
            "align_self": null,
            "border": null,
            "bottom": null,
            "display": null,
            "flex": null,
            "flex_flow": null,
            "grid_area": null,
            "grid_auto_columns": null,
            "grid_auto_flow": null,
            "grid_auto_rows": null,
            "grid_column": null,
            "grid_gap": null,
            "grid_row": null,
            "grid_template_areas": null,
            "grid_template_columns": null,
            "grid_template_rows": null,
            "height": null,
            "justify_content": null,
            "justify_items": null,
            "left": null,
            "margin": null,
            "max_height": null,
            "max_width": null,
            "min_height": null,
            "min_width": null,
            "object_fit": null,
            "object_position": null,
            "order": null,
            "overflow": null,
            "overflow_x": null,
            "overflow_y": null,
            "padding": null,
            "right": null,
            "top": null,
            "visibility": null,
            "width": null
          }
        },
        "14804d285eba48bdb14c3b0c199d3abc": {
          "model_module": "@jupyter-widgets/controls",
          "model_name": "DescriptionStyleModel",
          "model_module_version": "1.5.0",
          "state": {
            "_model_module": "@jupyter-widgets/controls",
            "_model_module_version": "1.5.0",
            "_model_name": "DescriptionStyleModel",
            "_view_count": null,
            "_view_module": "@jupyter-widgets/base",
            "_view_module_version": "1.2.0",
            "_view_name": "StyleView",
            "description_width": ""
          }
        },
        "dbd965406cd04beda69655863216635e": {
          "model_module": "@jupyter-widgets/controls",
          "model_name": "HBoxModel",
          "model_module_version": "1.5.0",
          "state": {
            "_dom_classes": [],
            "_model_module": "@jupyter-widgets/controls",
            "_model_module_version": "1.5.0",
            "_model_name": "HBoxModel",
            "_view_count": null,
            "_view_module": "@jupyter-widgets/controls",
            "_view_module_version": "1.5.0",
            "_view_name": "HBoxView",
            "box_style": "",
            "children": [
              "IPY_MODEL_f2fe55ec61ce4271ba2722a01eb32000",
              "IPY_MODEL_8fe8b73c21824d3d8165d3b53e5adc70",
              "IPY_MODEL_e2cf9f1cb95f44048667ecb7e56828b1"
            ],
            "layout": "IPY_MODEL_e676b50f5a0c4c5b87b0aa0e7eb27472"
          }
        },
        "f2fe55ec61ce4271ba2722a01eb32000": {
          "model_module": "@jupyter-widgets/controls",
          "model_name": "HTMLModel",
          "model_module_version": "1.5.0",
          "state": {
            "_dom_classes": [],
            "_model_module": "@jupyter-widgets/controls",
            "_model_module_version": "1.5.0",
            "_model_name": "HTMLModel",
            "_view_count": null,
            "_view_module": "@jupyter-widgets/controls",
            "_view_module_version": "1.5.0",
            "_view_name": "HTMLView",
            "description": "",
            "description_tooltip": null,
            "layout": "IPY_MODEL_4884eeeb23f4409ca4ed17bb787cfdd1",
            "placeholder": "​",
            "style": "IPY_MODEL_97436d4c3a3e465e9019de39e8906db9",
            "value": "Downloading: 100%"
          }
        },
        "8fe8b73c21824d3d8165d3b53e5adc70": {
          "model_module": "@jupyter-widgets/controls",
          "model_name": "FloatProgressModel",
          "model_module_version": "1.5.0",
          "state": {
            "_dom_classes": [],
            "_model_module": "@jupyter-widgets/controls",
            "_model_module_version": "1.5.0",
            "_model_name": "FloatProgressModel",
            "_view_count": null,
            "_view_module": "@jupyter-widgets/controls",
            "_view_module_version": "1.5.0",
            "_view_name": "ProgressView",
            "bar_style": "success",
            "description": "",
            "description_tooltip": null,
            "layout": "IPY_MODEL_41e8cc6c66964692a48ecb99aa65eb87",
            "max": 1197,
            "min": 0,
            "orientation": "horizontal",
            "style": "IPY_MODEL_23b94899172a4932bc6e6c5ac172dce2",
            "value": 1197
          }
        },
        "e2cf9f1cb95f44048667ecb7e56828b1": {
          "model_module": "@jupyter-widgets/controls",
          "model_name": "HTMLModel",
          "model_module_version": "1.5.0",
          "state": {
            "_dom_classes": [],
            "_model_module": "@jupyter-widgets/controls",
            "_model_module_version": "1.5.0",
            "_model_name": "HTMLModel",
            "_view_count": null,
            "_view_module": "@jupyter-widgets/controls",
            "_view_module_version": "1.5.0",
            "_view_name": "HTMLView",
            "description": "",
            "description_tooltip": null,
            "layout": "IPY_MODEL_9a2226a7d1744c94ae3c73317e43d979",
            "placeholder": "​",
            "style": "IPY_MODEL_77eb154d13614f6fb97987255ef077bb",
            "value": " 1.20k/1.20k [00:00&lt;00:00, 40.0kB/s]"
          }
        },
        "e676b50f5a0c4c5b87b0aa0e7eb27472": {
          "model_module": "@jupyter-widgets/base",
          "model_name": "LayoutModel",
          "model_module_version": "1.2.0",
          "state": {
            "_model_module": "@jupyter-widgets/base",
            "_model_module_version": "1.2.0",
            "_model_name": "LayoutModel",
            "_view_count": null,
            "_view_module": "@jupyter-widgets/base",
            "_view_module_version": "1.2.0",
            "_view_name": "LayoutView",
            "align_content": null,
            "align_items": null,
            "align_self": null,
            "border": null,
            "bottom": null,
            "display": null,
            "flex": null,
            "flex_flow": null,
            "grid_area": null,
            "grid_auto_columns": null,
            "grid_auto_flow": null,
            "grid_auto_rows": null,
            "grid_column": null,
            "grid_gap": null,
            "grid_row": null,
            "grid_template_areas": null,
            "grid_template_columns": null,
            "grid_template_rows": null,
            "height": null,
            "justify_content": null,
            "justify_items": null,
            "left": null,
            "margin": null,
            "max_height": null,
            "max_width": null,
            "min_height": null,
            "min_width": null,
            "object_fit": null,
            "object_position": null,
            "order": null,
            "overflow": null,
            "overflow_x": null,
            "overflow_y": null,
            "padding": null,
            "right": null,
            "top": null,
            "visibility": null,
            "width": null
          }
        },
        "4884eeeb23f4409ca4ed17bb787cfdd1": {
          "model_module": "@jupyter-widgets/base",
          "model_name": "LayoutModel",
          "model_module_version": "1.2.0",
          "state": {
            "_model_module": "@jupyter-widgets/base",
            "_model_module_version": "1.2.0",
            "_model_name": "LayoutModel",
            "_view_count": null,
            "_view_module": "@jupyter-widgets/base",
            "_view_module_version": "1.2.0",
            "_view_name": "LayoutView",
            "align_content": null,
            "align_items": null,
            "align_self": null,
            "border": null,
            "bottom": null,
            "display": null,
            "flex": null,
            "flex_flow": null,
            "grid_area": null,
            "grid_auto_columns": null,
            "grid_auto_flow": null,
            "grid_auto_rows": null,
            "grid_column": null,
            "grid_gap": null,
            "grid_row": null,
            "grid_template_areas": null,
            "grid_template_columns": null,
            "grid_template_rows": null,
            "height": null,
            "justify_content": null,
            "justify_items": null,
            "left": null,
            "margin": null,
            "max_height": null,
            "max_width": null,
            "min_height": null,
            "min_width": null,
            "object_fit": null,
            "object_position": null,
            "order": null,
            "overflow": null,
            "overflow_x": null,
            "overflow_y": null,
            "padding": null,
            "right": null,
            "top": null,
            "visibility": null,
            "width": null
          }
        },
        "97436d4c3a3e465e9019de39e8906db9": {
          "model_module": "@jupyter-widgets/controls",
          "model_name": "DescriptionStyleModel",
          "model_module_version": "1.5.0",
          "state": {
            "_model_module": "@jupyter-widgets/controls",
            "_model_module_version": "1.5.0",
            "_model_name": "DescriptionStyleModel",
            "_view_count": null,
            "_view_module": "@jupyter-widgets/base",
            "_view_module_version": "1.2.0",
            "_view_name": "StyleView",
            "description_width": ""
          }
        },
        "41e8cc6c66964692a48ecb99aa65eb87": {
          "model_module": "@jupyter-widgets/base",
          "model_name": "LayoutModel",
          "model_module_version": "1.2.0",
          "state": {
            "_model_module": "@jupyter-widgets/base",
            "_model_module_version": "1.2.0",
            "_model_name": "LayoutModel",
            "_view_count": null,
            "_view_module": "@jupyter-widgets/base",
            "_view_module_version": "1.2.0",
            "_view_name": "LayoutView",
            "align_content": null,
            "align_items": null,
            "align_self": null,
            "border": null,
            "bottom": null,
            "display": null,
            "flex": null,
            "flex_flow": null,
            "grid_area": null,
            "grid_auto_columns": null,
            "grid_auto_flow": null,
            "grid_auto_rows": null,
            "grid_column": null,
            "grid_gap": null,
            "grid_row": null,
            "grid_template_areas": null,
            "grid_template_columns": null,
            "grid_template_rows": null,
            "height": null,
            "justify_content": null,
            "justify_items": null,
            "left": null,
            "margin": null,
            "max_height": null,
            "max_width": null,
            "min_height": null,
            "min_width": null,
            "object_fit": null,
            "object_position": null,
            "order": null,
            "overflow": null,
            "overflow_x": null,
            "overflow_y": null,
            "padding": null,
            "right": null,
            "top": null,
            "visibility": null,
            "width": null
          }
        },
        "23b94899172a4932bc6e6c5ac172dce2": {
          "model_module": "@jupyter-widgets/controls",
          "model_name": "ProgressStyleModel",
          "model_module_version": "1.5.0",
          "state": {
            "_model_module": "@jupyter-widgets/controls",
            "_model_module_version": "1.5.0",
            "_model_name": "ProgressStyleModel",
            "_view_count": null,
            "_view_module": "@jupyter-widgets/base",
            "_view_module_version": "1.2.0",
            "_view_name": "StyleView",
            "bar_color": null,
            "description_width": ""
          }
        },
        "9a2226a7d1744c94ae3c73317e43d979": {
          "model_module": "@jupyter-widgets/base",
          "model_name": "LayoutModel",
          "model_module_version": "1.2.0",
          "state": {
            "_model_module": "@jupyter-widgets/base",
            "_model_module_version": "1.2.0",
            "_model_name": "LayoutModel",
            "_view_count": null,
            "_view_module": "@jupyter-widgets/base",
            "_view_module_version": "1.2.0",
            "_view_name": "LayoutView",
            "align_content": null,
            "align_items": null,
            "align_self": null,
            "border": null,
            "bottom": null,
            "display": null,
            "flex": null,
            "flex_flow": null,
            "grid_area": null,
            "grid_auto_columns": null,
            "grid_auto_flow": null,
            "grid_auto_rows": null,
            "grid_column": null,
            "grid_gap": null,
            "grid_row": null,
            "grid_template_areas": null,
            "grid_template_columns": null,
            "grid_template_rows": null,
            "height": null,
            "justify_content": null,
            "justify_items": null,
            "left": null,
            "margin": null,
            "max_height": null,
            "max_width": null,
            "min_height": null,
            "min_width": null,
            "object_fit": null,
            "object_position": null,
            "order": null,
            "overflow": null,
            "overflow_x": null,
            "overflow_y": null,
            "padding": null,
            "right": null,
            "top": null,
            "visibility": null,
            "width": null
          }
        },
        "77eb154d13614f6fb97987255ef077bb": {
          "model_module": "@jupyter-widgets/controls",
          "model_name": "DescriptionStyleModel",
          "model_module_version": "1.5.0",
          "state": {
            "_model_module": "@jupyter-widgets/controls",
            "_model_module_version": "1.5.0",
            "_model_name": "DescriptionStyleModel",
            "_view_count": null,
            "_view_module": "@jupyter-widgets/base",
            "_view_module_version": "1.2.0",
            "_view_name": "StyleView",
            "description_width": ""
          }
        },
        "a64b9146381d4c888b93119191ef7961": {
          "model_module": "@jupyter-widgets/controls",
          "model_name": "HBoxModel",
          "model_module_version": "1.5.0",
          "state": {
            "_dom_classes": [],
            "_model_module": "@jupyter-widgets/controls",
            "_model_module_version": "1.5.0",
            "_model_name": "HBoxModel",
            "_view_count": null,
            "_view_module": "@jupyter-widgets/controls",
            "_view_module_version": "1.5.0",
            "_view_name": "HBoxView",
            "box_style": "",
            "children": [
              "IPY_MODEL_9d5149917b47438ea508f47a1e525062",
              "IPY_MODEL_3d66713e883247d6a2785848d2142e08",
              "IPY_MODEL_dcb16307bb7b49f0ad1db0625b0307f3"
            ],
            "layout": "IPY_MODEL_886acea31bfa46dcb76b2e95c2e21c12"
          }
        },
        "9d5149917b47438ea508f47a1e525062": {
          "model_module": "@jupyter-widgets/controls",
          "model_name": "HTMLModel",
          "model_module_version": "1.5.0",
          "state": {
            "_dom_classes": [],
            "_model_module": "@jupyter-widgets/controls",
            "_model_module_version": "1.5.0",
            "_model_name": "HTMLModel",
            "_view_count": null,
            "_view_module": "@jupyter-widgets/controls",
            "_view_module_version": "1.5.0",
            "_view_name": "HTMLView",
            "description": "",
            "description_tooltip": null,
            "layout": "IPY_MODEL_16695672a9b947a6b4c3e95386f09c52",
            "placeholder": "​",
            "style": "IPY_MODEL_5bb3f42bd4b8484bb02cbc660aadb603",
            "value": "Downloading: 100%"
          }
        },
        "3d66713e883247d6a2785848d2142e08": {
          "model_module": "@jupyter-widgets/controls",
          "model_name": "FloatProgressModel",
          "model_module_version": "1.5.0",
          "state": {
            "_dom_classes": [],
            "_model_module": "@jupyter-widgets/controls",
            "_model_module_version": "1.5.0",
            "_model_name": "FloatProgressModel",
            "_view_count": null,
            "_view_module": "@jupyter-widgets/controls",
            "_view_module_version": "1.5.0",
            "_view_name": "ProgressView",
            "bar_style": "success",
            "description": "",
            "description_tooltip": null,
            "layout": "IPY_MODEL_bbac7d98c0c0491b9b06cf57e8eeebb3",
            "max": 791656,
            "min": 0,
            "orientation": "horizontal",
            "style": "IPY_MODEL_e82a550f217d49e782863f209aa9f470",
            "value": 791656
          }
        },
        "dcb16307bb7b49f0ad1db0625b0307f3": {
          "model_module": "@jupyter-widgets/controls",
          "model_name": "HTMLModel",
          "model_module_version": "1.5.0",
          "state": {
            "_dom_classes": [],
            "_model_module": "@jupyter-widgets/controls",
            "_model_module_version": "1.5.0",
            "_model_name": "HTMLModel",
            "_view_count": null,
            "_view_module": "@jupyter-widgets/controls",
            "_view_module_version": "1.5.0",
            "_view_name": "HTMLView",
            "description": "",
            "description_tooltip": null,
            "layout": "IPY_MODEL_f8ff6ac7b01048ef8d34167574798ea5",
            "placeholder": "​",
            "style": "IPY_MODEL_400061625034433db4215bf08c8e6cbe",
            "value": " 792k/792k [00:00&lt;00:00, 652kB/s]"
          }
        },
        "886acea31bfa46dcb76b2e95c2e21c12": {
          "model_module": "@jupyter-widgets/base",
          "model_name": "LayoutModel",
          "model_module_version": "1.2.0",
          "state": {
            "_model_module": "@jupyter-widgets/base",
            "_model_module_version": "1.2.0",
            "_model_name": "LayoutModel",
            "_view_count": null,
            "_view_module": "@jupyter-widgets/base",
            "_view_module_version": "1.2.0",
            "_view_name": "LayoutView",
            "align_content": null,
            "align_items": null,
            "align_self": null,
            "border": null,
            "bottom": null,
            "display": null,
            "flex": null,
            "flex_flow": null,
            "grid_area": null,
            "grid_auto_columns": null,
            "grid_auto_flow": null,
            "grid_auto_rows": null,
            "grid_column": null,
            "grid_gap": null,
            "grid_row": null,
            "grid_template_areas": null,
            "grid_template_columns": null,
            "grid_template_rows": null,
            "height": null,
            "justify_content": null,
            "justify_items": null,
            "left": null,
            "margin": null,
            "max_height": null,
            "max_width": null,
            "min_height": null,
            "min_width": null,
            "object_fit": null,
            "object_position": null,
            "order": null,
            "overflow": null,
            "overflow_x": null,
            "overflow_y": null,
            "padding": null,
            "right": null,
            "top": null,
            "visibility": null,
            "width": null
          }
        },
        "16695672a9b947a6b4c3e95386f09c52": {
          "model_module": "@jupyter-widgets/base",
          "model_name": "LayoutModel",
          "model_module_version": "1.2.0",
          "state": {
            "_model_module": "@jupyter-widgets/base",
            "_model_module_version": "1.2.0",
            "_model_name": "LayoutModel",
            "_view_count": null,
            "_view_module": "@jupyter-widgets/base",
            "_view_module_version": "1.2.0",
            "_view_name": "LayoutView",
            "align_content": null,
            "align_items": null,
            "align_self": null,
            "border": null,
            "bottom": null,
            "display": null,
            "flex": null,
            "flex_flow": null,
            "grid_area": null,
            "grid_auto_columns": null,
            "grid_auto_flow": null,
            "grid_auto_rows": null,
            "grid_column": null,
            "grid_gap": null,
            "grid_row": null,
            "grid_template_areas": null,
            "grid_template_columns": null,
            "grid_template_rows": null,
            "height": null,
            "justify_content": null,
            "justify_items": null,
            "left": null,
            "margin": null,
            "max_height": null,
            "max_width": null,
            "min_height": null,
            "min_width": null,
            "object_fit": null,
            "object_position": null,
            "order": null,
            "overflow": null,
            "overflow_x": null,
            "overflow_y": null,
            "padding": null,
            "right": null,
            "top": null,
            "visibility": null,
            "width": null
          }
        },
        "5bb3f42bd4b8484bb02cbc660aadb603": {
          "model_module": "@jupyter-widgets/controls",
          "model_name": "DescriptionStyleModel",
          "model_module_version": "1.5.0",
          "state": {
            "_model_module": "@jupyter-widgets/controls",
            "_model_module_version": "1.5.0",
            "_model_name": "DescriptionStyleModel",
            "_view_count": null,
            "_view_module": "@jupyter-widgets/base",
            "_view_module_version": "1.2.0",
            "_view_name": "StyleView",
            "description_width": ""
          }
        },
        "bbac7d98c0c0491b9b06cf57e8eeebb3": {
          "model_module": "@jupyter-widgets/base",
          "model_name": "LayoutModel",
          "model_module_version": "1.2.0",
          "state": {
            "_model_module": "@jupyter-widgets/base",
            "_model_module_version": "1.2.0",
            "_model_name": "LayoutModel",
            "_view_count": null,
            "_view_module": "@jupyter-widgets/base",
            "_view_module_version": "1.2.0",
            "_view_name": "LayoutView",
            "align_content": null,
            "align_items": null,
            "align_self": null,
            "border": null,
            "bottom": null,
            "display": null,
            "flex": null,
            "flex_flow": null,
            "grid_area": null,
            "grid_auto_columns": null,
            "grid_auto_flow": null,
            "grid_auto_rows": null,
            "grid_column": null,
            "grid_gap": null,
            "grid_row": null,
            "grid_template_areas": null,
            "grid_template_columns": null,
            "grid_template_rows": null,
            "height": null,
            "justify_content": null,
            "justify_items": null,
            "left": null,
            "margin": null,
            "max_height": null,
            "max_width": null,
            "min_height": null,
            "min_width": null,
            "object_fit": null,
            "object_position": null,
            "order": null,
            "overflow": null,
            "overflow_x": null,
            "overflow_y": null,
            "padding": null,
            "right": null,
            "top": null,
            "visibility": null,
            "width": null
          }
        },
        "e82a550f217d49e782863f209aa9f470": {
          "model_module": "@jupyter-widgets/controls",
          "model_name": "ProgressStyleModel",
          "model_module_version": "1.5.0",
          "state": {
            "_model_module": "@jupyter-widgets/controls",
            "_model_module_version": "1.5.0",
            "_model_name": "ProgressStyleModel",
            "_view_count": null,
            "_view_module": "@jupyter-widgets/base",
            "_view_module_version": "1.2.0",
            "_view_name": "StyleView",
            "bar_color": null,
            "description_width": ""
          }
        },
        "f8ff6ac7b01048ef8d34167574798ea5": {
          "model_module": "@jupyter-widgets/base",
          "model_name": "LayoutModel",
          "model_module_version": "1.2.0",
          "state": {
            "_model_module": "@jupyter-widgets/base",
            "_model_module_version": "1.2.0",
            "_model_name": "LayoutModel",
            "_view_count": null,
            "_view_module": "@jupyter-widgets/base",
            "_view_module_version": "1.2.0",
            "_view_name": "LayoutView",
            "align_content": null,
            "align_items": null,
            "align_self": null,
            "border": null,
            "bottom": null,
            "display": null,
            "flex": null,
            "flex_flow": null,
            "grid_area": null,
            "grid_auto_columns": null,
            "grid_auto_flow": null,
            "grid_auto_rows": null,
            "grid_column": null,
            "grid_gap": null,
            "grid_row": null,
            "grid_template_areas": null,
            "grid_template_columns": null,
            "grid_template_rows": null,
            "height": null,
            "justify_content": null,
            "justify_items": null,
            "left": null,
            "margin": null,
            "max_height": null,
            "max_width": null,
            "min_height": null,
            "min_width": null,
            "object_fit": null,
            "object_position": null,
            "order": null,
            "overflow": null,
            "overflow_x": null,
            "overflow_y": null,
            "padding": null,
            "right": null,
            "top": null,
            "visibility": null,
            "width": null
          }
        },
        "400061625034433db4215bf08c8e6cbe": {
          "model_module": "@jupyter-widgets/controls",
          "model_name": "DescriptionStyleModel",
          "model_module_version": "1.5.0",
          "state": {
            "_model_module": "@jupyter-widgets/controls",
            "_model_module_version": "1.5.0",
            "_model_name": "DescriptionStyleModel",
            "_view_count": null,
            "_view_module": "@jupyter-widgets/base",
            "_view_module_version": "1.2.0",
            "_view_name": "StyleView",
            "description_width": ""
          }
        },
        "ba6cd6d438c34539a5e56d9b1c28e56f": {
          "model_module": "@jupyter-widgets/controls",
          "model_name": "HBoxModel",
          "model_module_version": "1.5.0",
          "state": {
            "_dom_classes": [],
            "_model_module": "@jupyter-widgets/controls",
            "_model_module_version": "1.5.0",
            "_model_name": "HBoxModel",
            "_view_count": null,
            "_view_module": "@jupyter-widgets/controls",
            "_view_module_version": "1.5.0",
            "_view_name": "HBoxView",
            "box_style": "",
            "children": [
              "IPY_MODEL_ff94b9b318964c11a328317ca6fc4411",
              "IPY_MODEL_d9f20fd622974dac9d36c2c39f798748",
              "IPY_MODEL_21dc85424692401db74ae809ee1f925b"
            ],
            "layout": "IPY_MODEL_2a90657df58449b9889c9e73eb7f31b2"
          }
        },
        "ff94b9b318964c11a328317ca6fc4411": {
          "model_module": "@jupyter-widgets/controls",
          "model_name": "HTMLModel",
          "model_module_version": "1.5.0",
          "state": {
            "_dom_classes": [],
            "_model_module": "@jupyter-widgets/controls",
            "_model_module_version": "1.5.0",
            "_model_name": "HTMLModel",
            "_view_count": null,
            "_view_module": "@jupyter-widgets/controls",
            "_view_module_version": "1.5.0",
            "_view_name": "HTMLView",
            "description": "",
            "description_tooltip": null,
            "layout": "IPY_MODEL_0edf168f15054104a58d9d78c6bdc184",
            "placeholder": "​",
            "style": "IPY_MODEL_4391d449023548d4be711cc6e3b9a922",
            "value": "Downloading: 100%"
          }
        },
        "d9f20fd622974dac9d36c2c39f798748": {
          "model_module": "@jupyter-widgets/controls",
          "model_name": "FloatProgressModel",
          "model_module_version": "1.5.0",
          "state": {
            "_dom_classes": [],
            "_model_module": "@jupyter-widgets/controls",
            "_model_module_version": "1.5.0",
            "_model_name": "FloatProgressModel",
            "_view_count": null,
            "_view_module": "@jupyter-widgets/controls",
            "_view_module_version": "1.5.0",
            "_view_name": "ProgressView",
            "bar_style": "success",
            "description": "",
            "description_tooltip": null,
            "layout": "IPY_MODEL_5c098e6c5184480c8d78332910ee38d9",
            "max": 1389353,
            "min": 0,
            "orientation": "horizontal",
            "style": "IPY_MODEL_fd199486348d4bd987384e8fcb7763cc",
            "value": 1389353
          }
        },
        "21dc85424692401db74ae809ee1f925b": {
          "model_module": "@jupyter-widgets/controls",
          "model_name": "HTMLModel",
          "model_module_version": "1.5.0",
          "state": {
            "_dom_classes": [],
            "_model_module": "@jupyter-widgets/controls",
            "_model_module_version": "1.5.0",
            "_model_name": "HTMLModel",
            "_view_count": null,
            "_view_module": "@jupyter-widgets/controls",
            "_view_module_version": "1.5.0",
            "_view_name": "HTMLView",
            "description": "",
            "description_tooltip": null,
            "layout": "IPY_MODEL_1475d3ff5f4a48078855095140724fbe",
            "placeholder": "​",
            "style": "IPY_MODEL_39c6c62d7f2b4d0497cb13ab789da63b",
            "value": " 1.39M/1.39M [00:00&lt;00:00, 1.05MB/s]"
          }
        },
        "2a90657df58449b9889c9e73eb7f31b2": {
          "model_module": "@jupyter-widgets/base",
          "model_name": "LayoutModel",
          "model_module_version": "1.2.0",
          "state": {
            "_model_module": "@jupyter-widgets/base",
            "_model_module_version": "1.2.0",
            "_model_name": "LayoutModel",
            "_view_count": null,
            "_view_module": "@jupyter-widgets/base",
            "_view_module_version": "1.2.0",
            "_view_name": "LayoutView",
            "align_content": null,
            "align_items": null,
            "align_self": null,
            "border": null,
            "bottom": null,
            "display": null,
            "flex": null,
            "flex_flow": null,
            "grid_area": null,
            "grid_auto_columns": null,
            "grid_auto_flow": null,
            "grid_auto_rows": null,
            "grid_column": null,
            "grid_gap": null,
            "grid_row": null,
            "grid_template_areas": null,
            "grid_template_columns": null,
            "grid_template_rows": null,
            "height": null,
            "justify_content": null,
            "justify_items": null,
            "left": null,
            "margin": null,
            "max_height": null,
            "max_width": null,
            "min_height": null,
            "min_width": null,
            "object_fit": null,
            "object_position": null,
            "order": null,
            "overflow": null,
            "overflow_x": null,
            "overflow_y": null,
            "padding": null,
            "right": null,
            "top": null,
            "visibility": null,
            "width": null
          }
        },
        "0edf168f15054104a58d9d78c6bdc184": {
          "model_module": "@jupyter-widgets/base",
          "model_name": "LayoutModel",
          "model_module_version": "1.2.0",
          "state": {
            "_model_module": "@jupyter-widgets/base",
            "_model_module_version": "1.2.0",
            "_model_name": "LayoutModel",
            "_view_count": null,
            "_view_module": "@jupyter-widgets/base",
            "_view_module_version": "1.2.0",
            "_view_name": "LayoutView",
            "align_content": null,
            "align_items": null,
            "align_self": null,
            "border": null,
            "bottom": null,
            "display": null,
            "flex": null,
            "flex_flow": null,
            "grid_area": null,
            "grid_auto_columns": null,
            "grid_auto_flow": null,
            "grid_auto_rows": null,
            "grid_column": null,
            "grid_gap": null,
            "grid_row": null,
            "grid_template_areas": null,
            "grid_template_columns": null,
            "grid_template_rows": null,
            "height": null,
            "justify_content": null,
            "justify_items": null,
            "left": null,
            "margin": null,
            "max_height": null,
            "max_width": null,
            "min_height": null,
            "min_width": null,
            "object_fit": null,
            "object_position": null,
            "order": null,
            "overflow": null,
            "overflow_x": null,
            "overflow_y": null,
            "padding": null,
            "right": null,
            "top": null,
            "visibility": null,
            "width": null
          }
        },
        "4391d449023548d4be711cc6e3b9a922": {
          "model_module": "@jupyter-widgets/controls",
          "model_name": "DescriptionStyleModel",
          "model_module_version": "1.5.0",
          "state": {
            "_model_module": "@jupyter-widgets/controls",
            "_model_module_version": "1.5.0",
            "_model_name": "DescriptionStyleModel",
            "_view_count": null,
            "_view_module": "@jupyter-widgets/base",
            "_view_module_version": "1.2.0",
            "_view_name": "StyleView",
            "description_width": ""
          }
        },
        "5c098e6c5184480c8d78332910ee38d9": {
          "model_module": "@jupyter-widgets/base",
          "model_name": "LayoutModel",
          "model_module_version": "1.2.0",
          "state": {
            "_model_module": "@jupyter-widgets/base",
            "_model_module_version": "1.2.0",
            "_model_name": "LayoutModel",
            "_view_count": null,
            "_view_module": "@jupyter-widgets/base",
            "_view_module_version": "1.2.0",
            "_view_name": "LayoutView",
            "align_content": null,
            "align_items": null,
            "align_self": null,
            "border": null,
            "bottom": null,
            "display": null,
            "flex": null,
            "flex_flow": null,
            "grid_area": null,
            "grid_auto_columns": null,
            "grid_auto_flow": null,
            "grid_auto_rows": null,
            "grid_column": null,
            "grid_gap": null,
            "grid_row": null,
            "grid_template_areas": null,
            "grid_template_columns": null,
            "grid_template_rows": null,
            "height": null,
            "justify_content": null,
            "justify_items": null,
            "left": null,
            "margin": null,
            "max_height": null,
            "max_width": null,
            "min_height": null,
            "min_width": null,
            "object_fit": null,
            "object_position": null,
            "order": null,
            "overflow": null,
            "overflow_x": null,
            "overflow_y": null,
            "padding": null,
            "right": null,
            "top": null,
            "visibility": null,
            "width": null
          }
        },
        "fd199486348d4bd987384e8fcb7763cc": {
          "model_module": "@jupyter-widgets/controls",
          "model_name": "ProgressStyleModel",
          "model_module_version": "1.5.0",
          "state": {
            "_model_module": "@jupyter-widgets/controls",
            "_model_module_version": "1.5.0",
            "_model_name": "ProgressStyleModel",
            "_view_count": null,
            "_view_module": "@jupyter-widgets/base",
            "_view_module_version": "1.2.0",
            "_view_name": "StyleView",
            "bar_color": null,
            "description_width": ""
          }
        },
        "1475d3ff5f4a48078855095140724fbe": {
          "model_module": "@jupyter-widgets/base",
          "model_name": "LayoutModel",
          "model_module_version": "1.2.0",
          "state": {
            "_model_module": "@jupyter-widgets/base",
            "_model_module_version": "1.2.0",
            "_model_name": "LayoutModel",
            "_view_count": null,
            "_view_module": "@jupyter-widgets/base",
            "_view_module_version": "1.2.0",
            "_view_name": "LayoutView",
            "align_content": null,
            "align_items": null,
            "align_self": null,
            "border": null,
            "bottom": null,
            "display": null,
            "flex": null,
            "flex_flow": null,
            "grid_area": null,
            "grid_auto_columns": null,
            "grid_auto_flow": null,
            "grid_auto_rows": null,
            "grid_column": null,
            "grid_gap": null,
            "grid_row": null,
            "grid_template_areas": null,
            "grid_template_columns": null,
            "grid_template_rows": null,
            "height": null,
            "justify_content": null,
            "justify_items": null,
            "left": null,
            "margin": null,
            "max_height": null,
            "max_width": null,
            "min_height": null,
            "min_width": null,
            "object_fit": null,
            "object_position": null,
            "order": null,
            "overflow": null,
            "overflow_x": null,
            "overflow_y": null,
            "padding": null,
            "right": null,
            "top": null,
            "visibility": null,
            "width": null
          }
        },
        "39c6c62d7f2b4d0497cb13ab789da63b": {
          "model_module": "@jupyter-widgets/controls",
          "model_name": "DescriptionStyleModel",
          "model_module_version": "1.5.0",
          "state": {
            "_model_module": "@jupyter-widgets/controls",
            "_model_module_version": "1.5.0",
            "_model_name": "DescriptionStyleModel",
            "_view_count": null,
            "_view_module": "@jupyter-widgets/base",
            "_view_module_version": "1.2.0",
            "_view_name": "StyleView",
            "description_width": ""
          }
        },
        "4f476e6425bd41049367215dfc1c1662": {
          "model_module": "@jupyter-widgets/controls",
          "model_name": "HBoxModel",
          "model_module_version": "1.5.0",
          "state": {
            "_dom_classes": [],
            "_model_module": "@jupyter-widgets/controls",
            "_model_module_version": "1.5.0",
            "_model_name": "HBoxModel",
            "_view_count": null,
            "_view_module": "@jupyter-widgets/controls",
            "_view_module_version": "1.5.0",
            "_view_name": "HBoxView",
            "box_style": "",
            "children": [
              "IPY_MODEL_7c89414e7ccc49fa89e8b8e7df999028",
              "IPY_MODEL_bf5d6b264ece4c1fa3ed3a058613db25",
              "IPY_MODEL_bb7da55d06484b73967b6f51035b447b"
            ],
            "layout": "IPY_MODEL_626eb74e5d824f6dbfcdb7779b8d8bcb"
          }
        },
        "7c89414e7ccc49fa89e8b8e7df999028": {
          "model_module": "@jupyter-widgets/controls",
          "model_name": "HTMLModel",
          "model_module_version": "1.5.0",
          "state": {
            "_dom_classes": [],
            "_model_module": "@jupyter-widgets/controls",
            "_model_module_version": "1.5.0",
            "_model_name": "HTMLModel",
            "_view_count": null,
            "_view_module": "@jupyter-widgets/controls",
            "_view_module_version": "1.5.0",
            "_view_name": "HTMLView",
            "description": "",
            "description_tooltip": null,
            "layout": "IPY_MODEL_5d48bd4f6dff463aa7456c5b923292a3",
            "placeholder": "​",
            "style": "IPY_MODEL_199786de8b1e44a7991ad14536e0e22b",
            "value": "100%"
          }
        },
        "bf5d6b264ece4c1fa3ed3a058613db25": {
          "model_module": "@jupyter-widgets/controls",
          "model_name": "FloatProgressModel",
          "model_module_version": "1.5.0",
          "state": {
            "_dom_classes": [],
            "_model_module": "@jupyter-widgets/controls",
            "_model_module_version": "1.5.0",
            "_model_name": "FloatProgressModel",
            "_view_count": null,
            "_view_module": "@jupyter-widgets/controls",
            "_view_module_version": "1.5.0",
            "_view_name": "ProgressView",
            "bar_style": "danger",
            "description": "",
            "description_tooltip": null,
            "layout": "IPY_MODEL_1b68d8f2837b4543b01aa1c3a5cf6729",
            "max": 288,
            "min": 0,
            "orientation": "horizontal",
            "style": "IPY_MODEL_66fbeaa56bac473599aa7010baabe4fe",
            "value": 287
          }
        },
        "bb7da55d06484b73967b6f51035b447b": {
          "model_module": "@jupyter-widgets/controls",
          "model_name": "HTMLModel",
          "model_module_version": "1.5.0",
          "state": {
            "_dom_classes": [],
            "_model_module": "@jupyter-widgets/controls",
            "_model_module_version": "1.5.0",
            "_model_name": "HTMLModel",
            "_view_count": null,
            "_view_module": "@jupyter-widgets/controls",
            "_view_module_version": "1.5.0",
            "_view_name": "HTMLView",
            "description": "",
            "description_tooltip": null,
            "layout": "IPY_MODEL_5cd194ce6e6141749d65de5473e92bcf",
            "placeholder": "​",
            "style": "IPY_MODEL_651091b02b4145b0a9e306e53a14c263",
            "value": " 287/288 [10:19&lt;00:02,  2.27s/ba]"
          }
        },
        "626eb74e5d824f6dbfcdb7779b8d8bcb": {
          "model_module": "@jupyter-widgets/base",
          "model_name": "LayoutModel",
          "model_module_version": "1.2.0",
          "state": {
            "_model_module": "@jupyter-widgets/base",
            "_model_module_version": "1.2.0",
            "_model_name": "LayoutModel",
            "_view_count": null,
            "_view_module": "@jupyter-widgets/base",
            "_view_module_version": "1.2.0",
            "_view_name": "LayoutView",
            "align_content": null,
            "align_items": null,
            "align_self": null,
            "border": null,
            "bottom": null,
            "display": null,
            "flex": null,
            "flex_flow": null,
            "grid_area": null,
            "grid_auto_columns": null,
            "grid_auto_flow": null,
            "grid_auto_rows": null,
            "grid_column": null,
            "grid_gap": null,
            "grid_row": null,
            "grid_template_areas": null,
            "grid_template_columns": null,
            "grid_template_rows": null,
            "height": null,
            "justify_content": null,
            "justify_items": null,
            "left": null,
            "margin": null,
            "max_height": null,
            "max_width": null,
            "min_height": null,
            "min_width": null,
            "object_fit": null,
            "object_position": null,
            "order": null,
            "overflow": null,
            "overflow_x": null,
            "overflow_y": null,
            "padding": null,
            "right": null,
            "top": null,
            "visibility": null,
            "width": null
          }
        },
        "5d48bd4f6dff463aa7456c5b923292a3": {
          "model_module": "@jupyter-widgets/base",
          "model_name": "LayoutModel",
          "model_module_version": "1.2.0",
          "state": {
            "_model_module": "@jupyter-widgets/base",
            "_model_module_version": "1.2.0",
            "_model_name": "LayoutModel",
            "_view_count": null,
            "_view_module": "@jupyter-widgets/base",
            "_view_module_version": "1.2.0",
            "_view_name": "LayoutView",
            "align_content": null,
            "align_items": null,
            "align_self": null,
            "border": null,
            "bottom": null,
            "display": null,
            "flex": null,
            "flex_flow": null,
            "grid_area": null,
            "grid_auto_columns": null,
            "grid_auto_flow": null,
            "grid_auto_rows": null,
            "grid_column": null,
            "grid_gap": null,
            "grid_row": null,
            "grid_template_areas": null,
            "grid_template_columns": null,
            "grid_template_rows": null,
            "height": null,
            "justify_content": null,
            "justify_items": null,
            "left": null,
            "margin": null,
            "max_height": null,
            "max_width": null,
            "min_height": null,
            "min_width": null,
            "object_fit": null,
            "object_position": null,
            "order": null,
            "overflow": null,
            "overflow_x": null,
            "overflow_y": null,
            "padding": null,
            "right": null,
            "top": null,
            "visibility": null,
            "width": null
          }
        },
        "199786de8b1e44a7991ad14536e0e22b": {
          "model_module": "@jupyter-widgets/controls",
          "model_name": "DescriptionStyleModel",
          "model_module_version": "1.5.0",
          "state": {
            "_model_module": "@jupyter-widgets/controls",
            "_model_module_version": "1.5.0",
            "_model_name": "DescriptionStyleModel",
            "_view_count": null,
            "_view_module": "@jupyter-widgets/base",
            "_view_module_version": "1.2.0",
            "_view_name": "StyleView",
            "description_width": ""
          }
        },
        "1b68d8f2837b4543b01aa1c3a5cf6729": {
          "model_module": "@jupyter-widgets/base",
          "model_name": "LayoutModel",
          "model_module_version": "1.2.0",
          "state": {
            "_model_module": "@jupyter-widgets/base",
            "_model_module_version": "1.2.0",
            "_model_name": "LayoutModel",
            "_view_count": null,
            "_view_module": "@jupyter-widgets/base",
            "_view_module_version": "1.2.0",
            "_view_name": "LayoutView",
            "align_content": null,
            "align_items": null,
            "align_self": null,
            "border": null,
            "bottom": null,
            "display": null,
            "flex": null,
            "flex_flow": null,
            "grid_area": null,
            "grid_auto_columns": null,
            "grid_auto_flow": null,
            "grid_auto_rows": null,
            "grid_column": null,
            "grid_gap": null,
            "grid_row": null,
            "grid_template_areas": null,
            "grid_template_columns": null,
            "grid_template_rows": null,
            "height": null,
            "justify_content": null,
            "justify_items": null,
            "left": null,
            "margin": null,
            "max_height": null,
            "max_width": null,
            "min_height": null,
            "min_width": null,
            "object_fit": null,
            "object_position": null,
            "order": null,
            "overflow": null,
            "overflow_x": null,
            "overflow_y": null,
            "padding": null,
            "right": null,
            "top": null,
            "visibility": null,
            "width": null
          }
        },
        "66fbeaa56bac473599aa7010baabe4fe": {
          "model_module": "@jupyter-widgets/controls",
          "model_name": "ProgressStyleModel",
          "model_module_version": "1.5.0",
          "state": {
            "_model_module": "@jupyter-widgets/controls",
            "_model_module_version": "1.5.0",
            "_model_name": "ProgressStyleModel",
            "_view_count": null,
            "_view_module": "@jupyter-widgets/base",
            "_view_module_version": "1.2.0",
            "_view_name": "StyleView",
            "bar_color": null,
            "description_width": ""
          }
        },
        "5cd194ce6e6141749d65de5473e92bcf": {
          "model_module": "@jupyter-widgets/base",
          "model_name": "LayoutModel",
          "model_module_version": "1.2.0",
          "state": {
            "_model_module": "@jupyter-widgets/base",
            "_model_module_version": "1.2.0",
            "_model_name": "LayoutModel",
            "_view_count": null,
            "_view_module": "@jupyter-widgets/base",
            "_view_module_version": "1.2.0",
            "_view_name": "LayoutView",
            "align_content": null,
            "align_items": null,
            "align_self": null,
            "border": null,
            "bottom": null,
            "display": null,
            "flex": null,
            "flex_flow": null,
            "grid_area": null,
            "grid_auto_columns": null,
            "grid_auto_flow": null,
            "grid_auto_rows": null,
            "grid_column": null,
            "grid_gap": null,
            "grid_row": null,
            "grid_template_areas": null,
            "grid_template_columns": null,
            "grid_template_rows": null,
            "height": null,
            "justify_content": null,
            "justify_items": null,
            "left": null,
            "margin": null,
            "max_height": null,
            "max_width": null,
            "min_height": null,
            "min_width": null,
            "object_fit": null,
            "object_position": null,
            "order": null,
            "overflow": null,
            "overflow_x": null,
            "overflow_y": null,
            "padding": null,
            "right": null,
            "top": null,
            "visibility": null,
            "width": null
          }
        },
        "651091b02b4145b0a9e306e53a14c263": {
          "model_module": "@jupyter-widgets/controls",
          "model_name": "DescriptionStyleModel",
          "model_module_version": "1.5.0",
          "state": {
            "_model_module": "@jupyter-widgets/controls",
            "_model_module_version": "1.5.0",
            "_model_name": "DescriptionStyleModel",
            "_view_count": null,
            "_view_module": "@jupyter-widgets/base",
            "_view_module_version": "1.2.0",
            "_view_name": "StyleView",
            "description_width": ""
          }
        },
        "3084b83d637d4e619fa5551228258a70": {
          "model_module": "@jupyter-widgets/controls",
          "model_name": "HBoxModel",
          "model_module_version": "1.5.0",
          "state": {
            "_dom_classes": [],
            "_model_module": "@jupyter-widgets/controls",
            "_model_module_version": "1.5.0",
            "_model_name": "HBoxModel",
            "_view_count": null,
            "_view_module": "@jupyter-widgets/controls",
            "_view_module_version": "1.5.0",
            "_view_name": "HBoxView",
            "box_style": "",
            "children": [
              "IPY_MODEL_e479157ffc7c42149af4eda59ba8fdb0",
              "IPY_MODEL_570fc4a66ac34d0aad54b120219b1d3f",
              "IPY_MODEL_347423ff054543a5a12c4277f2325091"
            ],
            "layout": "IPY_MODEL_6bc9728093504bda8b8dbe901da654d2"
          }
        },
        "e479157ffc7c42149af4eda59ba8fdb0": {
          "model_module": "@jupyter-widgets/controls",
          "model_name": "HTMLModel",
          "model_module_version": "1.5.0",
          "state": {
            "_dom_classes": [],
            "_model_module": "@jupyter-widgets/controls",
            "_model_module_version": "1.5.0",
            "_model_name": "HTMLModel",
            "_view_count": null,
            "_view_module": "@jupyter-widgets/controls",
            "_view_module_version": "1.5.0",
            "_view_name": "HTMLView",
            "description": "",
            "description_tooltip": null,
            "layout": "IPY_MODEL_ed33d02c7cdb4a978016c07c01406cf0",
            "placeholder": "​",
            "style": "IPY_MODEL_91907a32356847f0b7630cd956a36672",
            "value": " 93%"
          }
        },
        "570fc4a66ac34d0aad54b120219b1d3f": {
          "model_module": "@jupyter-widgets/controls",
          "model_name": "FloatProgressModel",
          "model_module_version": "1.5.0",
          "state": {
            "_dom_classes": [],
            "_model_module": "@jupyter-widgets/controls",
            "_model_module_version": "1.5.0",
            "_model_name": "FloatProgressModel",
            "_view_count": null,
            "_view_module": "@jupyter-widgets/controls",
            "_view_module_version": "1.5.0",
            "_view_name": "ProgressView",
            "bar_style": "danger",
            "description": "",
            "description_tooltip": null,
            "layout": "IPY_MODEL_03ebc46d1b5f4b4088326e5fc9a37f9a",
            "max": 14,
            "min": 0,
            "orientation": "horizontal",
            "style": "IPY_MODEL_c42e97c81a404ed08ea03197c3b4eefb",
            "value": 13
          }
        },
        "347423ff054543a5a12c4277f2325091": {
          "model_module": "@jupyter-widgets/controls",
          "model_name": "HTMLModel",
          "model_module_version": "1.5.0",
          "state": {
            "_dom_classes": [],
            "_model_module": "@jupyter-widgets/controls",
            "_model_module_version": "1.5.0",
            "_model_name": "HTMLModel",
            "_view_count": null,
            "_view_module": "@jupyter-widgets/controls",
            "_view_module_version": "1.5.0",
            "_view_name": "HTMLView",
            "description": "",
            "description_tooltip": null,
            "layout": "IPY_MODEL_bc4a5b1d380e472db92c5db9a5be8838",
            "placeholder": "​",
            "style": "IPY_MODEL_35ac158ac3b64aecb7e48ca8849bed8b",
            "value": " 13/14 [00:27&lt;00:02,  2.24s/ba]"
          }
        },
        "6bc9728093504bda8b8dbe901da654d2": {
          "model_module": "@jupyter-widgets/base",
          "model_name": "LayoutModel",
          "model_module_version": "1.2.0",
          "state": {
            "_model_module": "@jupyter-widgets/base",
            "_model_module_version": "1.2.0",
            "_model_name": "LayoutModel",
            "_view_count": null,
            "_view_module": "@jupyter-widgets/base",
            "_view_module_version": "1.2.0",
            "_view_name": "LayoutView",
            "align_content": null,
            "align_items": null,
            "align_self": null,
            "border": null,
            "bottom": null,
            "display": null,
            "flex": null,
            "flex_flow": null,
            "grid_area": null,
            "grid_auto_columns": null,
            "grid_auto_flow": null,
            "grid_auto_rows": null,
            "grid_column": null,
            "grid_gap": null,
            "grid_row": null,
            "grid_template_areas": null,
            "grid_template_columns": null,
            "grid_template_rows": null,
            "height": null,
            "justify_content": null,
            "justify_items": null,
            "left": null,
            "margin": null,
            "max_height": null,
            "max_width": null,
            "min_height": null,
            "min_width": null,
            "object_fit": null,
            "object_position": null,
            "order": null,
            "overflow": null,
            "overflow_x": null,
            "overflow_y": null,
            "padding": null,
            "right": null,
            "top": null,
            "visibility": null,
            "width": null
          }
        },
        "ed33d02c7cdb4a978016c07c01406cf0": {
          "model_module": "@jupyter-widgets/base",
          "model_name": "LayoutModel",
          "model_module_version": "1.2.0",
          "state": {
            "_model_module": "@jupyter-widgets/base",
            "_model_module_version": "1.2.0",
            "_model_name": "LayoutModel",
            "_view_count": null,
            "_view_module": "@jupyter-widgets/base",
            "_view_module_version": "1.2.0",
            "_view_name": "LayoutView",
            "align_content": null,
            "align_items": null,
            "align_self": null,
            "border": null,
            "bottom": null,
            "display": null,
            "flex": null,
            "flex_flow": null,
            "grid_area": null,
            "grid_auto_columns": null,
            "grid_auto_flow": null,
            "grid_auto_rows": null,
            "grid_column": null,
            "grid_gap": null,
            "grid_row": null,
            "grid_template_areas": null,
            "grid_template_columns": null,
            "grid_template_rows": null,
            "height": null,
            "justify_content": null,
            "justify_items": null,
            "left": null,
            "margin": null,
            "max_height": null,
            "max_width": null,
            "min_height": null,
            "min_width": null,
            "object_fit": null,
            "object_position": null,
            "order": null,
            "overflow": null,
            "overflow_x": null,
            "overflow_y": null,
            "padding": null,
            "right": null,
            "top": null,
            "visibility": null,
            "width": null
          }
        },
        "91907a32356847f0b7630cd956a36672": {
          "model_module": "@jupyter-widgets/controls",
          "model_name": "DescriptionStyleModel",
          "model_module_version": "1.5.0",
          "state": {
            "_model_module": "@jupyter-widgets/controls",
            "_model_module_version": "1.5.0",
            "_model_name": "DescriptionStyleModel",
            "_view_count": null,
            "_view_module": "@jupyter-widgets/base",
            "_view_module_version": "1.2.0",
            "_view_name": "StyleView",
            "description_width": ""
          }
        },
        "03ebc46d1b5f4b4088326e5fc9a37f9a": {
          "model_module": "@jupyter-widgets/base",
          "model_name": "LayoutModel",
          "model_module_version": "1.2.0",
          "state": {
            "_model_module": "@jupyter-widgets/base",
            "_model_module_version": "1.2.0",
            "_model_name": "LayoutModel",
            "_view_count": null,
            "_view_module": "@jupyter-widgets/base",
            "_view_module_version": "1.2.0",
            "_view_name": "LayoutView",
            "align_content": null,
            "align_items": null,
            "align_self": null,
            "border": null,
            "bottom": null,
            "display": null,
            "flex": null,
            "flex_flow": null,
            "grid_area": null,
            "grid_auto_columns": null,
            "grid_auto_flow": null,
            "grid_auto_rows": null,
            "grid_column": null,
            "grid_gap": null,
            "grid_row": null,
            "grid_template_areas": null,
            "grid_template_columns": null,
            "grid_template_rows": null,
            "height": null,
            "justify_content": null,
            "justify_items": null,
            "left": null,
            "margin": null,
            "max_height": null,
            "max_width": null,
            "min_height": null,
            "min_width": null,
            "object_fit": null,
            "object_position": null,
            "order": null,
            "overflow": null,
            "overflow_x": null,
            "overflow_y": null,
            "padding": null,
            "right": null,
            "top": null,
            "visibility": null,
            "width": null
          }
        },
        "c42e97c81a404ed08ea03197c3b4eefb": {
          "model_module": "@jupyter-widgets/controls",
          "model_name": "ProgressStyleModel",
          "model_module_version": "1.5.0",
          "state": {
            "_model_module": "@jupyter-widgets/controls",
            "_model_module_version": "1.5.0",
            "_model_name": "ProgressStyleModel",
            "_view_count": null,
            "_view_module": "@jupyter-widgets/base",
            "_view_module_version": "1.2.0",
            "_view_name": "StyleView",
            "bar_color": null,
            "description_width": ""
          }
        },
        "bc4a5b1d380e472db92c5db9a5be8838": {
          "model_module": "@jupyter-widgets/base",
          "model_name": "LayoutModel",
          "model_module_version": "1.2.0",
          "state": {
            "_model_module": "@jupyter-widgets/base",
            "_model_module_version": "1.2.0",
            "_model_name": "LayoutModel",
            "_view_count": null,
            "_view_module": "@jupyter-widgets/base",
            "_view_module_version": "1.2.0",
            "_view_name": "LayoutView",
            "align_content": null,
            "align_items": null,
            "align_self": null,
            "border": null,
            "bottom": null,
            "display": null,
            "flex": null,
            "flex_flow": null,
            "grid_area": null,
            "grid_auto_columns": null,
            "grid_auto_flow": null,
            "grid_auto_rows": null,
            "grid_column": null,
            "grid_gap": null,
            "grid_row": null,
            "grid_template_areas": null,
            "grid_template_columns": null,
            "grid_template_rows": null,
            "height": null,
            "justify_content": null,
            "justify_items": null,
            "left": null,
            "margin": null,
            "max_height": null,
            "max_width": null,
            "min_height": null,
            "min_width": null,
            "object_fit": null,
            "object_position": null,
            "order": null,
            "overflow": null,
            "overflow_x": null,
            "overflow_y": null,
            "padding": null,
            "right": null,
            "top": null,
            "visibility": null,
            "width": null
          }
        },
        "35ac158ac3b64aecb7e48ca8849bed8b": {
          "model_module": "@jupyter-widgets/controls",
          "model_name": "DescriptionStyleModel",
          "model_module_version": "1.5.0",
          "state": {
            "_model_module": "@jupyter-widgets/controls",
            "_model_module_version": "1.5.0",
            "_model_name": "DescriptionStyleModel",
            "_view_count": null,
            "_view_module": "@jupyter-widgets/base",
            "_view_module_version": "1.2.0",
            "_view_name": "StyleView",
            "description_width": ""
          }
        },
        "4993012adcc04b44a49bcedbd922ba92": {
          "model_module": "@jupyter-widgets/controls",
          "model_name": "HBoxModel",
          "model_module_version": "1.5.0",
          "state": {
            "_dom_classes": [],
            "_model_module": "@jupyter-widgets/controls",
            "_model_module_version": "1.5.0",
            "_model_name": "HBoxModel",
            "_view_count": null,
            "_view_module": "@jupyter-widgets/controls",
            "_view_module_version": "1.5.0",
            "_view_name": "HBoxView",
            "box_style": "",
            "children": [
              "IPY_MODEL_76385f206ed14a91a6f2543487fafdcf",
              "IPY_MODEL_0b2c493fcb6442f8b1f624217ece14cb",
              "IPY_MODEL_e91878911e90433d8424a504cfe5ece8"
            ],
            "layout": "IPY_MODEL_4b8760a2d47f4403877bafc05a0b0226"
          }
        },
        "76385f206ed14a91a6f2543487fafdcf": {
          "model_module": "@jupyter-widgets/controls",
          "model_name": "HTMLModel",
          "model_module_version": "1.5.0",
          "state": {
            "_dom_classes": [],
            "_model_module": "@jupyter-widgets/controls",
            "_model_module_version": "1.5.0",
            "_model_name": "HTMLModel",
            "_view_count": null,
            "_view_module": "@jupyter-widgets/controls",
            "_view_module_version": "1.5.0",
            "_view_name": "HTMLView",
            "description": "",
            "description_tooltip": null,
            "layout": "IPY_MODEL_3a4a8a4127d8431d80eb2032d7c1d29e",
            "placeholder": "​",
            "style": "IPY_MODEL_441da4f021274a3191188f3a3e08156c",
            "value": " 92%"
          }
        },
        "0b2c493fcb6442f8b1f624217ece14cb": {
          "model_module": "@jupyter-widgets/controls",
          "model_name": "FloatProgressModel",
          "model_module_version": "1.5.0",
          "state": {
            "_dom_classes": [],
            "_model_module": "@jupyter-widgets/controls",
            "_model_module_version": "1.5.0",
            "_model_name": "FloatProgressModel",
            "_view_count": null,
            "_view_module": "@jupyter-widgets/controls",
            "_view_module_version": "1.5.0",
            "_view_name": "ProgressView",
            "bar_style": "danger",
            "description": "",
            "description_tooltip": null,
            "layout": "IPY_MODEL_a97f52aa6e1d443f81868a03c4d567ca",
            "max": 12,
            "min": 0,
            "orientation": "horizontal",
            "style": "IPY_MODEL_d841ba161c2d492ba56573ce427d6fdc",
            "value": 11
          }
        },
        "e91878911e90433d8424a504cfe5ece8": {
          "model_module": "@jupyter-widgets/controls",
          "model_name": "HTMLModel",
          "model_module_version": "1.5.0",
          "state": {
            "_dom_classes": [],
            "_model_module": "@jupyter-widgets/controls",
            "_model_module_version": "1.5.0",
            "_model_name": "HTMLModel",
            "_view_count": null,
            "_view_module": "@jupyter-widgets/controls",
            "_view_module_version": "1.5.0",
            "_view_name": "HTMLView",
            "description": "",
            "description_tooltip": null,
            "layout": "IPY_MODEL_fadd6086a09e4b918902b1015ed2105b",
            "placeholder": "​",
            "style": "IPY_MODEL_57767fd464cf43318cd4d72aa4deacce",
            "value": " 11/12 [00:23&lt;00:02,  2.27s/ba]"
          }
        },
        "4b8760a2d47f4403877bafc05a0b0226": {
          "model_module": "@jupyter-widgets/base",
          "model_name": "LayoutModel",
          "model_module_version": "1.2.0",
          "state": {
            "_model_module": "@jupyter-widgets/base",
            "_model_module_version": "1.2.0",
            "_model_name": "LayoutModel",
            "_view_count": null,
            "_view_module": "@jupyter-widgets/base",
            "_view_module_version": "1.2.0",
            "_view_name": "LayoutView",
            "align_content": null,
            "align_items": null,
            "align_self": null,
            "border": null,
            "bottom": null,
            "display": null,
            "flex": null,
            "flex_flow": null,
            "grid_area": null,
            "grid_auto_columns": null,
            "grid_auto_flow": null,
            "grid_auto_rows": null,
            "grid_column": null,
            "grid_gap": null,
            "grid_row": null,
            "grid_template_areas": null,
            "grid_template_columns": null,
            "grid_template_rows": null,
            "height": null,
            "justify_content": null,
            "justify_items": null,
            "left": null,
            "margin": null,
            "max_height": null,
            "max_width": null,
            "min_height": null,
            "min_width": null,
            "object_fit": null,
            "object_position": null,
            "order": null,
            "overflow": null,
            "overflow_x": null,
            "overflow_y": null,
            "padding": null,
            "right": null,
            "top": null,
            "visibility": null,
            "width": null
          }
        },
        "3a4a8a4127d8431d80eb2032d7c1d29e": {
          "model_module": "@jupyter-widgets/base",
          "model_name": "LayoutModel",
          "model_module_version": "1.2.0",
          "state": {
            "_model_module": "@jupyter-widgets/base",
            "_model_module_version": "1.2.0",
            "_model_name": "LayoutModel",
            "_view_count": null,
            "_view_module": "@jupyter-widgets/base",
            "_view_module_version": "1.2.0",
            "_view_name": "LayoutView",
            "align_content": null,
            "align_items": null,
            "align_self": null,
            "border": null,
            "bottom": null,
            "display": null,
            "flex": null,
            "flex_flow": null,
            "grid_area": null,
            "grid_auto_columns": null,
            "grid_auto_flow": null,
            "grid_auto_rows": null,
            "grid_column": null,
            "grid_gap": null,
            "grid_row": null,
            "grid_template_areas": null,
            "grid_template_columns": null,
            "grid_template_rows": null,
            "height": null,
            "justify_content": null,
            "justify_items": null,
            "left": null,
            "margin": null,
            "max_height": null,
            "max_width": null,
            "min_height": null,
            "min_width": null,
            "object_fit": null,
            "object_position": null,
            "order": null,
            "overflow": null,
            "overflow_x": null,
            "overflow_y": null,
            "padding": null,
            "right": null,
            "top": null,
            "visibility": null,
            "width": null
          }
        },
        "441da4f021274a3191188f3a3e08156c": {
          "model_module": "@jupyter-widgets/controls",
          "model_name": "DescriptionStyleModel",
          "model_module_version": "1.5.0",
          "state": {
            "_model_module": "@jupyter-widgets/controls",
            "_model_module_version": "1.5.0",
            "_model_name": "DescriptionStyleModel",
            "_view_count": null,
            "_view_module": "@jupyter-widgets/base",
            "_view_module_version": "1.2.0",
            "_view_name": "StyleView",
            "description_width": ""
          }
        },
        "a97f52aa6e1d443f81868a03c4d567ca": {
          "model_module": "@jupyter-widgets/base",
          "model_name": "LayoutModel",
          "model_module_version": "1.2.0",
          "state": {
            "_model_module": "@jupyter-widgets/base",
            "_model_module_version": "1.2.0",
            "_model_name": "LayoutModel",
            "_view_count": null,
            "_view_module": "@jupyter-widgets/base",
            "_view_module_version": "1.2.0",
            "_view_name": "LayoutView",
            "align_content": null,
            "align_items": null,
            "align_self": null,
            "border": null,
            "bottom": null,
            "display": null,
            "flex": null,
            "flex_flow": null,
            "grid_area": null,
            "grid_auto_columns": null,
            "grid_auto_flow": null,
            "grid_auto_rows": null,
            "grid_column": null,
            "grid_gap": null,
            "grid_row": null,
            "grid_template_areas": null,
            "grid_template_columns": null,
            "grid_template_rows": null,
            "height": null,
            "justify_content": null,
            "justify_items": null,
            "left": null,
            "margin": null,
            "max_height": null,
            "max_width": null,
            "min_height": null,
            "min_width": null,
            "object_fit": null,
            "object_position": null,
            "order": null,
            "overflow": null,
            "overflow_x": null,
            "overflow_y": null,
            "padding": null,
            "right": null,
            "top": null,
            "visibility": null,
            "width": null
          }
        },
        "d841ba161c2d492ba56573ce427d6fdc": {
          "model_module": "@jupyter-widgets/controls",
          "model_name": "ProgressStyleModel",
          "model_module_version": "1.5.0",
          "state": {
            "_model_module": "@jupyter-widgets/controls",
            "_model_module_version": "1.5.0",
            "_model_name": "ProgressStyleModel",
            "_view_count": null,
            "_view_module": "@jupyter-widgets/base",
            "_view_module_version": "1.2.0",
            "_view_name": "StyleView",
            "bar_color": null,
            "description_width": ""
          }
        },
        "fadd6086a09e4b918902b1015ed2105b": {
          "model_module": "@jupyter-widgets/base",
          "model_name": "LayoutModel",
          "model_module_version": "1.2.0",
          "state": {
            "_model_module": "@jupyter-widgets/base",
            "_model_module_version": "1.2.0",
            "_model_name": "LayoutModel",
            "_view_count": null,
            "_view_module": "@jupyter-widgets/base",
            "_view_module_version": "1.2.0",
            "_view_name": "LayoutView",
            "align_content": null,
            "align_items": null,
            "align_self": null,
            "border": null,
            "bottom": null,
            "display": null,
            "flex": null,
            "flex_flow": null,
            "grid_area": null,
            "grid_auto_columns": null,
            "grid_auto_flow": null,
            "grid_auto_rows": null,
            "grid_column": null,
            "grid_gap": null,
            "grid_row": null,
            "grid_template_areas": null,
            "grid_template_columns": null,
            "grid_template_rows": null,
            "height": null,
            "justify_content": null,
            "justify_items": null,
            "left": null,
            "margin": null,
            "max_height": null,
            "max_width": null,
            "min_height": null,
            "min_width": null,
            "object_fit": null,
            "object_position": null,
            "order": null,
            "overflow": null,
            "overflow_x": null,
            "overflow_y": null,
            "padding": null,
            "right": null,
            "top": null,
            "visibility": null,
            "width": null
          }
        },
        "57767fd464cf43318cd4d72aa4deacce": {
          "model_module": "@jupyter-widgets/controls",
          "model_name": "DescriptionStyleModel",
          "model_module_version": "1.5.0",
          "state": {
            "_model_module": "@jupyter-widgets/controls",
            "_model_module_version": "1.5.0",
            "_model_name": "DescriptionStyleModel",
            "_view_count": null,
            "_view_module": "@jupyter-widgets/base",
            "_view_module_version": "1.2.0",
            "_view_name": "StyleView",
            "description_width": ""
          }
        },
        "76d7049acefd4ce6a133bd44ff2a4ce7": {
          "model_module": "@jupyter-widgets/controls",
          "model_name": "HBoxModel",
          "model_module_version": "1.5.0",
          "state": {
            "_dom_classes": [],
            "_model_module": "@jupyter-widgets/controls",
            "_model_module_version": "1.5.0",
            "_model_name": "HBoxModel",
            "_view_count": null,
            "_view_module": "@jupyter-widgets/controls",
            "_view_module_version": "1.5.0",
            "_view_name": "HBoxView",
            "box_style": "",
            "children": [
              "IPY_MODEL_df9c121866144e11aa9225a4cc5f002d",
              "IPY_MODEL_4442df9594f543eea99df97e46767d71",
              "IPY_MODEL_7a64b65524d343e9b88e199ef9ced559"
            ],
            "layout": "IPY_MODEL_a23ab9a59a7d44aaad797609bd61e874"
          }
        },
        "df9c121866144e11aa9225a4cc5f002d": {
          "model_module": "@jupyter-widgets/controls",
          "model_name": "HTMLModel",
          "model_module_version": "1.5.0",
          "state": {
            "_dom_classes": [],
            "_model_module": "@jupyter-widgets/controls",
            "_model_module_version": "1.5.0",
            "_model_name": "HTMLModel",
            "_view_count": null,
            "_view_module": "@jupyter-widgets/controls",
            "_view_module_version": "1.5.0",
            "_view_name": "HTMLView",
            "description": "",
            "description_tooltip": null,
            "layout": "IPY_MODEL_c26ec3759d014e8082fd3096fa8ccea9",
            "placeholder": "​",
            "style": "IPY_MODEL_8bd1b19517964c889b552b0dbb41fd9e",
            "value": "Downloading builder script: 100%"
          }
        },
        "4442df9594f543eea99df97e46767d71": {
          "model_module": "@jupyter-widgets/controls",
          "model_name": "FloatProgressModel",
          "model_module_version": "1.5.0",
          "state": {
            "_dom_classes": [],
            "_model_module": "@jupyter-widgets/controls",
            "_model_module_version": "1.5.0",
            "_model_name": "FloatProgressModel",
            "_view_count": null,
            "_view_module": "@jupyter-widgets/controls",
            "_view_module_version": "1.5.0",
            "_view_name": "ProgressView",
            "bar_style": "success",
            "description": "",
            "description_tooltip": null,
            "layout": "IPY_MODEL_e0a1fb6555ff4c309b4099dd29a6f433",
            "max": 6270,
            "min": 0,
            "orientation": "horizontal",
            "style": "IPY_MODEL_e6d84dd117e94456b324fdac19ba56cb",
            "value": 6270
          }
        },
        "7a64b65524d343e9b88e199ef9ced559": {
          "model_module": "@jupyter-widgets/controls",
          "model_name": "HTMLModel",
          "model_module_version": "1.5.0",
          "state": {
            "_dom_classes": [],
            "_model_module": "@jupyter-widgets/controls",
            "_model_module_version": "1.5.0",
            "_model_name": "HTMLModel",
            "_view_count": null,
            "_view_module": "@jupyter-widgets/controls",
            "_view_module_version": "1.5.0",
            "_view_name": "HTMLView",
            "description": "",
            "description_tooltip": null,
            "layout": "IPY_MODEL_ba9daf738b684f0f936ee370f5088bc5",
            "placeholder": "​",
            "style": "IPY_MODEL_54b3549c4be64325b10bd8b602dca6eb",
            "value": " 6.27k/6.27k [00:00&lt;00:00, 176kB/s]"
          }
        },
        "a23ab9a59a7d44aaad797609bd61e874": {
          "model_module": "@jupyter-widgets/base",
          "model_name": "LayoutModel",
          "model_module_version": "1.2.0",
          "state": {
            "_model_module": "@jupyter-widgets/base",
            "_model_module_version": "1.2.0",
            "_model_name": "LayoutModel",
            "_view_count": null,
            "_view_module": "@jupyter-widgets/base",
            "_view_module_version": "1.2.0",
            "_view_name": "LayoutView",
            "align_content": null,
            "align_items": null,
            "align_self": null,
            "border": null,
            "bottom": null,
            "display": null,
            "flex": null,
            "flex_flow": null,
            "grid_area": null,
            "grid_auto_columns": null,
            "grid_auto_flow": null,
            "grid_auto_rows": null,
            "grid_column": null,
            "grid_gap": null,
            "grid_row": null,
            "grid_template_areas": null,
            "grid_template_columns": null,
            "grid_template_rows": null,
            "height": null,
            "justify_content": null,
            "justify_items": null,
            "left": null,
            "margin": null,
            "max_height": null,
            "max_width": null,
            "min_height": null,
            "min_width": null,
            "object_fit": null,
            "object_position": null,
            "order": null,
            "overflow": null,
            "overflow_x": null,
            "overflow_y": null,
            "padding": null,
            "right": null,
            "top": null,
            "visibility": null,
            "width": null
          }
        },
        "c26ec3759d014e8082fd3096fa8ccea9": {
          "model_module": "@jupyter-widgets/base",
          "model_name": "LayoutModel",
          "model_module_version": "1.2.0",
          "state": {
            "_model_module": "@jupyter-widgets/base",
            "_model_module_version": "1.2.0",
            "_model_name": "LayoutModel",
            "_view_count": null,
            "_view_module": "@jupyter-widgets/base",
            "_view_module_version": "1.2.0",
            "_view_name": "LayoutView",
            "align_content": null,
            "align_items": null,
            "align_self": null,
            "border": null,
            "bottom": null,
            "display": null,
            "flex": null,
            "flex_flow": null,
            "grid_area": null,
            "grid_auto_columns": null,
            "grid_auto_flow": null,
            "grid_auto_rows": null,
            "grid_column": null,
            "grid_gap": null,
            "grid_row": null,
            "grid_template_areas": null,
            "grid_template_columns": null,
            "grid_template_rows": null,
            "height": null,
            "justify_content": null,
            "justify_items": null,
            "left": null,
            "margin": null,
            "max_height": null,
            "max_width": null,
            "min_height": null,
            "min_width": null,
            "object_fit": null,
            "object_position": null,
            "order": null,
            "overflow": null,
            "overflow_x": null,
            "overflow_y": null,
            "padding": null,
            "right": null,
            "top": null,
            "visibility": null,
            "width": null
          }
        },
        "8bd1b19517964c889b552b0dbb41fd9e": {
          "model_module": "@jupyter-widgets/controls",
          "model_name": "DescriptionStyleModel",
          "model_module_version": "1.5.0",
          "state": {
            "_model_module": "@jupyter-widgets/controls",
            "_model_module_version": "1.5.0",
            "_model_name": "DescriptionStyleModel",
            "_view_count": null,
            "_view_module": "@jupyter-widgets/base",
            "_view_module_version": "1.2.0",
            "_view_name": "StyleView",
            "description_width": ""
          }
        },
        "e0a1fb6555ff4c309b4099dd29a6f433": {
          "model_module": "@jupyter-widgets/base",
          "model_name": "LayoutModel",
          "model_module_version": "1.2.0",
          "state": {
            "_model_module": "@jupyter-widgets/base",
            "_model_module_version": "1.2.0",
            "_model_name": "LayoutModel",
            "_view_count": null,
            "_view_module": "@jupyter-widgets/base",
            "_view_module_version": "1.2.0",
            "_view_name": "LayoutView",
            "align_content": null,
            "align_items": null,
            "align_self": null,
            "border": null,
            "bottom": null,
            "display": null,
            "flex": null,
            "flex_flow": null,
            "grid_area": null,
            "grid_auto_columns": null,
            "grid_auto_flow": null,
            "grid_auto_rows": null,
            "grid_column": null,
            "grid_gap": null,
            "grid_row": null,
            "grid_template_areas": null,
            "grid_template_columns": null,
            "grid_template_rows": null,
            "height": null,
            "justify_content": null,
            "justify_items": null,
            "left": null,
            "margin": null,
            "max_height": null,
            "max_width": null,
            "min_height": null,
            "min_width": null,
            "object_fit": null,
            "object_position": null,
            "order": null,
            "overflow": null,
            "overflow_x": null,
            "overflow_y": null,
            "padding": null,
            "right": null,
            "top": null,
            "visibility": null,
            "width": null
          }
        },
        "e6d84dd117e94456b324fdac19ba56cb": {
          "model_module": "@jupyter-widgets/controls",
          "model_name": "ProgressStyleModel",
          "model_module_version": "1.5.0",
          "state": {
            "_model_module": "@jupyter-widgets/controls",
            "_model_module_version": "1.5.0",
            "_model_name": "ProgressStyleModel",
            "_view_count": null,
            "_view_module": "@jupyter-widgets/base",
            "_view_module_version": "1.2.0",
            "_view_name": "StyleView",
            "bar_color": null,
            "description_width": ""
          }
        },
        "ba9daf738b684f0f936ee370f5088bc5": {
          "model_module": "@jupyter-widgets/base",
          "model_name": "LayoutModel",
          "model_module_version": "1.2.0",
          "state": {
            "_model_module": "@jupyter-widgets/base",
            "_model_module_version": "1.2.0",
            "_model_name": "LayoutModel",
            "_view_count": null,
            "_view_module": "@jupyter-widgets/base",
            "_view_module_version": "1.2.0",
            "_view_name": "LayoutView",
            "align_content": null,
            "align_items": null,
            "align_self": null,
            "border": null,
            "bottom": null,
            "display": null,
            "flex": null,
            "flex_flow": null,
            "grid_area": null,
            "grid_auto_columns": null,
            "grid_auto_flow": null,
            "grid_auto_rows": null,
            "grid_column": null,
            "grid_gap": null,
            "grid_row": null,
            "grid_template_areas": null,
            "grid_template_columns": null,
            "grid_template_rows": null,
            "height": null,
            "justify_content": null,
            "justify_items": null,
            "left": null,
            "margin": null,
            "max_height": null,
            "max_width": null,
            "min_height": null,
            "min_width": null,
            "object_fit": null,
            "object_position": null,
            "order": null,
            "overflow": null,
            "overflow_x": null,
            "overflow_y": null,
            "padding": null,
            "right": null,
            "top": null,
            "visibility": null,
            "width": null
          }
        },
        "54b3549c4be64325b10bd8b602dca6eb": {
          "model_module": "@jupyter-widgets/controls",
          "model_name": "DescriptionStyleModel",
          "model_module_version": "1.5.0",
          "state": {
            "_model_module": "@jupyter-widgets/controls",
            "_model_module_version": "1.5.0",
            "_model_name": "DescriptionStyleModel",
            "_view_count": null,
            "_view_module": "@jupyter-widgets/base",
            "_view_module_version": "1.2.0",
            "_view_name": "StyleView",
            "description_width": ""
          }
        },
        "37979f2a67974fc4be970bd49d16d0b9": {
          "model_module": "@jupyter-widgets/controls",
          "model_name": "HBoxModel",
          "model_module_version": "1.5.0",
          "state": {
            "_dom_classes": [],
            "_model_module": "@jupyter-widgets/controls",
            "_model_module_version": "1.5.0",
            "_model_name": "HBoxModel",
            "_view_count": null,
            "_view_module": "@jupyter-widgets/controls",
            "_view_module_version": "1.5.0",
            "_view_name": "HBoxView",
            "box_style": "",
            "children": [
              "IPY_MODEL_66c86c9241354ead9b162eece444ef1a",
              "IPY_MODEL_f2584235cf0d4866b05520f9557d2f48",
              "IPY_MODEL_ac69f6b5393a4356864382128d09a935"
            ],
            "layout": "IPY_MODEL_a8e3a49deb64420eb181304647f40df7"
          }
        },
        "66c86c9241354ead9b162eece444ef1a": {
          "model_module": "@jupyter-widgets/controls",
          "model_name": "HTMLModel",
          "model_module_version": "1.5.0",
          "state": {
            "_dom_classes": [],
            "_model_module": "@jupyter-widgets/controls",
            "_model_module_version": "1.5.0",
            "_model_name": "HTMLModel",
            "_view_count": null,
            "_view_module": "@jupyter-widgets/controls",
            "_view_module_version": "1.5.0",
            "_view_name": "HTMLView",
            "description": "",
            "description_tooltip": null,
            "layout": "IPY_MODEL_b31c5dd49dda475286c542a4d70c34f7",
            "placeholder": "​",
            "style": "IPY_MODEL_b4103bbb59ef46b0a2f99bf5ce9c33a1",
            "value": "Downloading: 100%"
          }
        },
        "f2584235cf0d4866b05520f9557d2f48": {
          "model_module": "@jupyter-widgets/controls",
          "model_name": "FloatProgressModel",
          "model_module_version": "1.5.0",
          "state": {
            "_dom_classes": [],
            "_model_module": "@jupyter-widgets/controls",
            "_model_module_version": "1.5.0",
            "_model_name": "FloatProgressModel",
            "_view_count": null,
            "_view_module": "@jupyter-widgets/controls",
            "_view_module_version": "1.5.0",
            "_view_name": "ProgressView",
            "bar_style": "success",
            "description": "",
            "description_tooltip": null,
            "layout": "IPY_MODEL_d1b1280048e04dc69a5312c4f7690c7b",
            "max": 242065649,
            "min": 0,
            "orientation": "horizontal",
            "style": "IPY_MODEL_c2286b962eae49a28c985942ccb12e0b",
            "value": 242065649
          }
        },
        "ac69f6b5393a4356864382128d09a935": {
          "model_module": "@jupyter-widgets/controls",
          "model_name": "HTMLModel",
          "model_module_version": "1.5.0",
          "state": {
            "_dom_classes": [],
            "_model_module": "@jupyter-widgets/controls",
            "_model_module_version": "1.5.0",
            "_model_name": "HTMLModel",
            "_view_count": null,
            "_view_module": "@jupyter-widgets/controls",
            "_view_module_version": "1.5.0",
            "_view_name": "HTMLView",
            "description": "",
            "description_tooltip": null,
            "layout": "IPY_MODEL_38f1818d63294ac1a6c5170ec2e22f87",
            "placeholder": "​",
            "style": "IPY_MODEL_10c3745f60e141afb03a5bfecbabd5c9",
            "value": " 242M/242M [00:06&lt;00:00, 28.3MB/s]"
          }
        },
        "a8e3a49deb64420eb181304647f40df7": {
          "model_module": "@jupyter-widgets/base",
          "model_name": "LayoutModel",
          "model_module_version": "1.2.0",
          "state": {
            "_model_module": "@jupyter-widgets/base",
            "_model_module_version": "1.2.0",
            "_model_name": "LayoutModel",
            "_view_count": null,
            "_view_module": "@jupyter-widgets/base",
            "_view_module_version": "1.2.0",
            "_view_name": "LayoutView",
            "align_content": null,
            "align_items": null,
            "align_self": null,
            "border": null,
            "bottom": null,
            "display": null,
            "flex": null,
            "flex_flow": null,
            "grid_area": null,
            "grid_auto_columns": null,
            "grid_auto_flow": null,
            "grid_auto_rows": null,
            "grid_column": null,
            "grid_gap": null,
            "grid_row": null,
            "grid_template_areas": null,
            "grid_template_columns": null,
            "grid_template_rows": null,
            "height": null,
            "justify_content": null,
            "justify_items": null,
            "left": null,
            "margin": null,
            "max_height": null,
            "max_width": null,
            "min_height": null,
            "min_width": null,
            "object_fit": null,
            "object_position": null,
            "order": null,
            "overflow": null,
            "overflow_x": null,
            "overflow_y": null,
            "padding": null,
            "right": null,
            "top": null,
            "visibility": null,
            "width": null
          }
        },
        "b31c5dd49dda475286c542a4d70c34f7": {
          "model_module": "@jupyter-widgets/base",
          "model_name": "LayoutModel",
          "model_module_version": "1.2.0",
          "state": {
            "_model_module": "@jupyter-widgets/base",
            "_model_module_version": "1.2.0",
            "_model_name": "LayoutModel",
            "_view_count": null,
            "_view_module": "@jupyter-widgets/base",
            "_view_module_version": "1.2.0",
            "_view_name": "LayoutView",
            "align_content": null,
            "align_items": null,
            "align_self": null,
            "border": null,
            "bottom": null,
            "display": null,
            "flex": null,
            "flex_flow": null,
            "grid_area": null,
            "grid_auto_columns": null,
            "grid_auto_flow": null,
            "grid_auto_rows": null,
            "grid_column": null,
            "grid_gap": null,
            "grid_row": null,
            "grid_template_areas": null,
            "grid_template_columns": null,
            "grid_template_rows": null,
            "height": null,
            "justify_content": null,
            "justify_items": null,
            "left": null,
            "margin": null,
            "max_height": null,
            "max_width": null,
            "min_height": null,
            "min_width": null,
            "object_fit": null,
            "object_position": null,
            "order": null,
            "overflow": null,
            "overflow_x": null,
            "overflow_y": null,
            "padding": null,
            "right": null,
            "top": null,
            "visibility": null,
            "width": null
          }
        },
        "b4103bbb59ef46b0a2f99bf5ce9c33a1": {
          "model_module": "@jupyter-widgets/controls",
          "model_name": "DescriptionStyleModel",
          "model_module_version": "1.5.0",
          "state": {
            "_model_module": "@jupyter-widgets/controls",
            "_model_module_version": "1.5.0",
            "_model_name": "DescriptionStyleModel",
            "_view_count": null,
            "_view_module": "@jupyter-widgets/base",
            "_view_module_version": "1.2.0",
            "_view_name": "StyleView",
            "description_width": ""
          }
        },
        "d1b1280048e04dc69a5312c4f7690c7b": {
          "model_module": "@jupyter-widgets/base",
          "model_name": "LayoutModel",
          "model_module_version": "1.2.0",
          "state": {
            "_model_module": "@jupyter-widgets/base",
            "_model_module_version": "1.2.0",
            "_model_name": "LayoutModel",
            "_view_count": null,
            "_view_module": "@jupyter-widgets/base",
            "_view_module_version": "1.2.0",
            "_view_name": "LayoutView",
            "align_content": null,
            "align_items": null,
            "align_self": null,
            "border": null,
            "bottom": null,
            "display": null,
            "flex": null,
            "flex_flow": null,
            "grid_area": null,
            "grid_auto_columns": null,
            "grid_auto_flow": null,
            "grid_auto_rows": null,
            "grid_column": null,
            "grid_gap": null,
            "grid_row": null,
            "grid_template_areas": null,
            "grid_template_columns": null,
            "grid_template_rows": null,
            "height": null,
            "justify_content": null,
            "justify_items": null,
            "left": null,
            "margin": null,
            "max_height": null,
            "max_width": null,
            "min_height": null,
            "min_width": null,
            "object_fit": null,
            "object_position": null,
            "order": null,
            "overflow": null,
            "overflow_x": null,
            "overflow_y": null,
            "padding": null,
            "right": null,
            "top": null,
            "visibility": null,
            "width": null
          }
        },
        "c2286b962eae49a28c985942ccb12e0b": {
          "model_module": "@jupyter-widgets/controls",
          "model_name": "ProgressStyleModel",
          "model_module_version": "1.5.0",
          "state": {
            "_model_module": "@jupyter-widgets/controls",
            "_model_module_version": "1.5.0",
            "_model_name": "ProgressStyleModel",
            "_view_count": null,
            "_view_module": "@jupyter-widgets/base",
            "_view_module_version": "1.2.0",
            "_view_name": "StyleView",
            "bar_color": null,
            "description_width": ""
          }
        },
        "38f1818d63294ac1a6c5170ec2e22f87": {
          "model_module": "@jupyter-widgets/base",
          "model_name": "LayoutModel",
          "model_module_version": "1.2.0",
          "state": {
            "_model_module": "@jupyter-widgets/base",
            "_model_module_version": "1.2.0",
            "_model_name": "LayoutModel",
            "_view_count": null,
            "_view_module": "@jupyter-widgets/base",
            "_view_module_version": "1.2.0",
            "_view_name": "LayoutView",
            "align_content": null,
            "align_items": null,
            "align_self": null,
            "border": null,
            "bottom": null,
            "display": null,
            "flex": null,
            "flex_flow": null,
            "grid_area": null,
            "grid_auto_columns": null,
            "grid_auto_flow": null,
            "grid_auto_rows": null,
            "grid_column": null,
            "grid_gap": null,
            "grid_row": null,
            "grid_template_areas": null,
            "grid_template_columns": null,
            "grid_template_rows": null,
            "height": null,
            "justify_content": null,
            "justify_items": null,
            "left": null,
            "margin": null,
            "max_height": null,
            "max_width": null,
            "min_height": null,
            "min_width": null,
            "object_fit": null,
            "object_position": null,
            "order": null,
            "overflow": null,
            "overflow_x": null,
            "overflow_y": null,
            "padding": null,
            "right": null,
            "top": null,
            "visibility": null,
            "width": null
          }
        },
        "10c3745f60e141afb03a5bfecbabd5c9": {
          "model_module": "@jupyter-widgets/controls",
          "model_name": "DescriptionStyleModel",
          "model_module_version": "1.5.0",
          "state": {
            "_model_module": "@jupyter-widgets/controls",
            "_model_module_version": "1.5.0",
            "_model_name": "DescriptionStyleModel",
            "_view_count": null,
            "_view_module": "@jupyter-widgets/base",
            "_view_module_version": "1.2.0",
            "_view_name": "StyleView",
            "description_width": ""
          }
        }
      }
    }
  },
  "nbformat": 4,
  "nbformat_minor": 0
}